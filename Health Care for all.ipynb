{
 "cells": [
  {
   "cell_type": "markdown",
   "metadata": {
    "id": "7BxdS3wjgulL"
   },
   "source": [
    "## Before you jump into the notebook make sure you read the README file"
   ]
  },
  {
   "cell_type": "code",
   "execution_count": 1,
   "metadata": {},
   "outputs": [],
   "source": [
    "# printing several lines without using print command\n",
    "\n",
    "from IPython.core.interactiveshell import InteractiveShell\n",
    "InteractiveShell.ast_node_interactivity = \"all\""
   ]
  },
  {
   "cell_type": "code",
   "execution_count": 369,
   "metadata": {
    "id": "uQDtuTpIgulR"
   },
   "outputs": [],
   "source": [
    "# importing dedicated libraries\n",
    "\n",
    "import pandas as pd\n",
    "import numpy as np\n",
    "import matplotlib.pyplot as plt\n",
    "import seaborn as sns \n",
    "import sys\n",
    "import missingno\n",
    "import warnings\n",
    "warnings.filterwarnings('ignore')\n",
    "import statsmodels.api as sm\n",
    "from sklearn.model_selection import train_test_split\n",
    "from sklearn.utils import resample\n",
    "from sklearn.tree import DecisionTreeClassifier\n",
    "from sklearn.tree import DecisionTreeRegressor\n",
    "import random"
   ]
  },
  {
   "cell_type": "raw",
   "metadata": {},
   "source": [
    "sys.setrecursionlimit(50000)"
   ]
  },
  {
   "cell_type": "code",
   "execution_count": 158,
   "metadata": {
    "id": "B9-PcfNB5K4d"
   },
   "outputs": [
    {
     "data": {
      "text/plain": [
       "(95412, 481)"
      ]
     },
     "execution_count": 158,
     "metadata": {},
     "output_type": "execute_result"
    }
   ],
   "source": [
    "# Reading the data and shape\n",
    "\n",
    "data = pd.read_csv('learningSet.csv')\n",
    "data.shape\n",
    "#data.head()"
   ]
  },
  {
   "cell_type": "code",
   "execution_count": 82,
   "metadata": {
    "id": "j5Umg8I-3DNt"
   },
   "outputs": [],
   "source": [
    "import pickle\n",
    "import _pickle as cPickle"
   ]
  },
  {
   "cell_type": "code",
   "execution_count": 162,
   "metadata": {
    "colab": {
     "base_uri": "https://localhost:8080/",
     "height": 270
    },
    "id": "IhIQGVCo45Gf",
    "outputId": "d144344c-fa77-459f-aa9b-260814431a05"
   },
   "outputs": [
    {
     "data": {
      "text/html": [
       "<div>\n",
       "<style scoped>\n",
       "    .dataframe tbody tr th:only-of-type {\n",
       "        vertical-align: middle;\n",
       "    }\n",
       "\n",
       "    .dataframe tbody tr th {\n",
       "        vertical-align: top;\n",
       "    }\n",
       "\n",
       "    .dataframe thead th {\n",
       "        text-align: right;\n",
       "    }\n",
       "</style>\n",
       "<table border=\"1\" class=\"dataframe\">\n",
       "  <thead>\n",
       "    <tr style=\"text-align: right;\">\n",
       "      <th></th>\n",
       "      <th>ODATEDW</th>\n",
       "      <th>OSOURCE</th>\n",
       "      <th>TCODE</th>\n",
       "      <th>STATE</th>\n",
       "      <th>ZIP</th>\n",
       "      <th>MAILCODE</th>\n",
       "      <th>PVASTATE</th>\n",
       "      <th>DOB</th>\n",
       "      <th>NOEXCH</th>\n",
       "      <th>RECINHSE</th>\n",
       "      <th>...</th>\n",
       "      <th>TARGET_D</th>\n",
       "      <th>HPHONE_D</th>\n",
       "      <th>RFA_2R</th>\n",
       "      <th>RFA_2F</th>\n",
       "      <th>RFA_2A</th>\n",
       "      <th>MDMAUD_R</th>\n",
       "      <th>MDMAUD_F</th>\n",
       "      <th>MDMAUD_A</th>\n",
       "      <th>CLUSTER2</th>\n",
       "      <th>GEOCODE2</th>\n",
       "    </tr>\n",
       "  </thead>\n",
       "  <tbody>\n",
       "    <tr>\n",
       "      <td>0</td>\n",
       "      <td>8901</td>\n",
       "      <td>GRI</td>\n",
       "      <td>0</td>\n",
       "      <td>IL</td>\n",
       "      <td>61081</td>\n",
       "      <td></td>\n",
       "      <td></td>\n",
       "      <td>3712</td>\n",
       "      <td>0</td>\n",
       "      <td></td>\n",
       "      <td>...</td>\n",
       "      <td>0.0</td>\n",
       "      <td>0</td>\n",
       "      <td>L</td>\n",
       "      <td>4</td>\n",
       "      <td>E</td>\n",
       "      <td>X</td>\n",
       "      <td>X</td>\n",
       "      <td>X</td>\n",
       "      <td>39.0</td>\n",
       "      <td>C</td>\n",
       "    </tr>\n",
       "    <tr>\n",
       "      <td>1</td>\n",
       "      <td>9401</td>\n",
       "      <td>BOA</td>\n",
       "      <td>1</td>\n",
       "      <td>CA</td>\n",
       "      <td>91326</td>\n",
       "      <td></td>\n",
       "      <td></td>\n",
       "      <td>5202</td>\n",
       "      <td>0</td>\n",
       "      <td></td>\n",
       "      <td>...</td>\n",
       "      <td>0.0</td>\n",
       "      <td>0</td>\n",
       "      <td>L</td>\n",
       "      <td>2</td>\n",
       "      <td>G</td>\n",
       "      <td>X</td>\n",
       "      <td>X</td>\n",
       "      <td>X</td>\n",
       "      <td>1.0</td>\n",
       "      <td>A</td>\n",
       "    </tr>\n",
       "    <tr>\n",
       "      <td>2</td>\n",
       "      <td>9001</td>\n",
       "      <td>AMH</td>\n",
       "      <td>1</td>\n",
       "      <td>NC</td>\n",
       "      <td>27017</td>\n",
       "      <td></td>\n",
       "      <td></td>\n",
       "      <td>0</td>\n",
       "      <td>0</td>\n",
       "      <td></td>\n",
       "      <td>...</td>\n",
       "      <td>0.0</td>\n",
       "      <td>1</td>\n",
       "      <td>L</td>\n",
       "      <td>4</td>\n",
       "      <td>E</td>\n",
       "      <td>X</td>\n",
       "      <td>X</td>\n",
       "      <td>X</td>\n",
       "      <td>60.0</td>\n",
       "      <td>C</td>\n",
       "    </tr>\n",
       "    <tr>\n",
       "      <td>3</td>\n",
       "      <td>8701</td>\n",
       "      <td>BRY</td>\n",
       "      <td>0</td>\n",
       "      <td>CA</td>\n",
       "      <td>95953</td>\n",
       "      <td></td>\n",
       "      <td></td>\n",
       "      <td>2801</td>\n",
       "      <td>0</td>\n",
       "      <td></td>\n",
       "      <td>...</td>\n",
       "      <td>0.0</td>\n",
       "      <td>1</td>\n",
       "      <td>L</td>\n",
       "      <td>4</td>\n",
       "      <td>E</td>\n",
       "      <td>X</td>\n",
       "      <td>X</td>\n",
       "      <td>X</td>\n",
       "      <td>41.0</td>\n",
       "      <td>C</td>\n",
       "    </tr>\n",
       "    <tr>\n",
       "      <td>4</td>\n",
       "      <td>8601</td>\n",
       "      <td></td>\n",
       "      <td>0</td>\n",
       "      <td>FL</td>\n",
       "      <td>33176</td>\n",
       "      <td></td>\n",
       "      <td></td>\n",
       "      <td>2001</td>\n",
       "      <td>0</td>\n",
       "      <td>X</td>\n",
       "      <td>...</td>\n",
       "      <td>0.0</td>\n",
       "      <td>1</td>\n",
       "      <td>L</td>\n",
       "      <td>2</td>\n",
       "      <td>F</td>\n",
       "      <td>X</td>\n",
       "      <td>X</td>\n",
       "      <td>X</td>\n",
       "      <td>26.0</td>\n",
       "      <td>A</td>\n",
       "    </tr>\n",
       "  </tbody>\n",
       "</table>\n",
       "<p>5 rows × 481 columns</p>\n",
       "</div>"
      ],
      "text/plain": [
       "   ODATEDW OSOURCE  TCODE STATE    ZIP MAILCODE PVASTATE   DOB NOEXCH  \\\n",
       "0     8901     GRI      0    IL  61081                    3712      0   \n",
       "1     9401     BOA      1    CA  91326                    5202      0   \n",
       "2     9001     AMH      1    NC  27017                       0      0   \n",
       "3     8701     BRY      0    CA  95953                    2801      0   \n",
       "4     8601              0    FL  33176                    2001      0   \n",
       "\n",
       "  RECINHSE  ... TARGET_D HPHONE_D RFA_2R RFA_2F RFA_2A MDMAUD_R  MDMAUD_F  \\\n",
       "0           ...      0.0        0      L      4      E        X         X   \n",
       "1           ...      0.0        0      L      2      G        X         X   \n",
       "2           ...      0.0        1      L      4      E        X         X   \n",
       "3           ...      0.0        1      L      4      E        X         X   \n",
       "4        X  ...      0.0        1      L      2      F        X         X   \n",
       "\n",
       "  MDMAUD_A CLUSTER2 GEOCODE2  \n",
       "0        X     39.0        C  \n",
       "1        X      1.0        A  \n",
       "2        X     60.0        C  \n",
       "3        X     41.0        C  \n",
       "4        X     26.0        A  \n",
       "\n",
       "[5 rows x 481 columns]"
      ]
     },
     "execution_count": 162,
     "metadata": {},
     "output_type": "execute_result"
    }
   ],
   "source": [
    "# showing the data\n",
    "\n",
    "data.head()"
   ]
  },
  {
   "cell_type": "code",
   "execution_count": 163,
   "metadata": {
    "colab": {
     "base_uri": "https://localhost:8080/"
    },
    "id": "ch4kkMnKgulS",
    "outputId": "5b307dfb-e0a4-4086-9199-d3d047809394"
   },
   "outputs": [
    {
     "data": {
      "text/plain": [
       "0    90569\n",
       "1     4843\n",
       "Name: TARGET_B, dtype: int64"
      ]
     },
     "execution_count": 163,
     "metadata": {},
     "output_type": "execute_result"
    }
   ],
   "source": [
    "# Checking the target B data, which is the amount of people that donated money. 0 == No, 1== Yes\n",
    "\n",
    "data['TARGET_B'].value_counts(dropna= False)"
   ]
  },
  {
   "cell_type": "code",
   "execution_count": 164,
   "metadata": {
    "colab": {
     "base_uri": "https://localhost:8080/"
    },
    "id": "Am5x0WrPgulT",
    "outputId": "24140373-7ff0-42b4-e64f-4d234295b435"
   },
   "outputs": [
    {
     "data": {
      "text/plain": [
       "count    95412.000000\n",
       "mean         0.793073\n",
       "std          4.429725\n",
       "min          0.000000\n",
       "25%          0.000000\n",
       "50%          0.000000\n",
       "75%          0.000000\n",
       "max        200.000000\n",
       "Name: TARGET_D, dtype: float64"
      ]
     },
     "execution_count": 164,
     "metadata": {},
     "output_type": "execute_result"
    }
   ],
   "source": [
    "# Checking the target D data, which is how much people donated money. 0 == No, 1== Yes\n",
    "\n",
    "data['TARGET_D'].describe()"
   ]
  },
  {
   "cell_type": "code",
   "execution_count": 165,
   "metadata": {
    "colab": {
     "base_uri": "https://localhost:8080/",
     "height": 419
    },
    "id": "Cd7wYAqXgulU",
    "outputId": "0b3ecdf4-86e7-4e3f-e4e5-82aeb803566a",
    "scrolled": false
   },
   "outputs": [
    {
     "data": {
      "text/html": [
       "<div>\n",
       "<style scoped>\n",
       "    .dataframe tbody tr th:only-of-type {\n",
       "        vertical-align: middle;\n",
       "    }\n",
       "\n",
       "    .dataframe tbody tr th {\n",
       "        vertical-align: top;\n",
       "    }\n",
       "\n",
       "    .dataframe thead th {\n",
       "        text-align: right;\n",
       "    }\n",
       "</style>\n",
       "<table border=\"1\" class=\"dataframe\">\n",
       "  <thead>\n",
       "    <tr style=\"text-align: right;\">\n",
       "      <th></th>\n",
       "      <th>column_name</th>\n",
       "      <th>nulls_percentage</th>\n",
       "    </tr>\n",
       "  </thead>\n",
       "  <tbody>\n",
       "    <tr>\n",
       "      <td>0</td>\n",
       "      <td>ODATEDW</td>\n",
       "      <td>0.000000</td>\n",
       "    </tr>\n",
       "    <tr>\n",
       "      <td>1</td>\n",
       "      <td>OSOURCE</td>\n",
       "      <td>0.000000</td>\n",
       "    </tr>\n",
       "    <tr>\n",
       "      <td>2</td>\n",
       "      <td>TCODE</td>\n",
       "      <td>0.000000</td>\n",
       "    </tr>\n",
       "    <tr>\n",
       "      <td>3</td>\n",
       "      <td>STATE</td>\n",
       "      <td>0.000000</td>\n",
       "    </tr>\n",
       "    <tr>\n",
       "      <td>4</td>\n",
       "      <td>ZIP</td>\n",
       "      <td>0.000000</td>\n",
       "    </tr>\n",
       "    <tr>\n",
       "      <td>...</td>\n",
       "      <td>...</td>\n",
       "      <td>...</td>\n",
       "    </tr>\n",
       "    <tr>\n",
       "      <td>476</td>\n",
       "      <td>MDMAUD_R</td>\n",
       "      <td>0.000000</td>\n",
       "    </tr>\n",
       "    <tr>\n",
       "      <td>477</td>\n",
       "      <td>MDMAUD_F</td>\n",
       "      <td>0.000000</td>\n",
       "    </tr>\n",
       "    <tr>\n",
       "      <td>478</td>\n",
       "      <td>MDMAUD_A</td>\n",
       "      <td>0.000000</td>\n",
       "    </tr>\n",
       "    <tr>\n",
       "      <td>479</td>\n",
       "      <td>CLUSTER2</td>\n",
       "      <td>0.001383</td>\n",
       "    </tr>\n",
       "    <tr>\n",
       "      <td>480</td>\n",
       "      <td>GEOCODE2</td>\n",
       "      <td>0.001383</td>\n",
       "    </tr>\n",
       "  </tbody>\n",
       "</table>\n",
       "<p>481 rows × 2 columns</p>\n",
       "</div>"
      ],
      "text/plain": [
       "    column_name  nulls_percentage\n",
       "0       ODATEDW          0.000000\n",
       "1       OSOURCE          0.000000\n",
       "2         TCODE          0.000000\n",
       "3         STATE          0.000000\n",
       "4           ZIP          0.000000\n",
       "..          ...               ...\n",
       "476    MDMAUD_R          0.000000\n",
       "477    MDMAUD_F          0.000000\n",
       "478    MDMAUD_A          0.000000\n",
       "479    CLUSTER2          0.001383\n",
       "480    GEOCODE2          0.001383\n",
       "\n",
       "[481 rows x 2 columns]"
      ]
     },
     "execution_count": 165,
     "metadata": {},
     "output_type": "execute_result"
    }
   ],
   "source": [
    "# Reviewing data\n",
    "\n",
    "nulls_percent_df = pd.DataFrame(data.isna().sum()/len(data)).reset_index()\n",
    "nulls_percent_df.columns = ['column_name', 'nulls_percentage']\n",
    "nulls_percent_df"
   ]
  },
  {
   "cell_type": "code",
   "execution_count": 166,
   "metadata": {
    "colab": {
     "base_uri": "https://localhost:8080/",
     "height": 419
    },
    "id": "9rvjMejT6U41",
    "outputId": "215f14c7-de3f-44b9-a6bc-0df6320ff81d"
   },
   "outputs": [
    {
     "data": {
      "text/html": [
       "<div>\n",
       "<style scoped>\n",
       "    .dataframe tbody tr th:only-of-type {\n",
       "        vertical-align: middle;\n",
       "    }\n",
       "\n",
       "    .dataframe tbody tr th {\n",
       "        vertical-align: top;\n",
       "    }\n",
       "\n",
       "    .dataframe thead th {\n",
       "        text-align: right;\n",
       "    }\n",
       "</style>\n",
       "<table border=\"1\" class=\"dataframe\">\n",
       "  <thead>\n",
       "    <tr style=\"text-align: right;\">\n",
       "      <th></th>\n",
       "      <th>column_name</th>\n",
       "      <th>nulls_percentage</th>\n",
       "    </tr>\n",
       "  </thead>\n",
       "  <tbody>\n",
       "    <tr>\n",
       "      <td>16</td>\n",
       "      <td>AGE</td>\n",
       "      <td>0.248030</td>\n",
       "    </tr>\n",
       "    <tr>\n",
       "      <td>23</td>\n",
       "      <td>NUMCHLD</td>\n",
       "      <td>0.870184</td>\n",
       "    </tr>\n",
       "    <tr>\n",
       "      <td>24</td>\n",
       "      <td>INCOME</td>\n",
       "      <td>0.223096</td>\n",
       "    </tr>\n",
       "    <tr>\n",
       "      <td>26</td>\n",
       "      <td>WEALTH1</td>\n",
       "      <td>0.468830</td>\n",
       "    </tr>\n",
       "    <tr>\n",
       "      <td>28</td>\n",
       "      <td>MBCRAFT</td>\n",
       "      <td>0.553955</td>\n",
       "    </tr>\n",
       "    <tr>\n",
       "      <td>...</td>\n",
       "      <td>...</td>\n",
       "      <td>...</td>\n",
       "    </tr>\n",
       "    <tr>\n",
       "      <td>455</td>\n",
       "      <td>RAMNT_24</td>\n",
       "      <td>0.814090</td>\n",
       "    </tr>\n",
       "    <tr>\n",
       "      <td>466</td>\n",
       "      <td>NEXTDATE</td>\n",
       "      <td>0.104526</td>\n",
       "    </tr>\n",
       "    <tr>\n",
       "      <td>467</td>\n",
       "      <td>TIMELAG</td>\n",
       "      <td>0.104526</td>\n",
       "    </tr>\n",
       "    <tr>\n",
       "      <td>479</td>\n",
       "      <td>CLUSTER2</td>\n",
       "      <td>0.001383</td>\n",
       "    </tr>\n",
       "    <tr>\n",
       "      <td>480</td>\n",
       "      <td>GEOCODE2</td>\n",
       "      <td>0.001383</td>\n",
       "    </tr>\n",
       "  </tbody>\n",
       "</table>\n",
       "<p>92 rows × 2 columns</p>\n",
       "</div>"
      ],
      "text/plain": [
       "    column_name  nulls_percentage\n",
       "16          AGE          0.248030\n",
       "23      NUMCHLD          0.870184\n",
       "24       INCOME          0.223096\n",
       "26      WEALTH1          0.468830\n",
       "28      MBCRAFT          0.553955\n",
       "..          ...               ...\n",
       "455    RAMNT_24          0.814090\n",
       "466    NEXTDATE          0.104526\n",
       "467     TIMELAG          0.104526\n",
       "479    CLUSTER2          0.001383\n",
       "480    GEOCODE2          0.001383\n",
       "\n",
       "[92 rows x 2 columns]"
      ]
     },
     "execution_count": 166,
     "metadata": {},
     "output_type": "execute_result"
    }
   ],
   "source": [
    "nulls_percent_df[nulls_percent_df['nulls_percentage']!=0]"
   ]
  },
  {
   "cell_type": "code",
   "execution_count": 167,
   "metadata": {
    "colab": {
     "base_uri": "https://localhost:8080/"
    },
    "id": "H27JCHqIgulU",
    "outputId": "49b59bd3-84ac-492f-d810-cfa5d0657006"
   },
   "outputs": [
    {
     "data": {
      "text/plain": [
       "23      NUMCHLD\n",
       "26      WEALTH1\n",
       "28      MBCRAFT\n",
       "29     MBGARDEN\n",
       "30      MBBOOKS\n",
       "         ...   \n",
       "451    RAMNT_20\n",
       "452    RAMNT_21\n",
       "453    RAMNT_22\n",
       "454    RAMNT_23\n",
       "455    RAMNT_24\n",
       "Name: column_name, Length: 72, dtype: object"
      ]
     },
     "execution_count": 167,
     "metadata": {},
     "output_type": "execute_result"
    }
   ],
   "source": [
    "columns_above_threshold = nulls_percent_df[nulls_percent_df['nulls_percentage']>0.25]\n",
    "columns_above_threshold['column_name']"
   ]
  },
  {
   "cell_type": "code",
   "execution_count": 168,
   "metadata": {
    "colab": {
     "base_uri": "https://localhost:8080/"
    },
    "id": "BnYtuY7CgulV",
    "outputId": "0e77b1a5-5147-48b1-f703-047413b3ccbd"
   },
   "outputs": [
    {
     "name": "stdout",
     "output_type": "stream",
     "text": [
      "['NUMCHLD', 'WEALTH1', 'MBCRAFT', 'MBGARDEN', 'MBBOOKS', 'MBCOLECT', 'MAGFAML', 'MAGFEM', 'MAGMALE', 'PUBGARDN', 'PUBCULIN', 'PUBHLTH', 'PUBDOITY', 'PUBNEWFN', 'PUBPHOTO', 'PUBOPP', 'WEALTH2', 'ADATE_5', 'ADATE_10', 'ADATE_13', 'ADATE_15', 'ADATE_17', 'ADATE_19', 'ADATE_20', 'ADATE_21', 'ADATE_22', 'ADATE_23', 'ADATE_24', 'RDATE_3', 'RDATE_4', 'RDATE_5', 'RDATE_6', 'RDATE_7', 'RDATE_8', 'RDATE_9', 'RDATE_10', 'RDATE_11', 'RDATE_12', 'RDATE_13', 'RDATE_14', 'RDATE_15', 'RDATE_16', 'RDATE_17', 'RDATE_18', 'RDATE_19', 'RDATE_20', 'RDATE_21', 'RDATE_22', 'RDATE_23', 'RDATE_24', 'RAMNT_3', 'RAMNT_4', 'RAMNT_5', 'RAMNT_6', 'RAMNT_7', 'RAMNT_8', 'RAMNT_9', 'RAMNT_10', 'RAMNT_11', 'RAMNT_12', 'RAMNT_13', 'RAMNT_14', 'RAMNT_15', 'RAMNT_16', 'RAMNT_17', 'RAMNT_18', 'RAMNT_19', 'RAMNT_20', 'RAMNT_21', 'RAMNT_22', 'RAMNT_23', 'RAMNT_24']\n"
     ]
    },
    {
     "data": {
      "text/plain": [
       "72"
      ]
     },
     "execution_count": 168,
     "metadata": {},
     "output_type": "execute_result"
    }
   ],
   "source": [
    "drop_columns_list_1 = list(columns_above_threshold['column_name'])\n",
    "print(drop_columns_list_1)\n",
    "len(drop_columns_list_1)"
   ]
  },
  {
   "cell_type": "markdown",
   "metadata": {
    "id": "qy3vrGB3gulV"
   },
   "source": [
    "From the list above that includes the columns that have over 25% null values, you discussed with your manager you were told that the following columns are important -> wealth1, wealth2\n",
    "We will remove these variables from the above list \n",
    "RDATE3, RAMNT_3 are important but they have too many null values "
   ]
  },
  {
   "cell_type": "code",
   "execution_count": 169,
   "metadata": {
    "colab": {
     "base_uri": "https://localhost:8080/"
    },
    "id": "Yv-nx-W8gulW",
    "outputId": "a383ff57-ca7b-40df-8d76-547229864c28"
   },
   "outputs": [
    {
     "name": "stdout",
     "output_type": "stream",
     "text": [
      "['NUMCHLD', 'MBCRAFT', 'MBGARDEN', 'MBBOOKS', 'MBCOLECT', 'MAGFAML', 'MAGFEM', 'MAGMALE', 'PUBGARDN', 'PUBCULIN', 'PUBHLTH', 'PUBDOITY', 'PUBNEWFN', 'PUBPHOTO', 'PUBOPP', 'ADATE_5', 'ADATE_10', 'ADATE_13', 'ADATE_15', 'ADATE_17', 'ADATE_19', 'ADATE_20', 'ADATE_21', 'ADATE_22', 'ADATE_23', 'ADATE_24', 'RDATE_3', 'RDATE_4', 'RDATE_5', 'RDATE_6', 'RDATE_7', 'RDATE_8', 'RDATE_9', 'RDATE_10', 'RDATE_11', 'RDATE_12', 'RDATE_13', 'RDATE_14', 'RDATE_15', 'RDATE_16', 'RDATE_17', 'RDATE_18', 'RDATE_19', 'RDATE_20', 'RDATE_21', 'RDATE_22', 'RDATE_23', 'RDATE_24', 'RAMNT_3', 'RAMNT_4', 'RAMNT_5', 'RAMNT_6', 'RAMNT_7', 'RAMNT_8', 'RAMNT_9', 'RAMNT_10', 'RAMNT_11', 'RAMNT_12', 'RAMNT_13', 'RAMNT_14', 'RAMNT_15', 'RAMNT_16', 'RAMNT_17', 'RAMNT_18', 'RAMNT_19', 'RAMNT_20', 'RAMNT_21', 'RAMNT_22', 'RAMNT_23', 'RAMNT_24']\n"
     ]
    }
   ],
   "source": [
    "# Removing important columns from the list\n",
    "\n",
    "cols = ['WEALTH1', 'WEALTH2']\n",
    "for item in cols:\n",
    "    drop_columns_list_1.remove(item)  \n",
    "print(drop_columns_list_1)\n"
   ]
  },
  {
   "cell_type": "code",
   "execution_count": 170,
   "metadata": {},
   "outputs": [
    {
     "data": {
      "text/plain": [
       "70"
      ]
     },
     "execution_count": 170,
     "metadata": {},
     "output_type": "execute_result"
    }
   ],
   "source": [
    "len(drop_columns_list_1)"
   ]
  },
  {
   "cell_type": "code",
   "execution_count": 171,
   "metadata": {
    "colab": {
     "base_uri": "https://localhost:8080/"
    },
    "id": "7CFRhSasgulW",
    "outputId": "7a8a31e5-8ba6-466a-8e3d-08ebb100408f"
   },
   "outputs": [
    {
     "data": {
      "text/plain": [
       "(95412, 411)"
      ]
     },
     "execution_count": 171,
     "metadata": {},
     "output_type": "execute_result"
    }
   ],
   "source": [
    "data = data.drop(columns=drop_columns_list_1)\n",
    "data.shape"
   ]
  },
  {
   "cell_type": "markdown",
   "metadata": {
    "id": "i8M_c2RcgulW"
   },
   "source": [
    "## More data cleaning"
   ]
  },
  {
   "cell_type": "code",
   "execution_count": 172,
   "metadata": {
    "colab": {
     "base_uri": "https://localhost:8080/",
     "height": 253
    },
    "id": "k8LfcsVQgulW",
    "outputId": "e04bff62-a4df-4e29-d30d-5d9b28d769ab"
   },
   "outputs": [
    {
     "data": {
      "text/html": [
       "<div>\n",
       "<style scoped>\n",
       "    .dataframe tbody tr th:only-of-type {\n",
       "        vertical-align: middle;\n",
       "    }\n",
       "\n",
       "    .dataframe tbody tr th {\n",
       "        vertical-align: top;\n",
       "    }\n",
       "\n",
       "    .dataframe thead th {\n",
       "        text-align: right;\n",
       "    }\n",
       "</style>\n",
       "<table border=\"1\" class=\"dataframe\">\n",
       "  <thead>\n",
       "    <tr style=\"text-align: right;\">\n",
       "      <th></th>\n",
       "      <th>ODATEDW</th>\n",
       "      <th>OSOURCE</th>\n",
       "      <th>TCODE</th>\n",
       "      <th>STATE</th>\n",
       "      <th>ZIP</th>\n",
       "      <th>MAILCODE</th>\n",
       "      <th>PVASTATE</th>\n",
       "      <th>DOB</th>\n",
       "      <th>NOEXCH</th>\n",
       "      <th>RECINHSE</th>\n",
       "      <th>...</th>\n",
       "      <th>TARGET_D</th>\n",
       "      <th>HPHONE_D</th>\n",
       "      <th>RFA_2R</th>\n",
       "      <th>RFA_2F</th>\n",
       "      <th>RFA_2A</th>\n",
       "      <th>MDMAUD_R</th>\n",
       "      <th>MDMAUD_F</th>\n",
       "      <th>MDMAUD_A</th>\n",
       "      <th>CLUSTER2</th>\n",
       "      <th>GEOCODE2</th>\n",
       "    </tr>\n",
       "  </thead>\n",
       "  <tbody>\n",
       "    <tr>\n",
       "      <td>0</td>\n",
       "      <td>8901</td>\n",
       "      <td>GRI</td>\n",
       "      <td>0</td>\n",
       "      <td>IL</td>\n",
       "      <td>61081</td>\n",
       "      <td></td>\n",
       "      <td></td>\n",
       "      <td>3712</td>\n",
       "      <td>0</td>\n",
       "      <td></td>\n",
       "      <td>...</td>\n",
       "      <td>0.0</td>\n",
       "      <td>0</td>\n",
       "      <td>L</td>\n",
       "      <td>4</td>\n",
       "      <td>E</td>\n",
       "      <td>X</td>\n",
       "      <td>X</td>\n",
       "      <td>X</td>\n",
       "      <td>39.0</td>\n",
       "      <td>C</td>\n",
       "    </tr>\n",
       "    <tr>\n",
       "      <td>1</td>\n",
       "      <td>9401</td>\n",
       "      <td>BOA</td>\n",
       "      <td>1</td>\n",
       "      <td>CA</td>\n",
       "      <td>91326</td>\n",
       "      <td></td>\n",
       "      <td></td>\n",
       "      <td>5202</td>\n",
       "      <td>0</td>\n",
       "      <td></td>\n",
       "      <td>...</td>\n",
       "      <td>0.0</td>\n",
       "      <td>0</td>\n",
       "      <td>L</td>\n",
       "      <td>2</td>\n",
       "      <td>G</td>\n",
       "      <td>X</td>\n",
       "      <td>X</td>\n",
       "      <td>X</td>\n",
       "      <td>1.0</td>\n",
       "      <td>A</td>\n",
       "    </tr>\n",
       "    <tr>\n",
       "      <td>2</td>\n",
       "      <td>9001</td>\n",
       "      <td>AMH</td>\n",
       "      <td>1</td>\n",
       "      <td>NC</td>\n",
       "      <td>27017</td>\n",
       "      <td></td>\n",
       "      <td></td>\n",
       "      <td>0</td>\n",
       "      <td>0</td>\n",
       "      <td></td>\n",
       "      <td>...</td>\n",
       "      <td>0.0</td>\n",
       "      <td>1</td>\n",
       "      <td>L</td>\n",
       "      <td>4</td>\n",
       "      <td>E</td>\n",
       "      <td>X</td>\n",
       "      <td>X</td>\n",
       "      <td>X</td>\n",
       "      <td>60.0</td>\n",
       "      <td>C</td>\n",
       "    </tr>\n",
       "    <tr>\n",
       "      <td>3</td>\n",
       "      <td>8701</td>\n",
       "      <td>BRY</td>\n",
       "      <td>0</td>\n",
       "      <td>CA</td>\n",
       "      <td>95953</td>\n",
       "      <td></td>\n",
       "      <td></td>\n",
       "      <td>2801</td>\n",
       "      <td>0</td>\n",
       "      <td></td>\n",
       "      <td>...</td>\n",
       "      <td>0.0</td>\n",
       "      <td>1</td>\n",
       "      <td>L</td>\n",
       "      <td>4</td>\n",
       "      <td>E</td>\n",
       "      <td>X</td>\n",
       "      <td>X</td>\n",
       "      <td>X</td>\n",
       "      <td>41.0</td>\n",
       "      <td>C</td>\n",
       "    </tr>\n",
       "    <tr>\n",
       "      <td>4</td>\n",
       "      <td>8601</td>\n",
       "      <td></td>\n",
       "      <td>0</td>\n",
       "      <td>FL</td>\n",
       "      <td>33176</td>\n",
       "      <td></td>\n",
       "      <td></td>\n",
       "      <td>2001</td>\n",
       "      <td>0</td>\n",
       "      <td>X</td>\n",
       "      <td>...</td>\n",
       "      <td>0.0</td>\n",
       "      <td>1</td>\n",
       "      <td>L</td>\n",
       "      <td>2</td>\n",
       "      <td>F</td>\n",
       "      <td>X</td>\n",
       "      <td>X</td>\n",
       "      <td>X</td>\n",
       "      <td>26.0</td>\n",
       "      <td>A</td>\n",
       "    </tr>\n",
       "  </tbody>\n",
       "</table>\n",
       "<p>5 rows × 411 columns</p>\n",
       "</div>"
      ],
      "text/plain": [
       "   ODATEDW OSOURCE  TCODE STATE    ZIP MAILCODE PVASTATE   DOB NOEXCH  \\\n",
       "0     8901     GRI      0    IL  61081                    3712      0   \n",
       "1     9401     BOA      1    CA  91326                    5202      0   \n",
       "2     9001     AMH      1    NC  27017                       0      0   \n",
       "3     8701     BRY      0    CA  95953                    2801      0   \n",
       "4     8601              0    FL  33176                    2001      0   \n",
       "\n",
       "  RECINHSE  ... TARGET_D HPHONE_D RFA_2R RFA_2F RFA_2A MDMAUD_R  MDMAUD_F  \\\n",
       "0           ...      0.0        0      L      4      E        X         X   \n",
       "1           ...      0.0        0      L      2      G        X         X   \n",
       "2           ...      0.0        1      L      4      E        X         X   \n",
       "3           ...      0.0        1      L      4      E        X         X   \n",
       "4        X  ...      0.0        1      L      2      F        X         X   \n",
       "\n",
       "  MDMAUD_A CLUSTER2 GEOCODE2  \n",
       "0        X     39.0        C  \n",
       "1        X      1.0        A  \n",
       "2        X     60.0        C  \n",
       "3        X     41.0        C  \n",
       "4        X     26.0        A  \n",
       "\n",
       "[5 rows x 411 columns]"
      ]
     },
     "execution_count": 172,
     "metadata": {},
     "output_type": "execute_result"
    }
   ],
   "source": [
    "data.head()"
   ]
  },
  {
   "cell_type": "markdown",
   "metadata": {
    "id": "J16HXxbUgulX"
   },
   "source": [
    "We can see that there are a lot of columns that have blank spaces which represent no value in this case. \n",
    "They were not identified as null values by python as they are empty spaces that are read as character values by \n",
    "python. We will replace those values by NaNs and repeat the analysis \n",
    "\n",
    "Before we do that we will replace the blank values from the column \"MAILCODE\" by \"A\" which would mean the address is okay (pl check the definition of the variable in the description)"
   ]
  },
  {
   "cell_type": "code",
   "execution_count": 173,
   "metadata": {
    "colab": {
     "base_uri": "https://localhost:8080/"
    },
    "id": "2ma4YVP7gulX",
    "outputId": "05a3358b-20c6-4738-d239-bbf3901a266f"
   },
   "outputs": [
    {
     "data": {
      "text/plain": [
       "     94013\n",
       "B     1399\n",
       "Name: MAILCODE, dtype: int64"
      ]
     },
     "execution_count": 173,
     "metadata": {},
     "output_type": "execute_result"
    }
   ],
   "source": [
    "data['MAILCODE'].value_counts()"
   ]
  },
  {
   "cell_type": "code",
   "execution_count": 174,
   "metadata": {
    "id": "Il6fU7EVgulX"
   },
   "outputs": [],
   "source": [
    "data['MAILCODE'] = data['MAILCODE'].apply(lambda x: x.replace(\" \", \"A\"))"
   ]
  },
  {
   "cell_type": "code",
   "execution_count": 96,
   "metadata": {
    "id": "1XrbY5EqgulX"
   },
   "outputs": [],
   "source": [
    "# Now we can replace the rest space characters with np.NaN"
   ]
  },
  {
   "cell_type": "code",
   "execution_count": 176,
   "metadata": {
    "id": "TLGZ_CWBgulY"
   },
   "outputs": [],
   "source": [
    "data = data.apply(lambda x: x.replace(\" \", np.NaN))"
   ]
  },
  {
   "cell_type": "code",
   "execution_count": 98,
   "metadata": {
    "colab": {
     "base_uri": "https://localhost:8080/",
     "height": 253
    },
    "id": "SJL4ENIggulY",
    "outputId": "42d7c4b7-5f40-4c61-e1b1-6c2b76ff982f"
   },
   "outputs": [
    {
     "data": {
      "text/html": [
       "<div>\n",
       "<style scoped>\n",
       "    .dataframe tbody tr th:only-of-type {\n",
       "        vertical-align: middle;\n",
       "    }\n",
       "\n",
       "    .dataframe tbody tr th {\n",
       "        vertical-align: top;\n",
       "    }\n",
       "\n",
       "    .dataframe thead th {\n",
       "        text-align: right;\n",
       "    }\n",
       "</style>\n",
       "<table border=\"1\" class=\"dataframe\">\n",
       "  <thead>\n",
       "    <tr style=\"text-align: right;\">\n",
       "      <th></th>\n",
       "      <th>ODATEDW</th>\n",
       "      <th>OSOURCE</th>\n",
       "      <th>TCODE</th>\n",
       "      <th>STATE</th>\n",
       "      <th>ZIP</th>\n",
       "      <th>MAILCODE</th>\n",
       "      <th>PVASTATE</th>\n",
       "      <th>DOB</th>\n",
       "      <th>NOEXCH</th>\n",
       "      <th>RECINHSE</th>\n",
       "      <th>...</th>\n",
       "      <th>TARGET_D</th>\n",
       "      <th>HPHONE_D</th>\n",
       "      <th>RFA_2R</th>\n",
       "      <th>RFA_2F</th>\n",
       "      <th>RFA_2A</th>\n",
       "      <th>MDMAUD_R</th>\n",
       "      <th>MDMAUD_F</th>\n",
       "      <th>MDMAUD_A</th>\n",
       "      <th>CLUSTER2</th>\n",
       "      <th>GEOCODE2</th>\n",
       "    </tr>\n",
       "  </thead>\n",
       "  <tbody>\n",
       "    <tr>\n",
       "      <td>0</td>\n",
       "      <td>8901</td>\n",
       "      <td>GRI</td>\n",
       "      <td>0</td>\n",
       "      <td>IL</td>\n",
       "      <td>61081</td>\n",
       "      <td>A</td>\n",
       "      <td>NaN</td>\n",
       "      <td>3712</td>\n",
       "      <td>0</td>\n",
       "      <td>NaN</td>\n",
       "      <td>...</td>\n",
       "      <td>0.0</td>\n",
       "      <td>0</td>\n",
       "      <td>L</td>\n",
       "      <td>4</td>\n",
       "      <td>E</td>\n",
       "      <td>X</td>\n",
       "      <td>X</td>\n",
       "      <td>X</td>\n",
       "      <td>39.0</td>\n",
       "      <td>C</td>\n",
       "    </tr>\n",
       "    <tr>\n",
       "      <td>1</td>\n",
       "      <td>9401</td>\n",
       "      <td>BOA</td>\n",
       "      <td>1</td>\n",
       "      <td>CA</td>\n",
       "      <td>91326</td>\n",
       "      <td>A</td>\n",
       "      <td>NaN</td>\n",
       "      <td>5202</td>\n",
       "      <td>0</td>\n",
       "      <td>NaN</td>\n",
       "      <td>...</td>\n",
       "      <td>0.0</td>\n",
       "      <td>0</td>\n",
       "      <td>L</td>\n",
       "      <td>2</td>\n",
       "      <td>G</td>\n",
       "      <td>X</td>\n",
       "      <td>X</td>\n",
       "      <td>X</td>\n",
       "      <td>1.0</td>\n",
       "      <td>A</td>\n",
       "    </tr>\n",
       "    <tr>\n",
       "      <td>2</td>\n",
       "      <td>9001</td>\n",
       "      <td>AMH</td>\n",
       "      <td>1</td>\n",
       "      <td>NC</td>\n",
       "      <td>27017</td>\n",
       "      <td>A</td>\n",
       "      <td>NaN</td>\n",
       "      <td>0</td>\n",
       "      <td>0</td>\n",
       "      <td>NaN</td>\n",
       "      <td>...</td>\n",
       "      <td>0.0</td>\n",
       "      <td>1</td>\n",
       "      <td>L</td>\n",
       "      <td>4</td>\n",
       "      <td>E</td>\n",
       "      <td>X</td>\n",
       "      <td>X</td>\n",
       "      <td>X</td>\n",
       "      <td>60.0</td>\n",
       "      <td>C</td>\n",
       "    </tr>\n",
       "    <tr>\n",
       "      <td>3</td>\n",
       "      <td>8701</td>\n",
       "      <td>BRY</td>\n",
       "      <td>0</td>\n",
       "      <td>CA</td>\n",
       "      <td>95953</td>\n",
       "      <td>A</td>\n",
       "      <td>NaN</td>\n",
       "      <td>2801</td>\n",
       "      <td>0</td>\n",
       "      <td>NaN</td>\n",
       "      <td>...</td>\n",
       "      <td>0.0</td>\n",
       "      <td>1</td>\n",
       "      <td>L</td>\n",
       "      <td>4</td>\n",
       "      <td>E</td>\n",
       "      <td>X</td>\n",
       "      <td>X</td>\n",
       "      <td>X</td>\n",
       "      <td>41.0</td>\n",
       "      <td>C</td>\n",
       "    </tr>\n",
       "    <tr>\n",
       "      <td>4</td>\n",
       "      <td>8601</td>\n",
       "      <td>NaN</td>\n",
       "      <td>0</td>\n",
       "      <td>FL</td>\n",
       "      <td>33176</td>\n",
       "      <td>A</td>\n",
       "      <td>NaN</td>\n",
       "      <td>2001</td>\n",
       "      <td>0</td>\n",
       "      <td>X</td>\n",
       "      <td>...</td>\n",
       "      <td>0.0</td>\n",
       "      <td>1</td>\n",
       "      <td>L</td>\n",
       "      <td>2</td>\n",
       "      <td>F</td>\n",
       "      <td>X</td>\n",
       "      <td>X</td>\n",
       "      <td>X</td>\n",
       "      <td>26.0</td>\n",
       "      <td>A</td>\n",
       "    </tr>\n",
       "  </tbody>\n",
       "</table>\n",
       "<p>5 rows × 411 columns</p>\n",
       "</div>"
      ],
      "text/plain": [
       "   ODATEDW OSOURCE  TCODE STATE    ZIP MAILCODE PVASTATE   DOB NOEXCH  \\\n",
       "0     8901     GRI      0    IL  61081        A      NaN  3712      0   \n",
       "1     9401     BOA      1    CA  91326        A      NaN  5202      0   \n",
       "2     9001     AMH      1    NC  27017        A      NaN     0      0   \n",
       "3     8701     BRY      0    CA  95953        A      NaN  2801      0   \n",
       "4     8601     NaN      0    FL  33176        A      NaN  2001      0   \n",
       "\n",
       "  RECINHSE  ... TARGET_D HPHONE_D RFA_2R RFA_2F RFA_2A MDMAUD_R  MDMAUD_F  \\\n",
       "0      NaN  ...      0.0        0      L      4      E        X         X   \n",
       "1      NaN  ...      0.0        0      L      2      G        X         X   \n",
       "2      NaN  ...      0.0        1      L      4      E        X         X   \n",
       "3      NaN  ...      0.0        1      L      4      E        X         X   \n",
       "4        X  ...      0.0        1      L      2      F        X         X   \n",
       "\n",
       "  MDMAUD_A CLUSTER2 GEOCODE2  \n",
       "0        X     39.0        C  \n",
       "1        X      1.0        A  \n",
       "2        X     60.0        C  \n",
       "3        X     41.0        C  \n",
       "4        X     26.0        A  \n",
       "\n",
       "[5 rows x 411 columns]"
      ]
     },
     "execution_count": 98,
     "metadata": {},
     "output_type": "execute_result"
    }
   ],
   "source": [
    "data.head()"
   ]
  },
  {
   "cell_type": "code",
   "execution_count": 177,
   "metadata": {
    "colab": {
     "base_uri": "https://localhost:8080/",
     "height": 204
    },
    "id": "6mroUsC0gulY",
    "outputId": "afaddec2-3bfc-4cd6-9060-37b1b9044db2"
   },
   "outputs": [
    {
     "data": {
      "text/html": [
       "<div>\n",
       "<style scoped>\n",
       "    .dataframe tbody tr th:only-of-type {\n",
       "        vertical-align: middle;\n",
       "    }\n",
       "\n",
       "    .dataframe tbody tr th {\n",
       "        vertical-align: top;\n",
       "    }\n",
       "\n",
       "    .dataframe thead th {\n",
       "        text-align: right;\n",
       "    }\n",
       "</style>\n",
       "<table border=\"1\" class=\"dataframe\">\n",
       "  <thead>\n",
       "    <tr style=\"text-align: right;\">\n",
       "      <th></th>\n",
       "      <th>column_name</th>\n",
       "      <th>nulls_percentage</th>\n",
       "    </tr>\n",
       "  </thead>\n",
       "  <tbody>\n",
       "    <tr>\n",
       "      <td>0</td>\n",
       "      <td>ODATEDW</td>\n",
       "      <td>0.000000</td>\n",
       "    </tr>\n",
       "    <tr>\n",
       "      <td>1</td>\n",
       "      <td>OSOURCE</td>\n",
       "      <td>0.009726</td>\n",
       "    </tr>\n",
       "    <tr>\n",
       "      <td>2</td>\n",
       "      <td>TCODE</td>\n",
       "      <td>0.000000</td>\n",
       "    </tr>\n",
       "    <tr>\n",
       "      <td>3</td>\n",
       "      <td>STATE</td>\n",
       "      <td>0.000000</td>\n",
       "    </tr>\n",
       "    <tr>\n",
       "      <td>4</td>\n",
       "      <td>ZIP</td>\n",
       "      <td>0.000000</td>\n",
       "    </tr>\n",
       "  </tbody>\n",
       "</table>\n",
       "</div>"
      ],
      "text/plain": [
       "  column_name  nulls_percentage\n",
       "0     ODATEDW          0.000000\n",
       "1     OSOURCE          0.009726\n",
       "2       TCODE          0.000000\n",
       "3       STATE          0.000000\n",
       "4         ZIP          0.000000"
      ]
     },
     "execution_count": 177,
     "metadata": {},
     "output_type": "execute_result"
    },
    {
     "data": {
      "text/plain": [
       "411"
      ]
     },
     "execution_count": 177,
     "metadata": {},
     "output_type": "execute_result"
    }
   ],
   "source": [
    "# Working now with those columns with nan values.\n",
    "\n",
    "nulls_percent_df_2 = pd.DataFrame(data.isna().sum()/len(data)).reset_index()\n",
    "nulls_percent_df_2.columns = ['column_name', 'nulls_percentage']\n",
    "nulls_percent_df_2.head()\n",
    "len(nulls_percent_df_2)"
   ]
  },
  {
   "cell_type": "code",
   "execution_count": 178,
   "metadata": {
    "colab": {
     "base_uri": "https://localhost:8080/"
    },
    "id": "XIf06Jn4gulZ",
    "outputId": "0a9c2b5f-b1aa-4bc6-b6f9-5cc00dd00e5e"
   },
   "outputs": [
    {
     "name": "stdout",
     "output_type": "stream",
     "text": [
      "57\n"
     ]
    }
   ],
   "source": [
    "columns_above_threshold_2 = nulls_percent_df_2[nulls_percent_df_2['nulls_percentage']>0.15]\n",
    "print(len(columns_above_threshold_2['column_name']))"
   ]
  },
  {
   "cell_type": "code",
   "execution_count": 179,
   "metadata": {
    "colab": {
     "base_uri": "https://localhost:8080/"
    },
    "id": "oq1hxMtpgulZ",
    "outputId": "cf4d7e9c-d677-41e8-d959-6293331b6889"
   },
   "outputs": [
    {
     "name": "stdout",
     "output_type": "stream",
     "text": [
      "['PVASTATE', 'RECINHSE', 'RECP3', 'RECPGVG', 'RECSWEEP', 'AGE', 'AGEFLAG', 'HOMEOWNR', 'CHILD03', 'CHILD07', 'CHILD12', 'CHILD18', 'INCOME', 'WEALTH1', 'DATASRCE', 'SOLP3', 'SOLIH', 'MAJOR', 'WEALTH2', 'GEOCODE', 'COLLECT1', 'VETERANS', 'BIBLE', 'CATLG', 'HOMEE', 'PETS', 'CDPLAY', 'STEREO', 'PCOWNERS', 'PHOTO', 'CRAFTS', 'FISHER', 'GARDENIN', 'BOATS', 'WALKER', 'KIDSTUFF', 'CARDS', 'PLATES', 'LIFESRC', 'PEPSTRFL', 'ADATE_14', 'ADATE_16', 'ADATE_18', 'RFA_5', 'RFA_10', 'RFA_13', 'RFA_14', 'RFA_15', 'RFA_16', 'RFA_17', 'RFA_18', 'RFA_19', 'RFA_20', 'RFA_21', 'RFA_22', 'RFA_23', 'RFA_24']\n"
     ]
    },
    {
     "data": {
      "text/plain": [
       "57"
      ]
     },
     "execution_count": 179,
     "metadata": {},
     "output_type": "execute_result"
    }
   ],
   "source": [
    "# putting aside columns that have over 15% of nan values\n",
    "\n",
    "drop_columns_list_2 = list(columns_above_threshold_2['column_name'])\n",
    "print(drop_columns_list_2)\n",
    "len(drop_columns_list_2)"
   ]
  },
  {
   "cell_type": "markdown",
   "metadata": {
    "id": "b93Maz-dgulZ"
   },
   "source": [
    "We would again repeat the same exercise as the last time. We will discuss it with the team, manager, and/or other stakeholders to see which columns we need to retain here. \n",
    "\n",
    "Like last time we will keep the following -> wealth1, wealth2 along with these VETERANS, SOLIH"
   ]
  },
  {
   "cell_type": "code",
   "execution_count": 180,
   "metadata": {},
   "outputs": [],
   "source": [
    "cols_2 = ['WEALTH1', 'WEALTH2', 'VETERANS', 'SOLIH', 'AGE', 'INCOME']\n",
    "for item in cols_2:\n",
    "    drop_columns_list_2.remove(item) "
   ]
  },
  {
   "cell_type": "code",
   "execution_count": 181,
   "metadata": {},
   "outputs": [
    {
     "data": {
      "text/plain": [
       "(95412, 411)"
      ]
     },
     "execution_count": 181,
     "metadata": {},
     "output_type": "execute_result"
    }
   ],
   "source": [
    "data.shape"
   ]
  },
  {
   "cell_type": "code",
   "execution_count": 182,
   "metadata": {
    "colab": {
     "base_uri": "https://localhost:8080/"
    },
    "id": "mgPvtou6gula",
    "outputId": "0bf90409-f3e6-4bc7-bc42-32910cb6f723"
   },
   "outputs": [
    {
     "data": {
      "text/plain": [
       "(95412, 360)"
      ]
     },
     "execution_count": 182,
     "metadata": {},
     "output_type": "execute_result"
    }
   ],
   "source": [
    "# Deleting columns with a certain % of nan values keeping some important columns that surpass the threshold\n",
    "\n",
    "data = data.drop(columns=drop_columns_list_2)\n",
    "data.shape"
   ]
  },
  {
   "cell_type": "code",
   "execution_count": 183,
   "metadata": {
    "colab": {
     "base_uri": "https://localhost:8080/",
     "height": 253
    },
    "id": "z-BWZyqXgula",
    "outputId": "4cd22ff5-a059-42e3-a8d9-bef04bd56c3d"
   },
   "outputs": [
    {
     "data": {
      "text/html": [
       "<div>\n",
       "<style scoped>\n",
       "    .dataframe tbody tr th:only-of-type {\n",
       "        vertical-align: middle;\n",
       "    }\n",
       "\n",
       "    .dataframe tbody tr th {\n",
       "        vertical-align: top;\n",
       "    }\n",
       "\n",
       "    .dataframe thead th {\n",
       "        text-align: right;\n",
       "    }\n",
       "</style>\n",
       "<table border=\"1\" class=\"dataframe\">\n",
       "  <thead>\n",
       "    <tr style=\"text-align: right;\">\n",
       "      <th></th>\n",
       "      <th>ODATEDW</th>\n",
       "      <th>OSOURCE</th>\n",
       "      <th>TCODE</th>\n",
       "      <th>STATE</th>\n",
       "      <th>ZIP</th>\n",
       "      <th>MAILCODE</th>\n",
       "      <th>DOB</th>\n",
       "      <th>NOEXCH</th>\n",
       "      <th>MDMAUD</th>\n",
       "      <th>DOMAIN</th>\n",
       "      <th>...</th>\n",
       "      <th>TARGET_D</th>\n",
       "      <th>HPHONE_D</th>\n",
       "      <th>RFA_2R</th>\n",
       "      <th>RFA_2F</th>\n",
       "      <th>RFA_2A</th>\n",
       "      <th>MDMAUD_R</th>\n",
       "      <th>MDMAUD_F</th>\n",
       "      <th>MDMAUD_A</th>\n",
       "      <th>CLUSTER2</th>\n",
       "      <th>GEOCODE2</th>\n",
       "    </tr>\n",
       "  </thead>\n",
       "  <tbody>\n",
       "    <tr>\n",
       "      <td>0</td>\n",
       "      <td>8901</td>\n",
       "      <td>GRI</td>\n",
       "      <td>0</td>\n",
       "      <td>IL</td>\n",
       "      <td>61081</td>\n",
       "      <td>A</td>\n",
       "      <td>3712</td>\n",
       "      <td>0</td>\n",
       "      <td>XXXX</td>\n",
       "      <td>T2</td>\n",
       "      <td>...</td>\n",
       "      <td>0.0</td>\n",
       "      <td>0</td>\n",
       "      <td>L</td>\n",
       "      <td>4</td>\n",
       "      <td>E</td>\n",
       "      <td>X</td>\n",
       "      <td>X</td>\n",
       "      <td>X</td>\n",
       "      <td>39.0</td>\n",
       "      <td>C</td>\n",
       "    </tr>\n",
       "    <tr>\n",
       "      <td>1</td>\n",
       "      <td>9401</td>\n",
       "      <td>BOA</td>\n",
       "      <td>1</td>\n",
       "      <td>CA</td>\n",
       "      <td>91326</td>\n",
       "      <td>A</td>\n",
       "      <td>5202</td>\n",
       "      <td>0</td>\n",
       "      <td>XXXX</td>\n",
       "      <td>S1</td>\n",
       "      <td>...</td>\n",
       "      <td>0.0</td>\n",
       "      <td>0</td>\n",
       "      <td>L</td>\n",
       "      <td>2</td>\n",
       "      <td>G</td>\n",
       "      <td>X</td>\n",
       "      <td>X</td>\n",
       "      <td>X</td>\n",
       "      <td>1.0</td>\n",
       "      <td>A</td>\n",
       "    </tr>\n",
       "    <tr>\n",
       "      <td>2</td>\n",
       "      <td>9001</td>\n",
       "      <td>AMH</td>\n",
       "      <td>1</td>\n",
       "      <td>NC</td>\n",
       "      <td>27017</td>\n",
       "      <td>A</td>\n",
       "      <td>0</td>\n",
       "      <td>0</td>\n",
       "      <td>XXXX</td>\n",
       "      <td>R2</td>\n",
       "      <td>...</td>\n",
       "      <td>0.0</td>\n",
       "      <td>1</td>\n",
       "      <td>L</td>\n",
       "      <td>4</td>\n",
       "      <td>E</td>\n",
       "      <td>X</td>\n",
       "      <td>X</td>\n",
       "      <td>X</td>\n",
       "      <td>60.0</td>\n",
       "      <td>C</td>\n",
       "    </tr>\n",
       "    <tr>\n",
       "      <td>3</td>\n",
       "      <td>8701</td>\n",
       "      <td>BRY</td>\n",
       "      <td>0</td>\n",
       "      <td>CA</td>\n",
       "      <td>95953</td>\n",
       "      <td>A</td>\n",
       "      <td>2801</td>\n",
       "      <td>0</td>\n",
       "      <td>XXXX</td>\n",
       "      <td>R2</td>\n",
       "      <td>...</td>\n",
       "      <td>0.0</td>\n",
       "      <td>1</td>\n",
       "      <td>L</td>\n",
       "      <td>4</td>\n",
       "      <td>E</td>\n",
       "      <td>X</td>\n",
       "      <td>X</td>\n",
       "      <td>X</td>\n",
       "      <td>41.0</td>\n",
       "      <td>C</td>\n",
       "    </tr>\n",
       "    <tr>\n",
       "      <td>4</td>\n",
       "      <td>8601</td>\n",
       "      <td>NaN</td>\n",
       "      <td>0</td>\n",
       "      <td>FL</td>\n",
       "      <td>33176</td>\n",
       "      <td>A</td>\n",
       "      <td>2001</td>\n",
       "      <td>0</td>\n",
       "      <td>XXXX</td>\n",
       "      <td>S2</td>\n",
       "      <td>...</td>\n",
       "      <td>0.0</td>\n",
       "      <td>1</td>\n",
       "      <td>L</td>\n",
       "      <td>2</td>\n",
       "      <td>F</td>\n",
       "      <td>X</td>\n",
       "      <td>X</td>\n",
       "      <td>X</td>\n",
       "      <td>26.0</td>\n",
       "      <td>A</td>\n",
       "    </tr>\n",
       "  </tbody>\n",
       "</table>\n",
       "<p>5 rows × 360 columns</p>\n",
       "</div>"
      ],
      "text/plain": [
       "   ODATEDW OSOURCE  TCODE STATE    ZIP MAILCODE   DOB NOEXCH MDMAUD DOMAIN  \\\n",
       "0     8901     GRI      0    IL  61081        A  3712      0   XXXX     T2   \n",
       "1     9401     BOA      1    CA  91326        A  5202      0   XXXX     S1   \n",
       "2     9001     AMH      1    NC  27017        A     0      0   XXXX     R2   \n",
       "3     8701     BRY      0    CA  95953        A  2801      0   XXXX     R2   \n",
       "4     8601     NaN      0    FL  33176        A  2001      0   XXXX     S2   \n",
       "\n",
       "   ... TARGET_D  HPHONE_D  RFA_2R RFA_2F  RFA_2A  MDMAUD_R  MDMAUD_F  \\\n",
       "0  ...      0.0         0       L      4       E         X         X   \n",
       "1  ...      0.0         0       L      2       G         X         X   \n",
       "2  ...      0.0         1       L      4       E         X         X   \n",
       "3  ...      0.0         1       L      4       E         X         X   \n",
       "4  ...      0.0         1       L      2       F         X         X   \n",
       "\n",
       "   MDMAUD_A  CLUSTER2  GEOCODE2  \n",
       "0         X      39.0         C  \n",
       "1         X       1.0         A  \n",
       "2         X      60.0         C  \n",
       "3         X      41.0         C  \n",
       "4         X      26.0         A  \n",
       "\n",
       "[5 rows x 360 columns]"
      ]
     },
     "execution_count": 183,
     "metadata": {},
     "output_type": "execute_result"
    }
   ],
   "source": [
    "data.head()\n",
    "#data[['WEALTH1', 'WEALTH2', 'VETERANS', 'SOLIH']]"
   ]
  },
  {
   "cell_type": "markdown",
   "metadata": {
    "id": "bgXoo7VHgula"
   },
   "source": [
    "\n",
    "## Separating Target, Numerical Features, and Categorical Features"
   ]
  },
  {
   "cell_type": "markdown",
   "metadata": {
    "id": "bHi0yh0V8yY_"
   },
   "source": [
    "Since we have a huge number of features, it would be easier to work independently on numerical features and categorical features.\n",
    "\n",
    "For the target variables, for now we will retain them both together. But later, we will build a classification model first where we would need the column TARGET_B only."
   ]
  },
  {
   "cell_type": "code",
   "execution_count": 184,
   "metadata": {
    "colab": {
     "base_uri": "https://localhost:8080/",
     "height": 204
    },
    "id": "3zRiRPxIgula",
    "outputId": "45c5928e-d637-4113-ef3c-3c3975d4439f"
   },
   "outputs": [
    {
     "data": {
      "text/html": [
       "<div>\n",
       "<style scoped>\n",
       "    .dataframe tbody tr th:only-of-type {\n",
       "        vertical-align: middle;\n",
       "    }\n",
       "\n",
       "    .dataframe tbody tr th {\n",
       "        vertical-align: top;\n",
       "    }\n",
       "\n",
       "    .dataframe thead th {\n",
       "        text-align: right;\n",
       "    }\n",
       "</style>\n",
       "<table border=\"1\" class=\"dataframe\">\n",
       "  <thead>\n",
       "    <tr style=\"text-align: right;\">\n",
       "      <th></th>\n",
       "      <th>TARGET_B</th>\n",
       "      <th>TARGET_D</th>\n",
       "    </tr>\n",
       "  </thead>\n",
       "  <tbody>\n",
       "    <tr>\n",
       "      <td>0</td>\n",
       "      <td>0</td>\n",
       "      <td>0.0</td>\n",
       "    </tr>\n",
       "    <tr>\n",
       "      <td>1</td>\n",
       "      <td>0</td>\n",
       "      <td>0.0</td>\n",
       "    </tr>\n",
       "    <tr>\n",
       "      <td>2</td>\n",
       "      <td>0</td>\n",
       "      <td>0.0</td>\n",
       "    </tr>\n",
       "    <tr>\n",
       "      <td>3</td>\n",
       "      <td>0</td>\n",
       "      <td>0.0</td>\n",
       "    </tr>\n",
       "    <tr>\n",
       "      <td>4</td>\n",
       "      <td>0</td>\n",
       "      <td>0.0</td>\n",
       "    </tr>\n",
       "  </tbody>\n",
       "</table>\n",
       "</div>"
      ],
      "text/plain": [
       "   TARGET_B  TARGET_D\n",
       "0         0       0.0\n",
       "1         0       0.0\n",
       "2         0       0.0\n",
       "3         0       0.0\n",
       "4         0       0.0"
      ]
     },
     "execution_count": 184,
     "metadata": {},
     "output_type": "execute_result"
    }
   ],
   "source": [
    "# Separating target\n",
    "\n",
    "Y = data[['TARGET_B', 'TARGET_D']]\n",
    "Y.head()"
   ]
  },
  {
   "cell_type": "code",
   "execution_count": 185,
   "metadata": {
    "colab": {
     "base_uri": "https://localhost:8080/",
     "height": 253
    },
    "id": "Jw6Wk3Z-gula",
    "outputId": "1f68c61d-de2e-47ab-9b6d-b5940bd564b2"
   },
   "outputs": [
    {
     "data": {
      "text/html": [
       "<div>\n",
       "<style scoped>\n",
       "    .dataframe tbody tr th:only-of-type {\n",
       "        vertical-align: middle;\n",
       "    }\n",
       "\n",
       "    .dataframe tbody tr th {\n",
       "        vertical-align: top;\n",
       "    }\n",
       "\n",
       "    .dataframe thead th {\n",
       "        text-align: right;\n",
       "    }\n",
       "</style>\n",
       "<table border=\"1\" class=\"dataframe\">\n",
       "  <thead>\n",
       "    <tr style=\"text-align: right;\">\n",
       "      <th></th>\n",
       "      <th>ODATEDW</th>\n",
       "      <th>TCODE</th>\n",
       "      <th>DOB</th>\n",
       "      <th>AGE</th>\n",
       "      <th>INCOME</th>\n",
       "      <th>WEALTH1</th>\n",
       "      <th>HIT</th>\n",
       "      <th>MALEMILI</th>\n",
       "      <th>MALEVET</th>\n",
       "      <th>VIETVETS</th>\n",
       "      <th>...</th>\n",
       "      <th>LASTGIFT</th>\n",
       "      <th>LASTDATE</th>\n",
       "      <th>FISTDATE</th>\n",
       "      <th>NEXTDATE</th>\n",
       "      <th>TIMELAG</th>\n",
       "      <th>AVGGIFT</th>\n",
       "      <th>CONTROLN</th>\n",
       "      <th>HPHONE_D</th>\n",
       "      <th>RFA_2F</th>\n",
       "      <th>CLUSTER2</th>\n",
       "    </tr>\n",
       "  </thead>\n",
       "  <tbody>\n",
       "    <tr>\n",
       "      <td>0</td>\n",
       "      <td>8901</td>\n",
       "      <td>0</td>\n",
       "      <td>3712</td>\n",
       "      <td>60.0</td>\n",
       "      <td>NaN</td>\n",
       "      <td>NaN</td>\n",
       "      <td>0</td>\n",
       "      <td>0</td>\n",
       "      <td>39</td>\n",
       "      <td>34</td>\n",
       "      <td>...</td>\n",
       "      <td>10.0</td>\n",
       "      <td>9512</td>\n",
       "      <td>8911</td>\n",
       "      <td>9003.0</td>\n",
       "      <td>4.0</td>\n",
       "      <td>7.741935</td>\n",
       "      <td>95515</td>\n",
       "      <td>0</td>\n",
       "      <td>4</td>\n",
       "      <td>39.0</td>\n",
       "    </tr>\n",
       "    <tr>\n",
       "      <td>1</td>\n",
       "      <td>9401</td>\n",
       "      <td>1</td>\n",
       "      <td>5202</td>\n",
       "      <td>46.0</td>\n",
       "      <td>6.0</td>\n",
       "      <td>9.0</td>\n",
       "      <td>16</td>\n",
       "      <td>0</td>\n",
       "      <td>15</td>\n",
       "      <td>55</td>\n",
       "      <td>...</td>\n",
       "      <td>25.0</td>\n",
       "      <td>9512</td>\n",
       "      <td>9310</td>\n",
       "      <td>9504.0</td>\n",
       "      <td>18.0</td>\n",
       "      <td>15.666667</td>\n",
       "      <td>148535</td>\n",
       "      <td>0</td>\n",
       "      <td>2</td>\n",
       "      <td>1.0</td>\n",
       "    </tr>\n",
       "    <tr>\n",
       "      <td>2</td>\n",
       "      <td>9001</td>\n",
       "      <td>1</td>\n",
       "      <td>0</td>\n",
       "      <td>NaN</td>\n",
       "      <td>3.0</td>\n",
       "      <td>1.0</td>\n",
       "      <td>2</td>\n",
       "      <td>0</td>\n",
       "      <td>20</td>\n",
       "      <td>29</td>\n",
       "      <td>...</td>\n",
       "      <td>5.0</td>\n",
       "      <td>9512</td>\n",
       "      <td>9001</td>\n",
       "      <td>9101.0</td>\n",
       "      <td>12.0</td>\n",
       "      <td>7.481481</td>\n",
       "      <td>15078</td>\n",
       "      <td>1</td>\n",
       "      <td>4</td>\n",
       "      <td>60.0</td>\n",
       "    </tr>\n",
       "    <tr>\n",
       "      <td>3</td>\n",
       "      <td>8701</td>\n",
       "      <td>0</td>\n",
       "      <td>2801</td>\n",
       "      <td>70.0</td>\n",
       "      <td>1.0</td>\n",
       "      <td>4.0</td>\n",
       "      <td>2</td>\n",
       "      <td>0</td>\n",
       "      <td>23</td>\n",
       "      <td>14</td>\n",
       "      <td>...</td>\n",
       "      <td>10.0</td>\n",
       "      <td>9512</td>\n",
       "      <td>8702</td>\n",
       "      <td>8711.0</td>\n",
       "      <td>9.0</td>\n",
       "      <td>6.812500</td>\n",
       "      <td>172556</td>\n",
       "      <td>1</td>\n",
       "      <td>4</td>\n",
       "      <td>41.0</td>\n",
       "    </tr>\n",
       "    <tr>\n",
       "      <td>4</td>\n",
       "      <td>8601</td>\n",
       "      <td>0</td>\n",
       "      <td>2001</td>\n",
       "      <td>78.0</td>\n",
       "      <td>3.0</td>\n",
       "      <td>2.0</td>\n",
       "      <td>60</td>\n",
       "      <td>1</td>\n",
       "      <td>28</td>\n",
       "      <td>9</td>\n",
       "      <td>...</td>\n",
       "      <td>15.0</td>\n",
       "      <td>9601</td>\n",
       "      <td>7903</td>\n",
       "      <td>8005.0</td>\n",
       "      <td>14.0</td>\n",
       "      <td>6.864865</td>\n",
       "      <td>7112</td>\n",
       "      <td>1</td>\n",
       "      <td>2</td>\n",
       "      <td>26.0</td>\n",
       "    </tr>\n",
       "  </tbody>\n",
       "</table>\n",
       "<p>5 rows × 332 columns</p>\n",
       "</div>"
      ],
      "text/plain": [
       "   ODATEDW  TCODE   DOB   AGE  INCOME  WEALTH1  HIT  MALEMILI  MALEVET  \\\n",
       "0     8901      0  3712  60.0     NaN      NaN    0         0       39   \n",
       "1     9401      1  5202  46.0     6.0      9.0   16         0       15   \n",
       "2     9001      1     0   NaN     3.0      1.0    2         0       20   \n",
       "3     8701      0  2801  70.0     1.0      4.0    2         0       23   \n",
       "4     8601      0  2001  78.0     3.0      2.0   60         1       28   \n",
       "\n",
       "   VIETVETS  ...  LASTGIFT  LASTDATE  FISTDATE  NEXTDATE  TIMELAG    AVGGIFT  \\\n",
       "0        34  ...      10.0      9512      8911    9003.0      4.0   7.741935   \n",
       "1        55  ...      25.0      9512      9310    9504.0     18.0  15.666667   \n",
       "2        29  ...       5.0      9512      9001    9101.0     12.0   7.481481   \n",
       "3        14  ...      10.0      9512      8702    8711.0      9.0   6.812500   \n",
       "4         9  ...      15.0      9601      7903    8005.0     14.0   6.864865   \n",
       "\n",
       "   CONTROLN  HPHONE_D  RFA_2F  CLUSTER2  \n",
       "0     95515         0       4      39.0  \n",
       "1    148535         0       2       1.0  \n",
       "2     15078         1       4      60.0  \n",
       "3    172556         1       4      41.0  \n",
       "4      7112         1       2      26.0  \n",
       "\n",
       "[5 rows x 332 columns]"
      ]
     },
     "execution_count": 185,
     "metadata": {},
     "output_type": "execute_result"
    }
   ],
   "source": [
    "# Separating numericals\n",
    "\n",
    "numerical = data.select_dtypes(np.number)\n",
    "numerical = numerical.drop(columns = ['TARGET_B', 'TARGET_D'])\n",
    "numerical.head()"
   ]
  },
  {
   "cell_type": "code",
   "execution_count": 186,
   "metadata": {},
   "outputs": [
    {
     "data": {
      "text/plain": [
       "ODATEDW        54\n",
       "TCODE          55\n",
       "DOB           947\n",
       "AGE            96\n",
       "INCOME          7\n",
       "            ...  \n",
       "AVGGIFT      7713\n",
       "CONTROLN    95412\n",
       "HPHONE_D        2\n",
       "RFA_2F          4\n",
       "CLUSTER2       62\n",
       "Length: 332, dtype: int64"
      ]
     },
     "execution_count": 186,
     "metadata": {},
     "output_type": "execute_result"
    }
   ],
   "source": [
    "# Checking unique values in each columns to decide wether is smart to use some of this numerical columns as discrete variables\n",
    "\n",
    "numerical.nunique()"
   ]
  },
  {
   "cell_type": "code",
   "execution_count": 187,
   "metadata": {
    "colab": {
     "base_uri": "https://localhost:8080/",
     "height": 224
    },
    "id": "M3aMTkVEgulb",
    "outputId": "2e479ca6-bbf7-4bc0-cc1f-29a0daaa81fa"
   },
   "outputs": [
    {
     "data": {
      "text/html": [
       "<div>\n",
       "<style scoped>\n",
       "    .dataframe tbody tr th:only-of-type {\n",
       "        vertical-align: middle;\n",
       "    }\n",
       "\n",
       "    .dataframe tbody tr th {\n",
       "        vertical-align: top;\n",
       "    }\n",
       "\n",
       "    .dataframe thead th {\n",
       "        text-align: right;\n",
       "    }\n",
       "</style>\n",
       "<table border=\"1\" class=\"dataframe\">\n",
       "  <thead>\n",
       "    <tr style=\"text-align: right;\">\n",
       "      <th></th>\n",
       "      <th>OSOURCE</th>\n",
       "      <th>STATE</th>\n",
       "      <th>ZIP</th>\n",
       "      <th>MAILCODE</th>\n",
       "      <th>NOEXCH</th>\n",
       "      <th>MDMAUD</th>\n",
       "      <th>DOMAIN</th>\n",
       "      <th>CLUSTER</th>\n",
       "      <th>GENDER</th>\n",
       "      <th>SOLIH</th>\n",
       "      <th>...</th>\n",
       "      <th>RFA_8</th>\n",
       "      <th>RFA_9</th>\n",
       "      <th>RFA_11</th>\n",
       "      <th>RFA_12</th>\n",
       "      <th>RFA_2R</th>\n",
       "      <th>RFA_2A</th>\n",
       "      <th>MDMAUD_R</th>\n",
       "      <th>MDMAUD_F</th>\n",
       "      <th>MDMAUD_A</th>\n",
       "      <th>GEOCODE2</th>\n",
       "    </tr>\n",
       "  </thead>\n",
       "  <tbody>\n",
       "    <tr>\n",
       "      <td>0</td>\n",
       "      <td>GRI</td>\n",
       "      <td>IL</td>\n",
       "      <td>61081</td>\n",
       "      <td>A</td>\n",
       "      <td>0</td>\n",
       "      <td>XXXX</td>\n",
       "      <td>T2</td>\n",
       "      <td>36</td>\n",
       "      <td>F</td>\n",
       "      <td>NaN</td>\n",
       "      <td>...</td>\n",
       "      <td>S4E</td>\n",
       "      <td>S4E</td>\n",
       "      <td>S4E</td>\n",
       "      <td>S4E</td>\n",
       "      <td>L</td>\n",
       "      <td>E</td>\n",
       "      <td>X</td>\n",
       "      <td>X</td>\n",
       "      <td>X</td>\n",
       "      <td>C</td>\n",
       "    </tr>\n",
       "    <tr>\n",
       "      <td>1</td>\n",
       "      <td>BOA</td>\n",
       "      <td>CA</td>\n",
       "      <td>91326</td>\n",
       "      <td>A</td>\n",
       "      <td>0</td>\n",
       "      <td>XXXX</td>\n",
       "      <td>S1</td>\n",
       "      <td>14</td>\n",
       "      <td>M</td>\n",
       "      <td>NaN</td>\n",
       "      <td>...</td>\n",
       "      <td>A1E</td>\n",
       "      <td>A1E</td>\n",
       "      <td>A1E</td>\n",
       "      <td>A1E</td>\n",
       "      <td>L</td>\n",
       "      <td>G</td>\n",
       "      <td>X</td>\n",
       "      <td>X</td>\n",
       "      <td>X</td>\n",
       "      <td>A</td>\n",
       "    </tr>\n",
       "    <tr>\n",
       "      <td>2</td>\n",
       "      <td>AMH</td>\n",
       "      <td>NC</td>\n",
       "      <td>27017</td>\n",
       "      <td>A</td>\n",
       "      <td>0</td>\n",
       "      <td>XXXX</td>\n",
       "      <td>R2</td>\n",
       "      <td>43</td>\n",
       "      <td>M</td>\n",
       "      <td>NaN</td>\n",
       "      <td>...</td>\n",
       "      <td>S4F</td>\n",
       "      <td>S4F</td>\n",
       "      <td>S4F</td>\n",
       "      <td>S4F</td>\n",
       "      <td>L</td>\n",
       "      <td>E</td>\n",
       "      <td>X</td>\n",
       "      <td>X</td>\n",
       "      <td>X</td>\n",
       "      <td>C</td>\n",
       "    </tr>\n",
       "    <tr>\n",
       "      <td>3</td>\n",
       "      <td>BRY</td>\n",
       "      <td>CA</td>\n",
       "      <td>95953</td>\n",
       "      <td>A</td>\n",
       "      <td>0</td>\n",
       "      <td>XXXX</td>\n",
       "      <td>R2</td>\n",
       "      <td>44</td>\n",
       "      <td>F</td>\n",
       "      <td>NaN</td>\n",
       "      <td>...</td>\n",
       "      <td>S4E</td>\n",
       "      <td>S4E</td>\n",
       "      <td>S4E</td>\n",
       "      <td>S4E</td>\n",
       "      <td>L</td>\n",
       "      <td>E</td>\n",
       "      <td>X</td>\n",
       "      <td>X</td>\n",
       "      <td>X</td>\n",
       "      <td>C</td>\n",
       "    </tr>\n",
       "    <tr>\n",
       "      <td>4</td>\n",
       "      <td>NaN</td>\n",
       "      <td>FL</td>\n",
       "      <td>33176</td>\n",
       "      <td>A</td>\n",
       "      <td>0</td>\n",
       "      <td>XXXX</td>\n",
       "      <td>S2</td>\n",
       "      <td>16</td>\n",
       "      <td>F</td>\n",
       "      <td>12</td>\n",
       "      <td>...</td>\n",
       "      <td>A1E</td>\n",
       "      <td>A1E</td>\n",
       "      <td>A1E</td>\n",
       "      <td>A1E</td>\n",
       "      <td>L</td>\n",
       "      <td>F</td>\n",
       "      <td>X</td>\n",
       "      <td>X</td>\n",
       "      <td>X</td>\n",
       "      <td>A</td>\n",
       "    </tr>\n",
       "  </tbody>\n",
       "</table>\n",
       "<p>5 rows × 26 columns</p>\n",
       "</div>"
      ],
      "text/plain": [
       "  OSOURCE STATE    ZIP MAILCODE NOEXCH MDMAUD DOMAIN CLUSTER GENDER SOLIH  \\\n",
       "0     GRI    IL  61081        A      0   XXXX     T2      36      F   NaN   \n",
       "1     BOA    CA  91326        A      0   XXXX     S1      14      M   NaN   \n",
       "2     AMH    NC  27017        A      0   XXXX     R2      43      M   NaN   \n",
       "3     BRY    CA  95953        A      0   XXXX     R2      44      F   NaN   \n",
       "4     NaN    FL  33176        A      0   XXXX     S2      16      F    12   \n",
       "\n",
       "   ... RFA_8 RFA_9 RFA_11 RFA_12 RFA_2R RFA_2A MDMAUD_R MDMAUD_F MDMAUD_A  \\\n",
       "0  ...   S4E   S4E    S4E    S4E      L      E        X        X        X   \n",
       "1  ...   A1E   A1E    A1E    A1E      L      G        X        X        X   \n",
       "2  ...   S4F   S4F    S4F    S4F      L      E        X        X        X   \n",
       "3  ...   S4E   S4E    S4E    S4E      L      E        X        X        X   \n",
       "4  ...   A1E   A1E    A1E    A1E      L      F        X        X        X   \n",
       "\n",
       "  GEOCODE2  \n",
       "0        C  \n",
       "1        A  \n",
       "2        C  \n",
       "3        C  \n",
       "4        A  \n",
       "\n",
       "[5 rows x 26 columns]"
      ]
     },
     "execution_count": 187,
     "metadata": {},
     "output_type": "execute_result"
    }
   ],
   "source": [
    "# Doing the same for categorical variables\n",
    "\n",
    "categorical = data.select_dtypes(np.object)\n",
    "categorical.head()"
   ]
  },
  {
   "cell_type": "markdown",
   "metadata": {
    "id": "EqJRlqGJgulb"
   },
   "source": [
    "## Working with categorical columns"
   ]
  },
  {
   "cell_type": "markdown",
   "metadata": {
    "id": "DCKecBEr9FA0"
   },
   "source": [
    "We will work with the categorical features first. Look at the columns one by one. Some of the operations which we will perform are:\n",
    "\n",
    "- Replace null values with the most occurring categories\n",
    "- Reduce the number of categories in a column by grouping\n",
    "\n",
    "It is important to note that some columns are defined by python as categorical/object types. There might be other columns defined as numerical that we want as categorical. We will look them later when we were working on numerical types."
   ]
  },
  {
   "cell_type": "code",
   "execution_count": 188,
   "metadata": {
    "colab": {
     "base_uri": "https://localhost:8080/"
    },
    "id": "sKt7l7_igulb",
    "outputId": "dc271eb4-7c46-4e57-c01d-4084fbad3e21"
   },
   "outputs": [
    {
     "data": {
      "text/plain": [
       "OSOURCE       928\n",
       "STATE           0\n",
       "ZIP             0\n",
       "MAILCODE        0\n",
       "NOEXCH          7\n",
       "MDMAUD          0\n",
       "DOMAIN       2316\n",
       "CLUSTER      2316\n",
       "GENDER       2957\n",
       "SOLIH       89212\n",
       "VETERANS    84986\n",
       "RFA_2           0\n",
       "RFA_3        1950\n",
       "RFA_4        2312\n",
       "RFA_6        3557\n",
       "RFA_7        8874\n",
       "RFA_8        3511\n",
       "RFA_9       11245\n",
       "RFA_11      10422\n",
       "RFA_12       8923\n",
       "RFA_2R          0\n",
       "RFA_2A          0\n",
       "MDMAUD_R        0\n",
       "MDMAUD_F        0\n",
       "MDMAUD_A        0\n",
       "GEOCODE2      319\n",
       "dtype: int64"
      ]
     },
     "execution_count": 188,
     "metadata": {},
     "output_type": "execute_result"
    }
   ],
   "source": [
    "categorical.isna().sum()"
   ]
  },
  {
   "cell_type": "markdown",
   "metadata": {
    "id": "JoX043m3gulc"
   },
   "source": [
    "Here we will try to reduce the number of categories. An ideal way would have been to group the states into \n",
    "regions. But in this case we will group all the states with counts less than 2500 into one category \"other\""
   ]
  },
  {
   "cell_type": "code",
   "execution_count": 189,
   "metadata": {
    "colab": {
     "base_uri": "https://localhost:8080/"
    },
    "id": "1JFCqWUZgulc",
    "outputId": "d34b76a5-7bb7-4c4b-c8b1-bfd2c3e85a5c"
   },
   "outputs": [],
   "source": [
    "df = pd.DataFrame(categorical['STATE'].value_counts()).reset_index()\n",
    "df.columns = ['state', 'count']\n",
    "other_states = list(df[df['count']<2500]['state'])\n",
    "\n",
    "def clean_state(x):\n",
    "    if x in other_states:\n",
    "        return 'other'\n",
    "    else:\n",
    "        return x\n",
    "categorical['STATE'] = list(map(clean_state, categorical['STATE']))"
   ]
  },
  {
   "cell_type": "code",
   "execution_count": 190,
   "metadata": {
    "colab": {
     "base_uri": "https://localhost:8080/"
    },
    "id": "1pnj5v2_9a35",
    "outputId": "560d170d-d286-461e-d589-9a157ba80ec5"
   },
   "outputs": [
    {
     "data": {
      "text/plain": [
       "other    30457\n",
       "CA       17343\n",
       "FL        8376\n",
       "TX        7535\n",
       "IL        6420\n",
       "MI        5654\n",
       "NC        4160\n",
       "WA        3577\n",
       "GA        3403\n",
       "IN        2980\n",
       "WI        2795\n",
       "MO        2712\n",
       "Name: STATE, dtype: int64"
      ]
     },
     "execution_count": 190,
     "metadata": {},
     "output_type": "execute_result"
    }
   ],
   "source": [
    "categorical['STATE'].value_counts()"
   ]
  },
  {
   "cell_type": "code",
   "execution_count": 191,
   "metadata": {},
   "outputs": [
    {
     "data": {
      "text/html": [
       "<div>\n",
       "<style scoped>\n",
       "    .dataframe tbody tr th:only-of-type {\n",
       "        vertical-align: middle;\n",
       "    }\n",
       "\n",
       "    .dataframe tbody tr th {\n",
       "        vertical-align: top;\n",
       "    }\n",
       "\n",
       "    .dataframe thead th {\n",
       "        text-align: right;\n",
       "    }\n",
       "</style>\n",
       "<table border=\"1\" class=\"dataframe\">\n",
       "  <thead>\n",
       "    <tr style=\"text-align: right;\">\n",
       "      <th></th>\n",
       "      <th>OSOURCE</th>\n",
       "      <th>STATE</th>\n",
       "      <th>ZIP</th>\n",
       "      <th>MAILCODE</th>\n",
       "      <th>NOEXCH</th>\n",
       "      <th>MDMAUD</th>\n",
       "      <th>DOMAIN</th>\n",
       "      <th>CLUSTER</th>\n",
       "      <th>GENDER</th>\n",
       "      <th>SOLIH</th>\n",
       "      <th>...</th>\n",
       "      <th>RFA_8</th>\n",
       "      <th>RFA_9</th>\n",
       "      <th>RFA_11</th>\n",
       "      <th>RFA_12</th>\n",
       "      <th>RFA_2R</th>\n",
       "      <th>RFA_2A</th>\n",
       "      <th>MDMAUD_R</th>\n",
       "      <th>MDMAUD_F</th>\n",
       "      <th>MDMAUD_A</th>\n",
       "      <th>GEOCODE2</th>\n",
       "    </tr>\n",
       "  </thead>\n",
       "  <tbody>\n",
       "    <tr>\n",
       "      <td>0</td>\n",
       "      <td>GRI</td>\n",
       "      <td>IL</td>\n",
       "      <td>61081</td>\n",
       "      <td>A</td>\n",
       "      <td>0</td>\n",
       "      <td>XXXX</td>\n",
       "      <td>T2</td>\n",
       "      <td>36</td>\n",
       "      <td>F</td>\n",
       "      <td>NaN</td>\n",
       "      <td>...</td>\n",
       "      <td>S4E</td>\n",
       "      <td>S4E</td>\n",
       "      <td>S4E</td>\n",
       "      <td>S4E</td>\n",
       "      <td>L</td>\n",
       "      <td>E</td>\n",
       "      <td>X</td>\n",
       "      <td>X</td>\n",
       "      <td>X</td>\n",
       "      <td>C</td>\n",
       "    </tr>\n",
       "    <tr>\n",
       "      <td>1</td>\n",
       "      <td>BOA</td>\n",
       "      <td>CA</td>\n",
       "      <td>91326</td>\n",
       "      <td>A</td>\n",
       "      <td>0</td>\n",
       "      <td>XXXX</td>\n",
       "      <td>S1</td>\n",
       "      <td>14</td>\n",
       "      <td>M</td>\n",
       "      <td>NaN</td>\n",
       "      <td>...</td>\n",
       "      <td>A1E</td>\n",
       "      <td>A1E</td>\n",
       "      <td>A1E</td>\n",
       "      <td>A1E</td>\n",
       "      <td>L</td>\n",
       "      <td>G</td>\n",
       "      <td>X</td>\n",
       "      <td>X</td>\n",
       "      <td>X</td>\n",
       "      <td>A</td>\n",
       "    </tr>\n",
       "    <tr>\n",
       "      <td>2</td>\n",
       "      <td>AMH</td>\n",
       "      <td>NC</td>\n",
       "      <td>27017</td>\n",
       "      <td>A</td>\n",
       "      <td>0</td>\n",
       "      <td>XXXX</td>\n",
       "      <td>R2</td>\n",
       "      <td>43</td>\n",
       "      <td>M</td>\n",
       "      <td>NaN</td>\n",
       "      <td>...</td>\n",
       "      <td>S4F</td>\n",
       "      <td>S4F</td>\n",
       "      <td>S4F</td>\n",
       "      <td>S4F</td>\n",
       "      <td>L</td>\n",
       "      <td>E</td>\n",
       "      <td>X</td>\n",
       "      <td>X</td>\n",
       "      <td>X</td>\n",
       "      <td>C</td>\n",
       "    </tr>\n",
       "    <tr>\n",
       "      <td>3</td>\n",
       "      <td>BRY</td>\n",
       "      <td>CA</td>\n",
       "      <td>95953</td>\n",
       "      <td>A</td>\n",
       "      <td>0</td>\n",
       "      <td>XXXX</td>\n",
       "      <td>R2</td>\n",
       "      <td>44</td>\n",
       "      <td>F</td>\n",
       "      <td>NaN</td>\n",
       "      <td>...</td>\n",
       "      <td>S4E</td>\n",
       "      <td>S4E</td>\n",
       "      <td>S4E</td>\n",
       "      <td>S4E</td>\n",
       "      <td>L</td>\n",
       "      <td>E</td>\n",
       "      <td>X</td>\n",
       "      <td>X</td>\n",
       "      <td>X</td>\n",
       "      <td>C</td>\n",
       "    </tr>\n",
       "    <tr>\n",
       "      <td>4</td>\n",
       "      <td>NaN</td>\n",
       "      <td>FL</td>\n",
       "      <td>33176</td>\n",
       "      <td>A</td>\n",
       "      <td>0</td>\n",
       "      <td>XXXX</td>\n",
       "      <td>S2</td>\n",
       "      <td>16</td>\n",
       "      <td>F</td>\n",
       "      <td>12</td>\n",
       "      <td>...</td>\n",
       "      <td>A1E</td>\n",
       "      <td>A1E</td>\n",
       "      <td>A1E</td>\n",
       "      <td>A1E</td>\n",
       "      <td>L</td>\n",
       "      <td>F</td>\n",
       "      <td>X</td>\n",
       "      <td>X</td>\n",
       "      <td>X</td>\n",
       "      <td>A</td>\n",
       "    </tr>\n",
       "  </tbody>\n",
       "</table>\n",
       "<p>5 rows × 26 columns</p>\n",
       "</div>"
      ],
      "text/plain": [
       "  OSOURCE STATE    ZIP MAILCODE NOEXCH MDMAUD DOMAIN CLUSTER GENDER SOLIH  \\\n",
       "0     GRI    IL  61081        A      0   XXXX     T2      36      F   NaN   \n",
       "1     BOA    CA  91326        A      0   XXXX     S1      14      M   NaN   \n",
       "2     AMH    NC  27017        A      0   XXXX     R2      43      M   NaN   \n",
       "3     BRY    CA  95953        A      0   XXXX     R2      44      F   NaN   \n",
       "4     NaN    FL  33176        A      0   XXXX     S2      16      F    12   \n",
       "\n",
       "   ... RFA_8 RFA_9 RFA_11 RFA_12 RFA_2R RFA_2A MDMAUD_R MDMAUD_F MDMAUD_A  \\\n",
       "0  ...   S4E   S4E    S4E    S4E      L      E        X        X        X   \n",
       "1  ...   A1E   A1E    A1E    A1E      L      G        X        X        X   \n",
       "2  ...   S4F   S4F    S4F    S4F      L      E        X        X        X   \n",
       "3  ...   S4E   S4E    S4E    S4E      L      E        X        X        X   \n",
       "4  ...   A1E   A1E    A1E    A1E      L      F        X        X        X   \n",
       "\n",
       "  GEOCODE2  \n",
       "0        C  \n",
       "1        A  \n",
       "2        C  \n",
       "3        C  \n",
       "4        A  \n",
       "\n",
       "[5 rows x 26 columns]"
      ]
     },
     "execution_count": 191,
     "metadata": {},
     "output_type": "execute_result"
    }
   ],
   "source": [
    "categorical.head()"
   ]
  },
  {
   "cell_type": "code",
   "execution_count": 192,
   "metadata": {},
   "outputs": [
    {
     "data": {
      "text/plain": [
       "<matplotlib.axes._subplots.AxesSubplot at 0x7fd679ec7fd0>"
      ]
     },
     "execution_count": 192,
     "metadata": {},
     "output_type": "execute_result"
    },
    {
     "data": {
      "image/png": "[encoded data removed]",
      "text/plain": [
       "<Figure size 2160x360 with 2 Axes>"
      ]
     },
     "metadata": {
      "needs_background": "light"
     },
     "output_type": "display_data"
    }
   ],
   "source": [
    "# visualazing null values\n",
    "\n",
    "missingno.matrix(categorical, figsize = (30,5))"
   ]
  },
  {
   "cell_type": "code",
   "execution_count": 193,
   "metadata": {},
   "outputs": [
    {
     "data": {
      "text/html": [
       "<div>\n",
       "<style scoped>\n",
       "    .dataframe tbody tr th:only-of-type {\n",
       "        vertical-align: middle;\n",
       "    }\n",
       "\n",
       "    .dataframe tbody tr th {\n",
       "        vertical-align: top;\n",
       "    }\n",
       "\n",
       "    .dataframe thead th {\n",
       "        text-align: right;\n",
       "    }\n",
       "</style>\n",
       "<table border=\"1\" class=\"dataframe\">\n",
       "  <thead>\n",
       "    <tr style=\"text-align: right;\">\n",
       "      <th></th>\n",
       "      <th>column_name</th>\n",
       "      <th>nulls_percentage</th>\n",
       "    </tr>\n",
       "  </thead>\n",
       "  <tbody>\n",
       "    <tr>\n",
       "      <td>0</td>\n",
       "      <td>OSOURCE</td>\n",
       "      <td>0.009726</td>\n",
       "    </tr>\n",
       "    <tr>\n",
       "      <td>1</td>\n",
       "      <td>STATE</td>\n",
       "      <td>0.000000</td>\n",
       "    </tr>\n",
       "    <tr>\n",
       "      <td>2</td>\n",
       "      <td>ZIP</td>\n",
       "      <td>0.000000</td>\n",
       "    </tr>\n",
       "    <tr>\n",
       "      <td>3</td>\n",
       "      <td>MAILCODE</td>\n",
       "      <td>0.000000</td>\n",
       "    </tr>\n",
       "    <tr>\n",
       "      <td>4</td>\n",
       "      <td>NOEXCH</td>\n",
       "      <td>0.000073</td>\n",
       "    </tr>\n",
       "    <tr>\n",
       "      <td>5</td>\n",
       "      <td>MDMAUD</td>\n",
       "      <td>0.000000</td>\n",
       "    </tr>\n",
       "    <tr>\n",
       "      <td>6</td>\n",
       "      <td>DOMAIN</td>\n",
       "      <td>0.024274</td>\n",
       "    </tr>\n",
       "    <tr>\n",
       "      <td>7</td>\n",
       "      <td>CLUSTER</td>\n",
       "      <td>0.024274</td>\n",
       "    </tr>\n",
       "    <tr>\n",
       "      <td>8</td>\n",
       "      <td>GENDER</td>\n",
       "      <td>0.030992</td>\n",
       "    </tr>\n",
       "    <tr>\n",
       "      <td>9</td>\n",
       "      <td>SOLIH</td>\n",
       "      <td>0.935019</td>\n",
       "    </tr>\n",
       "    <tr>\n",
       "      <td>10</td>\n",
       "      <td>VETERANS</td>\n",
       "      <td>0.890727</td>\n",
       "    </tr>\n",
       "    <tr>\n",
       "      <td>11</td>\n",
       "      <td>RFA_2</td>\n",
       "      <td>0.000000</td>\n",
       "    </tr>\n",
       "    <tr>\n",
       "      <td>12</td>\n",
       "      <td>RFA_3</td>\n",
       "      <td>0.020438</td>\n",
       "    </tr>\n",
       "    <tr>\n",
       "      <td>13</td>\n",
       "      <td>RFA_4</td>\n",
       "      <td>0.024232</td>\n",
       "    </tr>\n",
       "    <tr>\n",
       "      <td>14</td>\n",
       "      <td>RFA_6</td>\n",
       "      <td>0.037280</td>\n",
       "    </tr>\n",
       "    <tr>\n",
       "      <td>15</td>\n",
       "      <td>RFA_7</td>\n",
       "      <td>0.093007</td>\n",
       "    </tr>\n",
       "    <tr>\n",
       "      <td>16</td>\n",
       "      <td>RFA_8</td>\n",
       "      <td>0.036798</td>\n",
       "    </tr>\n",
       "    <tr>\n",
       "      <td>17</td>\n",
       "      <td>RFA_9</td>\n",
       "      <td>0.117857</td>\n",
       "    </tr>\n",
       "    <tr>\n",
       "      <td>18</td>\n",
       "      <td>RFA_11</td>\n",
       "      <td>0.109232</td>\n",
       "    </tr>\n",
       "    <tr>\n",
       "      <td>19</td>\n",
       "      <td>RFA_12</td>\n",
       "      <td>0.093521</td>\n",
       "    </tr>\n",
       "    <tr>\n",
       "      <td>20</td>\n",
       "      <td>RFA_2R</td>\n",
       "      <td>0.000000</td>\n",
       "    </tr>\n",
       "    <tr>\n",
       "      <td>21</td>\n",
       "      <td>RFA_2A</td>\n",
       "      <td>0.000000</td>\n",
       "    </tr>\n",
       "    <tr>\n",
       "      <td>22</td>\n",
       "      <td>MDMAUD_R</td>\n",
       "      <td>0.000000</td>\n",
       "    </tr>\n",
       "    <tr>\n",
       "      <td>23</td>\n",
       "      <td>MDMAUD_F</td>\n",
       "      <td>0.000000</td>\n",
       "    </tr>\n",
       "    <tr>\n",
       "      <td>24</td>\n",
       "      <td>MDMAUD_A</td>\n",
       "      <td>0.000000</td>\n",
       "    </tr>\n",
       "    <tr>\n",
       "      <td>25</td>\n",
       "      <td>GEOCODE2</td>\n",
       "      <td>0.003343</td>\n",
       "    </tr>\n",
       "  </tbody>\n",
       "</table>\n",
       "</div>"
      ],
      "text/plain": [
       "   column_name  nulls_percentage\n",
       "0      OSOURCE          0.009726\n",
       "1        STATE          0.000000\n",
       "2          ZIP          0.000000\n",
       "3     MAILCODE          0.000000\n",
       "4       NOEXCH          0.000073\n",
       "5       MDMAUD          0.000000\n",
       "6       DOMAIN          0.024274\n",
       "7      CLUSTER          0.024274\n",
       "8       GENDER          0.030992\n",
       "9        SOLIH          0.935019\n",
       "10    VETERANS          0.890727\n",
       "11       RFA_2          0.000000\n",
       "12       RFA_3          0.020438\n",
       "13       RFA_4          0.024232\n",
       "14       RFA_6          0.037280\n",
       "15       RFA_7          0.093007\n",
       "16       RFA_8          0.036798\n",
       "17       RFA_9          0.117857\n",
       "18      RFA_11          0.109232\n",
       "19      RFA_12          0.093521\n",
       "20      RFA_2R          0.000000\n",
       "21      RFA_2A          0.000000\n",
       "22    MDMAUD_R          0.000000\n",
       "23    MDMAUD_F          0.000000\n",
       "24    MDMAUD_A          0.000000\n",
       "25    GEOCODE2          0.003343"
      ]
     },
     "execution_count": 193,
     "metadata": {},
     "output_type": "execute_result"
    }
   ],
   "source": [
    "nulls_percent_cat = pd.DataFrame(categorical.isna().sum()/len(categorical)).reset_index()\n",
    "nulls_percent_cat.columns = ['column_name', 'nulls_percentage']\n",
    "nulls_percent_cat"
   ]
  },
  {
   "cell_type": "code",
   "execution_count": 194,
   "metadata": {},
   "outputs": [
    {
     "name": "stdout",
     "output_type": "stream",
     "text": [
      "2\n"
     ]
    },
    {
     "data": {
      "text/html": [
       "<div>\n",
       "<style scoped>\n",
       "    .dataframe tbody tr th:only-of-type {\n",
       "        vertical-align: middle;\n",
       "    }\n",
       "\n",
       "    .dataframe tbody tr th {\n",
       "        vertical-align: top;\n",
       "    }\n",
       "\n",
       "    .dataframe thead th {\n",
       "        text-align: right;\n",
       "    }\n",
       "</style>\n",
       "<table border=\"1\" class=\"dataframe\">\n",
       "  <thead>\n",
       "    <tr style=\"text-align: right;\">\n",
       "      <th></th>\n",
       "      <th>column_name</th>\n",
       "      <th>nulls_percentage</th>\n",
       "    </tr>\n",
       "  </thead>\n",
       "  <tbody>\n",
       "    <tr>\n",
       "      <td>9</td>\n",
       "      <td>SOLIH</td>\n",
       "      <td>0.935019</td>\n",
       "    </tr>\n",
       "    <tr>\n",
       "      <td>10</td>\n",
       "      <td>VETERANS</td>\n",
       "      <td>0.890727</td>\n",
       "    </tr>\n",
       "  </tbody>\n",
       "</table>\n",
       "</div>"
      ],
      "text/plain": [
       "   column_name  nulls_percentage\n",
       "9        SOLIH          0.935019\n",
       "10    VETERANS          0.890727"
      ]
     },
     "execution_count": 194,
     "metadata": {},
     "output_type": "execute_result"
    }
   ],
   "source": [
    "columns_above_threshold_3 = nulls_percent_cat[nulls_percent_cat['nulls_percentage']>0.15]\n",
    "print(len(columns_above_threshold_3['column_name']))\n",
    "columns_above_threshold_3"
   ]
  },
  {
   "cell_type": "code",
   "execution_count": 195,
   "metadata": {},
   "outputs": [],
   "source": [
    "drop_cats= list(columns_above_threshold_3['column_name'])"
   ]
  },
  {
   "cell_type": "code",
   "execution_count": 196,
   "metadata": {},
   "outputs": [
    {
     "data": {
      "text/plain": [
       "['SOLIH', 'VETERANS']"
      ]
     },
     "execution_count": 196,
     "metadata": {},
     "output_type": "execute_result"
    },
    {
     "data": {
      "text/plain": [
       "2"
      ]
     },
     "execution_count": 196,
     "metadata": {},
     "output_type": "execute_result"
    }
   ],
   "source": [
    "drop_cats\n",
    "len(drop_cats)"
   ]
  },
  {
   "cell_type": "code",
   "execution_count": 197,
   "metadata": {},
   "outputs": [],
   "source": [
    "cat_var_keep = ['SOLIH', 'VETERANS']\n",
    "for item in cat_var_keep:\n",
    "    drop_cats.remove(item) "
   ]
  },
  {
   "cell_type": "code",
   "execution_count": 198,
   "metadata": {},
   "outputs": [],
   "source": [
    "categorical.drop(columns= drop_cats, inplace= True)"
   ]
  },
  {
   "cell_type": "code",
   "execution_count": 199,
   "metadata": {
    "scrolled": true
   },
   "outputs": [
    {
     "data": {
      "text/plain": [
       "(95412, 26)"
      ]
     },
     "execution_count": 199,
     "metadata": {},
     "output_type": "execute_result"
    }
   ],
   "source": [
    "categorical.shape"
   ]
  },
  {
   "cell_type": "code",
   "execution_count": 200,
   "metadata": {},
   "outputs": [
    {
     "data": {
      "text/plain": [
       "Index(['OSOURCE', 'STATE', 'ZIP', 'MAILCODE', 'NOEXCH', 'MDMAUD', 'DOMAIN',\n",
       "       'CLUSTER', 'GENDER', 'SOLIH', 'VETERANS', 'RFA_2', 'RFA_3', 'RFA_4',\n",
       "       'RFA_6', 'RFA_7', 'RFA_8', 'RFA_9', 'RFA_11', 'RFA_12', 'RFA_2R',\n",
       "       'RFA_2A', 'MDMAUD_R', 'MDMAUD_F', 'MDMAUD_A', 'GEOCODE2'],\n",
       "      dtype='object')"
      ]
     },
     "execution_count": 200,
     "metadata": {},
     "output_type": "execute_result"
    }
   ],
   "source": [
    "categorical.columns"
   ]
  },
  {
   "cell_type": "code",
   "execution_count": 201,
   "metadata": {},
   "outputs": [],
   "source": [
    "categorical.drop(columns= ['OSOURCE', 'ZIP'], inplace= True)"
   ]
  },
  {
   "cell_type": "code",
   "execution_count": 202,
   "metadata": {},
   "outputs": [
    {
     "data": {
      "text/plain": [
       "F      51277\n",
       "M      39094\n",
       "NaN     2957\n",
       "U       1715\n",
       "J        365\n",
       "A          2\n",
       "C          2\n",
       "Name: GENDER, dtype: int64"
      ]
     },
     "execution_count": 202,
     "metadata": {},
     "output_type": "execute_result"
    }
   ],
   "source": [
    "#Reduce the number of categories in the column GENDER. The column should only have either \"M\" for males, \"F\" for females, and \"other\" for all the rest\n",
    "\n",
    "categorical['GENDER'].value_counts(dropna= False)"
   ]
  },
  {
   "cell_type": "code",
   "execution_count": 203,
   "metadata": {},
   "outputs": [
    {
     "data": {
      "text/plain": [
       "dtype('O')"
      ]
     },
     "execution_count": 203,
     "metadata": {},
     "output_type": "execute_result"
    }
   ],
   "source": [
    "categorical['GENDER'].dtype"
   ]
  },
  {
   "cell_type": "code",
   "execution_count": 204,
   "metadata": {},
   "outputs": [],
   "source": [
    "categorical['GENDER'] = categorical['GENDER'].fillna('F')"
   ]
  },
  {
   "cell_type": "code",
   "execution_count": 205,
   "metadata": {},
   "outputs": [
    {
     "data": {
      "text/plain": [
       "F    54234\n",
       "M    39094\n",
       "U     1715\n",
       "J      365\n",
       "A        2\n",
       "C        2\n",
       "Name: GENDER, dtype: int64"
      ]
     },
     "execution_count": 205,
     "metadata": {},
     "output_type": "execute_result"
    }
   ],
   "source": [
    "categorical['GENDER'].value_counts()"
   ]
  },
  {
   "cell_type": "code",
   "execution_count": 206,
   "metadata": {},
   "outputs": [],
   "source": [
    "def gender_type(x):\n",
    "    if (str(x) == 'F') | (str(x) == 'M'):\n",
    "        return x\n",
    "    else:\n",
    "        return 'O'"
   ]
  },
  {
   "cell_type": "code",
   "execution_count": 207,
   "metadata": {},
   "outputs": [],
   "source": [
    "categorical['GENDER']= categorical['GENDER'].apply(gender_type)"
   ]
  },
  {
   "cell_type": "code",
   "execution_count": 208,
   "metadata": {},
   "outputs": [
    {
     "data": {
      "text/plain": [
       "F    54234\n",
       "M    39094\n",
       "O     2084\n",
       "Name: GENDER, dtype: int64"
      ]
     },
     "execution_count": 208,
     "metadata": {},
     "output_type": "execute_result"
    }
   ],
   "source": [
    "categorical['GENDER'].value_counts()"
   ]
  },
  {
   "cell_type": "markdown",
   "metadata": {
    "id": "joA_cUkK-aCI"
   },
   "source": [
    "We will work on the column DOMAIN. Let's replace the null values with the category that is represented the most and then we will split the data into two columns DOMAIN_A and DOMAIN_B.\n",
    "\n",
    "- DOMAIN_A will consist of the first character from the DOMAIN\n",
    "- DOMAIN_B will consist of the second character from the DOMAIN\n",
    "\n",
    "Then we will drop the original column DOMAIN"
   ]
  },
  {
   "cell_type": "code",
   "execution_count": 209,
   "metadata": {
    "colab": {
     "base_uri": "https://localhost:8080/"
    },
    "id": "OOLr8fnd-T4I",
    "outputId": "9cc761ba-cad6-471d-93fe-8423ad25fc8e"
   },
   "outputs": [
    {
     "data": {
      "text/plain": [
       "R2     13623\n",
       "T2     12369\n",
       "S1     11503\n",
       "S2      8530\n",
       "C2      8264\n",
       "C1      6145\n",
       "C3      5280\n",
       "T1      4982\n",
       "R3      4809\n",
       "U1      4510\n",
       "U2      3254\n",
       "U3      2598\n",
       "NaN     2316\n",
       "T3      2176\n",
       "S3      1891\n",
       "U4      1804\n",
       "R1      1358\n",
       "Name: DOMAIN, dtype: int64"
      ]
     },
     "execution_count": 209,
     "metadata": {},
     "output_type": "execute_result"
    }
   ],
   "source": [
    "categorical['DOMAIN'].value_counts(dropna=False)"
   ]
  },
  {
   "cell_type": "code",
   "execution_count": 210,
   "metadata": {
    "id": "auI-d8ZI-jtV"
   },
   "outputs": [],
   "source": [
    "categorical['DOMAIN'] = categorical['DOMAIN'].fillna('R2')"
   ]
  },
  {
   "cell_type": "code",
   "execution_count": 211,
   "metadata": {
    "id": "r-AX-0Fy-5F2"
   },
   "outputs": [],
   "source": [
    "categorical['DOMAIN_A'] = list(map(lambda x: x[0], categorical['DOMAIN']))\n",
    "categorical['DOMAIN_B'] = list(map(lambda x: x[1], categorical['DOMAIN']))"
   ]
  },
  {
   "cell_type": "code",
   "execution_count": 212,
   "metadata": {
    "id": "ejjxExwR_AWp"
   },
   "outputs": [],
   "source": [
    "categorical = categorical.drop(columns=['DOMAIN'])"
   ]
  },
  {
   "cell_type": "code",
   "execution_count": 213,
   "metadata": {
    "colab": {
     "base_uri": "https://localhost:8080/",
     "height": 224
    },
    "id": "GLyUipyZ_CwU",
    "outputId": "46a6bba3-f617-485c-a565-5456d246c5b1"
   },
   "outputs": [
    {
     "data": {
      "text/html": [
       "<div>\n",
       "<style scoped>\n",
       "    .dataframe tbody tr th:only-of-type {\n",
       "        vertical-align: middle;\n",
       "    }\n",
       "\n",
       "    .dataframe tbody tr th {\n",
       "        vertical-align: top;\n",
       "    }\n",
       "\n",
       "    .dataframe thead th {\n",
       "        text-align: right;\n",
       "    }\n",
       "</style>\n",
       "<table border=\"1\" class=\"dataframe\">\n",
       "  <thead>\n",
       "    <tr style=\"text-align: right;\">\n",
       "      <th></th>\n",
       "      <th>STATE</th>\n",
       "      <th>MAILCODE</th>\n",
       "      <th>NOEXCH</th>\n",
       "      <th>MDMAUD</th>\n",
       "      <th>CLUSTER</th>\n",
       "      <th>GENDER</th>\n",
       "      <th>SOLIH</th>\n",
       "      <th>VETERANS</th>\n",
       "      <th>RFA_2</th>\n",
       "      <th>RFA_3</th>\n",
       "      <th>...</th>\n",
       "      <th>RFA_11</th>\n",
       "      <th>RFA_12</th>\n",
       "      <th>RFA_2R</th>\n",
       "      <th>RFA_2A</th>\n",
       "      <th>MDMAUD_R</th>\n",
       "      <th>MDMAUD_F</th>\n",
       "      <th>MDMAUD_A</th>\n",
       "      <th>GEOCODE2</th>\n",
       "      <th>DOMAIN_A</th>\n",
       "      <th>DOMAIN_B</th>\n",
       "    </tr>\n",
       "  </thead>\n",
       "  <tbody>\n",
       "    <tr>\n",
       "      <td>0</td>\n",
       "      <td>IL</td>\n",
       "      <td>A</td>\n",
       "      <td>0</td>\n",
       "      <td>XXXX</td>\n",
       "      <td>36</td>\n",
       "      <td>F</td>\n",
       "      <td>NaN</td>\n",
       "      <td>NaN</td>\n",
       "      <td>L4E</td>\n",
       "      <td>S4E</td>\n",
       "      <td>...</td>\n",
       "      <td>S4E</td>\n",
       "      <td>S4E</td>\n",
       "      <td>L</td>\n",
       "      <td>E</td>\n",
       "      <td>X</td>\n",
       "      <td>X</td>\n",
       "      <td>X</td>\n",
       "      <td>C</td>\n",
       "      <td>T</td>\n",
       "      <td>2</td>\n",
       "    </tr>\n",
       "    <tr>\n",
       "      <td>1</td>\n",
       "      <td>CA</td>\n",
       "      <td>A</td>\n",
       "      <td>0</td>\n",
       "      <td>XXXX</td>\n",
       "      <td>14</td>\n",
       "      <td>M</td>\n",
       "      <td>NaN</td>\n",
       "      <td>NaN</td>\n",
       "      <td>L2G</td>\n",
       "      <td>A2G</td>\n",
       "      <td>...</td>\n",
       "      <td>A1E</td>\n",
       "      <td>A1E</td>\n",
       "      <td>L</td>\n",
       "      <td>G</td>\n",
       "      <td>X</td>\n",
       "      <td>X</td>\n",
       "      <td>X</td>\n",
       "      <td>A</td>\n",
       "      <td>S</td>\n",
       "      <td>1</td>\n",
       "    </tr>\n",
       "    <tr>\n",
       "      <td>2</td>\n",
       "      <td>NC</td>\n",
       "      <td>A</td>\n",
       "      <td>0</td>\n",
       "      <td>XXXX</td>\n",
       "      <td>43</td>\n",
       "      <td>M</td>\n",
       "      <td>NaN</td>\n",
       "      <td>NaN</td>\n",
       "      <td>L4E</td>\n",
       "      <td>S4E</td>\n",
       "      <td>...</td>\n",
       "      <td>S4F</td>\n",
       "      <td>S4F</td>\n",
       "      <td>L</td>\n",
       "      <td>E</td>\n",
       "      <td>X</td>\n",
       "      <td>X</td>\n",
       "      <td>X</td>\n",
       "      <td>C</td>\n",
       "      <td>R</td>\n",
       "      <td>2</td>\n",
       "    </tr>\n",
       "    <tr>\n",
       "      <td>3</td>\n",
       "      <td>CA</td>\n",
       "      <td>A</td>\n",
       "      <td>0</td>\n",
       "      <td>XXXX</td>\n",
       "      <td>44</td>\n",
       "      <td>F</td>\n",
       "      <td>NaN</td>\n",
       "      <td>NaN</td>\n",
       "      <td>L4E</td>\n",
       "      <td>S4E</td>\n",
       "      <td>...</td>\n",
       "      <td>S4E</td>\n",
       "      <td>S4E</td>\n",
       "      <td>L</td>\n",
       "      <td>E</td>\n",
       "      <td>X</td>\n",
       "      <td>X</td>\n",
       "      <td>X</td>\n",
       "      <td>C</td>\n",
       "      <td>R</td>\n",
       "      <td>2</td>\n",
       "    </tr>\n",
       "    <tr>\n",
       "      <td>4</td>\n",
       "      <td>FL</td>\n",
       "      <td>A</td>\n",
       "      <td>0</td>\n",
       "      <td>XXXX</td>\n",
       "      <td>16</td>\n",
       "      <td>F</td>\n",
       "      <td>12</td>\n",
       "      <td>NaN</td>\n",
       "      <td>L2F</td>\n",
       "      <td>A2F</td>\n",
       "      <td>...</td>\n",
       "      <td>A1E</td>\n",
       "      <td>A1E</td>\n",
       "      <td>L</td>\n",
       "      <td>F</td>\n",
       "      <td>X</td>\n",
       "      <td>X</td>\n",
       "      <td>X</td>\n",
       "      <td>A</td>\n",
       "      <td>S</td>\n",
       "      <td>2</td>\n",
       "    </tr>\n",
       "  </tbody>\n",
       "</table>\n",
       "<p>5 rows × 25 columns</p>\n",
       "</div>"
      ],
      "text/plain": [
       "  STATE MAILCODE NOEXCH MDMAUD CLUSTER GENDER SOLIH VETERANS RFA_2 RFA_3  ...  \\\n",
       "0    IL        A      0   XXXX      36      F   NaN      NaN   L4E   S4E  ...   \n",
       "1    CA        A      0   XXXX      14      M   NaN      NaN   L2G   A2G  ...   \n",
       "2    NC        A      0   XXXX      43      M   NaN      NaN   L4E   S4E  ...   \n",
       "3    CA        A      0   XXXX      44      F   NaN      NaN   L4E   S4E  ...   \n",
       "4    FL        A      0   XXXX      16      F    12      NaN   L2F   A2F  ...   \n",
       "\n",
       "  RFA_11 RFA_12 RFA_2R RFA_2A MDMAUD_R MDMAUD_F MDMAUD_A GEOCODE2 DOMAIN_A  \\\n",
       "0    S4E    S4E      L      E        X        X        X        C        T   \n",
       "1    A1E    A1E      L      G        X        X        X        A        S   \n",
       "2    S4F    S4F      L      E        X        X        X        C        R   \n",
       "3    S4E    S4E      L      E        X        X        X        C        R   \n",
       "4    A1E    A1E      L      F        X        X        X        A        S   \n",
       "\n",
       "  DOMAIN_B  \n",
       "0        2  \n",
       "1        1  \n",
       "2        2  \n",
       "3        2  \n",
       "4        2  \n",
       "\n",
       "[5 rows x 25 columns]"
      ]
     },
     "execution_count": 213,
     "metadata": {},
     "output_type": "execute_result"
    }
   ],
   "source": [
    "categorical.head()"
   ]
  },
  {
   "cell_type": "markdown",
   "metadata": {
    "id": "LlsQT1bO_G8e"
   },
   "source": [
    "### Activity 2.1"
   ]
  },
  {
   "cell_type": "code",
   "execution_count": 214,
   "metadata": {},
   "outputs": [],
   "source": [
    "red_cat= categorical[['MAILCODE', 'NOEXCH', 'MDMAUD']]"
   ]
  },
  {
   "cell_type": "code",
   "execution_count": 215,
   "metadata": {},
   "outputs": [],
   "source": [
    "red_cad_list= red_cat.columns"
   ]
  },
  {
   "cell_type": "code",
   "execution_count": 216,
   "metadata": {
    "scrolled": true
   },
   "outputs": [
    {
     "name": "stdout",
     "output_type": "stream",
     "text": [
      "AxesSubplot(0.125,0.125;0.775x0.755)\n"
     ]
    },
    {
     "data": {
      "image/png": "[encoded data removed]",
      "text/plain": [
       "<Figure size 432x288 with 1 Axes>"
      ]
     },
     "metadata": {
      "needs_background": "light"
     },
     "output_type": "display_data"
    },
    {
     "name": "stdout",
     "output_type": "stream",
     "text": [
      "AxesSubplot(0.125,0.125;0.775x0.755)\n"
     ]
    },
    {
     "data": {
      "image/png": "[encoded data removed]",
      "text/plain": [
       "<Figure size 432x288 with 1 Axes>"
      ]
     },
     "metadata": {
      "needs_background": "light"
     },
     "output_type": "display_data"
    },
    {
     "name": "stdout",
     "output_type": "stream",
     "text": [
      "AxesSubplot(0.125,0.125;0.775x0.755)\n"
     ]
    },
    {
     "data": {
      "image/png": "[encoded data removed]",
      "text/plain": [
       "<Figure size 432x288 with 1 Axes>"
      ]
     },
     "metadata": {
      "needs_background": "light"
     },
     "output_type": "display_data"
    }
   ],
   "source": [
    "red_cat= categorical[['MAILCODE', 'NOEXCH', 'MDMAUD']]\n",
    "for x in red_cat.columns:\n",
    "    if red_cat[x].dtype == 'object':\n",
    "        plt.show()\n",
    "        print(sns.countplot(x= x, data= red_cat))"
   ]
  },
  {
   "cell_type": "code",
   "execution_count": 217,
   "metadata": {},
   "outputs": [],
   "source": [
    "categorical.drop(columns= red_cad_list, inplace= True)"
   ]
  },
  {
   "cell_type": "code",
   "execution_count": null,
   "metadata": {},
   "outputs": [],
   "source": []
  },
  {
   "cell_type": "code",
   "execution_count": null,
   "metadata": {},
   "outputs": [],
   "source": []
  },
  {
   "cell_type": "raw",
   "metadata": {
    "id": "QfV5vXPe__OQ"
   },
   "source": [
    "drop_list = drop_list + ['MDMAUD_R', 'MDMAUD_F','MDMAUD_A']"
   ]
  },
  {
   "cell_type": "markdown",
   "metadata": {
    "id": "5E2oG4yiAAZg"
   },
   "source": [
    "Replacing NULL values"
   ]
  },
  {
   "cell_type": "code",
   "execution_count": 218,
   "metadata": {
    "colab": {
     "base_uri": "https://localhost:8080/"
    },
    "id": "XAvVonMEAKkq",
    "outputId": "2d7b21ef-7392-4903-cf83-59c106524649"
   },
   "outputs": [
    {
     "data": {
      "text/plain": [
       "40     3979\n",
       "35     3624\n",
       "36     3617\n",
       "27     3553\n",
       "24     3539\n",
       "49     3315\n",
       "12     3000\n",
       "18     2897\n",
       "13     2706\n",
       "30     2607\n",
       "39     2601\n",
       "45     2515\n",
       "43     2385\n",
       "11     2378\n",
       "51     2322\n",
       "NaN    2316\n",
       "14     2246\n",
       "41     2176\n",
       "44     1953\n",
       "16     1947\n",
       "2      1942\n",
       "21     1891\n",
       "8      1828\n",
       "10     1804\n",
       "46     1800\n",
       "28     1630\n",
       "17     1621\n",
       "20     1568\n",
       "53     1441\n",
       "3      1428\n",
       "42     1358\n",
       "34     1358\n",
       "23     1324\n",
       "31     1285\n",
       "22     1282\n",
       "25     1275\n",
       "38     1200\n",
       "15     1173\n",
       "1      1140\n",
       "7      1076\n",
       "5      1014\n",
       "37      972\n",
       "26      947\n",
       "47      868\n",
       "29      859\n",
       "32      795\n",
       "48      787\n",
       "50      776\n",
       "9       770\n",
       "6       603\n",
       "33      593\n",
       "4       561\n",
       "19      497\n",
       "52      270\n",
       "Name: CLUSTER, dtype: int64"
      ]
     },
     "execution_count": 218,
     "metadata": {},
     "output_type": "execute_result"
    }
   ],
   "source": [
    "categorical['CLUSTER'].value_counts(dropna=False)"
   ]
  },
  {
   "cell_type": "code",
   "execution_count": 219,
   "metadata": {
    "id": "nz2co7njgulg"
   },
   "outputs": [],
   "source": [
    "categorical['CLUSTER'] = categorical['CLUSTER'].fillna('40')"
   ]
  },
  {
   "cell_type": "code",
   "execution_count": 220,
   "metadata": {
    "scrolled": true
   },
   "outputs": [
    {
     "data": {
      "text/plain": [
       "Index(['STATE', 'CLUSTER', 'GENDER', 'SOLIH', 'VETERANS', 'RFA_2', 'RFA_3',\n",
       "       'RFA_4', 'RFA_6', 'RFA_7', 'RFA_8', 'RFA_9', 'RFA_11', 'RFA_12',\n",
       "       'RFA_2R', 'RFA_2A', 'MDMAUD_R', 'MDMAUD_F', 'MDMAUD_A', 'GEOCODE2',\n",
       "       'DOMAIN_A', 'DOMAIN_B'],\n",
       "      dtype='object')"
      ]
     },
     "execution_count": 220,
     "metadata": {},
     "output_type": "execute_result"
    }
   ],
   "source": [
    "categorical.columns"
   ]
  },
  {
   "cell_type": "code",
   "execution_count": 221,
   "metadata": {
    "colab": {
     "base_uri": "https://localhost:8080/"
    },
    "id": "Bihmdzrdgulh",
    "outputId": "cd7b35a3-3faa-4ba5-b9bf-9860d3c0b732"
   },
   "outputs": [
    {
     "data": {
      "text/plain": [
       "A      34484\n",
       "B      28505\n",
       "D      16580\n",
       "C      15524\n",
       "NaN      319\n",
       "Name: GEOCODE2, dtype: int64"
      ]
     },
     "execution_count": 221,
     "metadata": {},
     "output_type": "execute_result"
    }
   ],
   "source": [
    "categorical['GEOCODE2'].value_counts(dropna=False)"
   ]
  },
  {
   "cell_type": "code",
   "execution_count": 222,
   "metadata": {
    "id": "5UUE3XVDA5JV"
   },
   "outputs": [],
   "source": [
    "categorical['GEOCODE2'] = categorical['GEOCODE2'].fillna('A')"
   ]
  },
  {
   "cell_type": "code",
   "execution_count": 223,
   "metadata": {
    "colab": {
     "base_uri": "https://localhost:8080/",
     "height": 224
    },
    "id": "6DhlErgSBpJC",
    "outputId": "bc8503ef-eef9-40cf-aff3-2d5b201dfa8f"
   },
   "outputs": [
    {
     "data": {
      "text/html": [
       "<div>\n",
       "<style scoped>\n",
       "    .dataframe tbody tr th:only-of-type {\n",
       "        vertical-align: middle;\n",
       "    }\n",
       "\n",
       "    .dataframe tbody tr th {\n",
       "        vertical-align: top;\n",
       "    }\n",
       "\n",
       "    .dataframe thead th {\n",
       "        text-align: right;\n",
       "    }\n",
       "</style>\n",
       "<table border=\"1\" class=\"dataframe\">\n",
       "  <thead>\n",
       "    <tr style=\"text-align: right;\">\n",
       "      <th></th>\n",
       "      <th>STATE</th>\n",
       "      <th>CLUSTER</th>\n",
       "      <th>GENDER</th>\n",
       "      <th>SOLIH</th>\n",
       "      <th>VETERANS</th>\n",
       "      <th>RFA_2</th>\n",
       "      <th>RFA_3</th>\n",
       "      <th>RFA_4</th>\n",
       "      <th>RFA_6</th>\n",
       "      <th>RFA_7</th>\n",
       "      <th>...</th>\n",
       "      <th>RFA_11</th>\n",
       "      <th>RFA_12</th>\n",
       "      <th>RFA_2R</th>\n",
       "      <th>RFA_2A</th>\n",
       "      <th>MDMAUD_R</th>\n",
       "      <th>MDMAUD_F</th>\n",
       "      <th>MDMAUD_A</th>\n",
       "      <th>GEOCODE2</th>\n",
       "      <th>DOMAIN_A</th>\n",
       "      <th>DOMAIN_B</th>\n",
       "    </tr>\n",
       "  </thead>\n",
       "  <tbody>\n",
       "    <tr>\n",
       "      <td>0</td>\n",
       "      <td>IL</td>\n",
       "      <td>36</td>\n",
       "      <td>F</td>\n",
       "      <td>NaN</td>\n",
       "      <td>NaN</td>\n",
       "      <td>L4E</td>\n",
       "      <td>S4E</td>\n",
       "      <td>S4E</td>\n",
       "      <td>S4E</td>\n",
       "      <td>S4E</td>\n",
       "      <td>...</td>\n",
       "      <td>S4E</td>\n",
       "      <td>S4E</td>\n",
       "      <td>L</td>\n",
       "      <td>E</td>\n",
       "      <td>X</td>\n",
       "      <td>X</td>\n",
       "      <td>X</td>\n",
       "      <td>C</td>\n",
       "      <td>T</td>\n",
       "      <td>2</td>\n",
       "    </tr>\n",
       "    <tr>\n",
       "      <td>1</td>\n",
       "      <td>CA</td>\n",
       "      <td>14</td>\n",
       "      <td>M</td>\n",
       "      <td>NaN</td>\n",
       "      <td>NaN</td>\n",
       "      <td>L2G</td>\n",
       "      <td>A2G</td>\n",
       "      <td>A2G</td>\n",
       "      <td>A2G</td>\n",
       "      <td>A1E</td>\n",
       "      <td>...</td>\n",
       "      <td>A1E</td>\n",
       "      <td>A1E</td>\n",
       "      <td>L</td>\n",
       "      <td>G</td>\n",
       "      <td>X</td>\n",
       "      <td>X</td>\n",
       "      <td>X</td>\n",
       "      <td>A</td>\n",
       "      <td>S</td>\n",
       "      <td>1</td>\n",
       "    </tr>\n",
       "    <tr>\n",
       "      <td>2</td>\n",
       "      <td>NC</td>\n",
       "      <td>43</td>\n",
       "      <td>M</td>\n",
       "      <td>NaN</td>\n",
       "      <td>NaN</td>\n",
       "      <td>L4E</td>\n",
       "      <td>S4E</td>\n",
       "      <td>S4E</td>\n",
       "      <td>S4E</td>\n",
       "      <td>S4F</td>\n",
       "      <td>...</td>\n",
       "      <td>S4F</td>\n",
       "      <td>S4F</td>\n",
       "      <td>L</td>\n",
       "      <td>E</td>\n",
       "      <td>X</td>\n",
       "      <td>X</td>\n",
       "      <td>X</td>\n",
       "      <td>C</td>\n",
       "      <td>R</td>\n",
       "      <td>2</td>\n",
       "    </tr>\n",
       "    <tr>\n",
       "      <td>3</td>\n",
       "      <td>CA</td>\n",
       "      <td>44</td>\n",
       "      <td>F</td>\n",
       "      <td>NaN</td>\n",
       "      <td>NaN</td>\n",
       "      <td>L4E</td>\n",
       "      <td>S4E</td>\n",
       "      <td>S4E</td>\n",
       "      <td>S4E</td>\n",
       "      <td>S4E</td>\n",
       "      <td>...</td>\n",
       "      <td>S4E</td>\n",
       "      <td>S4E</td>\n",
       "      <td>L</td>\n",
       "      <td>E</td>\n",
       "      <td>X</td>\n",
       "      <td>X</td>\n",
       "      <td>X</td>\n",
       "      <td>C</td>\n",
       "      <td>R</td>\n",
       "      <td>2</td>\n",
       "    </tr>\n",
       "    <tr>\n",
       "      <td>4</td>\n",
       "      <td>FL</td>\n",
       "      <td>16</td>\n",
       "      <td>F</td>\n",
       "      <td>12</td>\n",
       "      <td>NaN</td>\n",
       "      <td>L2F</td>\n",
       "      <td>A2F</td>\n",
       "      <td>A2F</td>\n",
       "      <td>A1D</td>\n",
       "      <td>I2D</td>\n",
       "      <td>...</td>\n",
       "      <td>A1E</td>\n",
       "      <td>A1E</td>\n",
       "      <td>L</td>\n",
       "      <td>F</td>\n",
       "      <td>X</td>\n",
       "      <td>X</td>\n",
       "      <td>X</td>\n",
       "      <td>A</td>\n",
       "      <td>S</td>\n",
       "      <td>2</td>\n",
       "    </tr>\n",
       "  </tbody>\n",
       "</table>\n",
       "<p>5 rows × 22 columns</p>\n",
       "</div>"
      ],
      "text/plain": [
       "  STATE CLUSTER GENDER SOLIH VETERANS RFA_2 RFA_3 RFA_4 RFA_6 RFA_7  ...  \\\n",
       "0    IL      36      F   NaN      NaN   L4E   S4E   S4E   S4E   S4E  ...   \n",
       "1    CA      14      M   NaN      NaN   L2G   A2G   A2G   A2G   A1E  ...   \n",
       "2    NC      43      M   NaN      NaN   L4E   S4E   S4E   S4E   S4F  ...   \n",
       "3    CA      44      F   NaN      NaN   L4E   S4E   S4E   S4E   S4E  ...   \n",
       "4    FL      16      F    12      NaN   L2F   A2F   A2F   A1D   I2D  ...   \n",
       "\n",
       "  RFA_11 RFA_12 RFA_2R RFA_2A MDMAUD_R MDMAUD_F MDMAUD_A GEOCODE2 DOMAIN_A  \\\n",
       "0    S4E    S4E      L      E        X        X        X        C        T   \n",
       "1    A1E    A1E      L      G        X        X        X        A        S   \n",
       "2    S4F    S4F      L      E        X        X        X        C        R   \n",
       "3    S4E    S4E      L      E        X        X        X        C        R   \n",
       "4    A1E    A1E      L      F        X        X        X        A        S   \n",
       "\n",
       "  DOMAIN_B  \n",
       "0        2  \n",
       "1        1  \n",
       "2        2  \n",
       "3        2  \n",
       "4        2  \n",
       "\n",
       "[5 rows x 22 columns]"
      ]
     },
     "execution_count": 223,
     "metadata": {},
     "output_type": "execute_result"
    },
    {
     "data": {
      "text/plain": [
       "(95412, 22)"
      ]
     },
     "execution_count": 223,
     "metadata": {},
     "output_type": "execute_result"
    }
   ],
   "source": [
    "categorical.head()\n",
    "categorical.shape"
   ]
  },
  {
   "cell_type": "markdown",
   "metadata": {
    "id": "Zsievy73A84d"
   },
   "source": [
    "Removing columns with similar information"
   ]
  },
  {
   "cell_type": "code",
   "execution_count": 224,
   "metadata": {
    "colab": {
     "base_uri": "https://localhost:8080/"
    },
    "id": "ICkCQVFZgulh",
    "outputId": "8f8eaa6e-b020-4cd2-cc35-f3f9e5deeede"
   },
   "outputs": [
    {
     "data": {
      "text/plain": [
       "L1F    30380\n",
       "L1G    12384\n",
       "L2F    10961\n",
       "L3E     7767\n",
       "L2E     4989\n",
       "L4D     4914\n",
       "L1E     4911\n",
       "L2G     4595\n",
       "L4E     3972\n",
       "L3F     3523\n",
       "L3D     2498\n",
       "L4F     2100\n",
       "L3G     1503\n",
       "L4G      915\n",
       "Name: RFA_2, dtype: int64"
      ]
     },
     "execution_count": 224,
     "metadata": {},
     "output_type": "execute_result"
    }
   ],
   "source": [
    "categorical['RFA_2'].value_counts()"
   ]
  },
  {
   "cell_type": "raw",
   "metadata": {
    "id": "igaSHXgwguli"
   },
   "source": [
    "# We will keep the column RFA_2X. We will delete rest of the columns \n",
    "\n",
    "for col_name in categorical.columns:\n",
    "    if \"RFA\" in col_name:\n",
    "        drop_list.append(col_name)       "
   ]
  },
  {
   "cell_type": "raw",
   "metadata": {
    "colab": {
     "base_uri": "https://localhost:8080/"
    },
    "id": "p9GpZ4A7guli",
    "outputId": "e64b793a-d4bf-43a9-bcfc-c8caa441477e"
   },
   "source": [
    "drop_list.remove('RFA_2R')\n",
    "drop_list.remove('RFA_2A')\n",
    "drop_list"
   ]
  },
  {
   "cell_type": "raw",
   "metadata": {
    "colab": {
     "base_uri": "https://localhost:8080/",
     "height": 204
    },
    "id": "yud6-l57guli",
    "outputId": "d47e1e80-b02b-4495-c4d1-e2c6f941ccdb"
   },
   "source": [
    "categorical = categorical.drop(columns=drop_list)\n",
    "categorical.head()"
   ]
  },
  {
   "cell_type": "code",
   "execution_count": 147,
   "metadata": {
    "colab": {
     "base_uri": "https://localhost:8080/"
    },
    "id": "hpvZ99o7guli",
    "outputId": "dacbee7d-fe75-4ac1-9551-005abe74e288"
   },
   "outputs": [
    {
     "data": {
      "text/plain": [
       "STATE           0\n",
       "CLUSTER         0\n",
       "GENDER          0\n",
       "SOLIH       89212\n",
       "VETERANS    84986\n",
       "RFA_2           0\n",
       "RFA_3        1950\n",
       "RFA_4        2312\n",
       "RFA_6        3557\n",
       "RFA_7        8874\n",
       "RFA_8        3511\n",
       "RFA_9       11245\n",
       "RFA_11      10422\n",
       "RFA_12       8923\n",
       "RFA_2R          0\n",
       "RFA_2A          0\n",
       "MDMAUD_R        0\n",
       "MDMAUD_F        0\n",
       "MDMAUD_A        0\n",
       "GEOCODE2        0\n",
       "DOMAIN_A        0\n",
       "DOMAIN_B        0\n",
       "dtype: int64"
      ]
     },
     "execution_count": 147,
     "metadata": {},
     "output_type": "execute_result"
    }
   ],
   "source": [
    "categorical.isna().sum()"
   ]
  },
  {
   "cell_type": "raw",
   "metadata": {},
   "source": [
    "drop_list"
   ]
  },
  {
   "cell_type": "raw",
   "metadata": {},
   "source": [
    "for x in drop_list:\n",
    "    if x in categorical.columns:\n",
    "        categorical= categorical.drop(columns= x)\n",
    "    else: pass"
   ]
  },
  {
   "cell_type": "code",
   "execution_count": 225,
   "metadata": {},
   "outputs": [],
   "source": [
    "# Final table after the analysis\n",
    "\n",
    "categorical= categorical[['STATE', 'CLUSTER', 'GENDER', 'RFA_2R',\n",
    "       'RFA_2A', 'GEOCODE2', 'DOMAIN_A', 'DOMAIN_B']]"
   ]
  },
  {
   "cell_type": "code",
   "execution_count": 226,
   "metadata": {},
   "outputs": [
    {
     "data": {
      "text/html": [
       "<div>\n",
       "<style scoped>\n",
       "    .dataframe tbody tr th:only-of-type {\n",
       "        vertical-align: middle;\n",
       "    }\n",
       "\n",
       "    .dataframe tbody tr th {\n",
       "        vertical-align: top;\n",
       "    }\n",
       "\n",
       "    .dataframe thead th {\n",
       "        text-align: right;\n",
       "    }\n",
       "</style>\n",
       "<table border=\"1\" class=\"dataframe\">\n",
       "  <thead>\n",
       "    <tr style=\"text-align: right;\">\n",
       "      <th></th>\n",
       "      <th>STATE</th>\n",
       "      <th>CLUSTER</th>\n",
       "      <th>GENDER</th>\n",
       "      <th>RFA_2R</th>\n",
       "      <th>RFA_2A</th>\n",
       "      <th>GEOCODE2</th>\n",
       "      <th>DOMAIN_A</th>\n",
       "      <th>DOMAIN_B</th>\n",
       "    </tr>\n",
       "  </thead>\n",
       "  <tbody>\n",
       "    <tr>\n",
       "      <td>0</td>\n",
       "      <td>IL</td>\n",
       "      <td>36</td>\n",
       "      <td>F</td>\n",
       "      <td>L</td>\n",
       "      <td>E</td>\n",
       "      <td>C</td>\n",
       "      <td>T</td>\n",
       "      <td>2</td>\n",
       "    </tr>\n",
       "    <tr>\n",
       "      <td>1</td>\n",
       "      <td>CA</td>\n",
       "      <td>14</td>\n",
       "      <td>M</td>\n",
       "      <td>L</td>\n",
       "      <td>G</td>\n",
       "      <td>A</td>\n",
       "      <td>S</td>\n",
       "      <td>1</td>\n",
       "    </tr>\n",
       "    <tr>\n",
       "      <td>2</td>\n",
       "      <td>NC</td>\n",
       "      <td>43</td>\n",
       "      <td>M</td>\n",
       "      <td>L</td>\n",
       "      <td>E</td>\n",
       "      <td>C</td>\n",
       "      <td>R</td>\n",
       "      <td>2</td>\n",
       "    </tr>\n",
       "    <tr>\n",
       "      <td>3</td>\n",
       "      <td>CA</td>\n",
       "      <td>44</td>\n",
       "      <td>F</td>\n",
       "      <td>L</td>\n",
       "      <td>E</td>\n",
       "      <td>C</td>\n",
       "      <td>R</td>\n",
       "      <td>2</td>\n",
       "    </tr>\n",
       "    <tr>\n",
       "      <td>4</td>\n",
       "      <td>FL</td>\n",
       "      <td>16</td>\n",
       "      <td>F</td>\n",
       "      <td>L</td>\n",
       "      <td>F</td>\n",
       "      <td>A</td>\n",
       "      <td>S</td>\n",
       "      <td>2</td>\n",
       "    </tr>\n",
       "  </tbody>\n",
       "</table>\n",
       "</div>"
      ],
      "text/plain": [
       "  STATE CLUSTER GENDER RFA_2R RFA_2A GEOCODE2 DOMAIN_A DOMAIN_B\n",
       "0    IL      36      F      L      E        C        T        2\n",
       "1    CA      14      M      L      G        A        S        1\n",
       "2    NC      43      M      L      E        C        R        2\n",
       "3    CA      44      F      L      E        C        R        2\n",
       "4    FL      16      F      L      F        A        S        2"
      ]
     },
     "execution_count": 226,
     "metadata": {},
     "output_type": "execute_result"
    }
   ],
   "source": [
    "categorical.head()"
   ]
  },
  {
   "cell_type": "markdown",
   "metadata": {
    "id": "s3_M5nPHgulj"
   },
   "source": [
    "# Working with numerical columns "
   ]
  },
  {
   "cell_type": "code",
   "execution_count": 227,
   "metadata": {
    "colab": {
     "base_uri": "https://localhost:8080/",
     "height": 253
    },
    "id": "UX2paZWRgulj",
    "outputId": "3c4e134f-c748-48c7-bbde-bf94f8bf0151"
   },
   "outputs": [
    {
     "data": {
      "text/html": [
       "<div>\n",
       "<style scoped>\n",
       "    .dataframe tbody tr th:only-of-type {\n",
       "        vertical-align: middle;\n",
       "    }\n",
       "\n",
       "    .dataframe tbody tr th {\n",
       "        vertical-align: top;\n",
       "    }\n",
       "\n",
       "    .dataframe thead th {\n",
       "        text-align: right;\n",
       "    }\n",
       "</style>\n",
       "<table border=\"1\" class=\"dataframe\">\n",
       "  <thead>\n",
       "    <tr style=\"text-align: right;\">\n",
       "      <th></th>\n",
       "      <th>ODATEDW</th>\n",
       "      <th>TCODE</th>\n",
       "      <th>DOB</th>\n",
       "      <th>AGE</th>\n",
       "      <th>INCOME</th>\n",
       "      <th>WEALTH1</th>\n",
       "      <th>HIT</th>\n",
       "      <th>MALEMILI</th>\n",
       "      <th>MALEVET</th>\n",
       "      <th>VIETVETS</th>\n",
       "      <th>...</th>\n",
       "      <th>LASTGIFT</th>\n",
       "      <th>LASTDATE</th>\n",
       "      <th>FISTDATE</th>\n",
       "      <th>NEXTDATE</th>\n",
       "      <th>TIMELAG</th>\n",
       "      <th>AVGGIFT</th>\n",
       "      <th>CONTROLN</th>\n",
       "      <th>HPHONE_D</th>\n",
       "      <th>RFA_2F</th>\n",
       "      <th>CLUSTER2</th>\n",
       "    </tr>\n",
       "  </thead>\n",
       "  <tbody>\n",
       "    <tr>\n",
       "      <td>0</td>\n",
       "      <td>8901</td>\n",
       "      <td>0</td>\n",
       "      <td>3712</td>\n",
       "      <td>60.0</td>\n",
       "      <td>NaN</td>\n",
       "      <td>NaN</td>\n",
       "      <td>0</td>\n",
       "      <td>0</td>\n",
       "      <td>39</td>\n",
       "      <td>34</td>\n",
       "      <td>...</td>\n",
       "      <td>10.0</td>\n",
       "      <td>9512</td>\n",
       "      <td>8911</td>\n",
       "      <td>9003.0</td>\n",
       "      <td>4.0</td>\n",
       "      <td>7.741935</td>\n",
       "      <td>95515</td>\n",
       "      <td>0</td>\n",
       "      <td>4</td>\n",
       "      <td>39.0</td>\n",
       "    </tr>\n",
       "    <tr>\n",
       "      <td>1</td>\n",
       "      <td>9401</td>\n",
       "      <td>1</td>\n",
       "      <td>5202</td>\n",
       "      <td>46.0</td>\n",
       "      <td>6.0</td>\n",
       "      <td>9.0</td>\n",
       "      <td>16</td>\n",
       "      <td>0</td>\n",
       "      <td>15</td>\n",
       "      <td>55</td>\n",
       "      <td>...</td>\n",
       "      <td>25.0</td>\n",
       "      <td>9512</td>\n",
       "      <td>9310</td>\n",
       "      <td>9504.0</td>\n",
       "      <td>18.0</td>\n",
       "      <td>15.666667</td>\n",
       "      <td>148535</td>\n",
       "      <td>0</td>\n",
       "      <td>2</td>\n",
       "      <td>1.0</td>\n",
       "    </tr>\n",
       "    <tr>\n",
       "      <td>2</td>\n",
       "      <td>9001</td>\n",
       "      <td>1</td>\n",
       "      <td>0</td>\n",
       "      <td>NaN</td>\n",
       "      <td>3.0</td>\n",
       "      <td>1.0</td>\n",
       "      <td>2</td>\n",
       "      <td>0</td>\n",
       "      <td>20</td>\n",
       "      <td>29</td>\n",
       "      <td>...</td>\n",
       "      <td>5.0</td>\n",
       "      <td>9512</td>\n",
       "      <td>9001</td>\n",
       "      <td>9101.0</td>\n",
       "      <td>12.0</td>\n",
       "      <td>7.481481</td>\n",
       "      <td>15078</td>\n",
       "      <td>1</td>\n",
       "      <td>4</td>\n",
       "      <td>60.0</td>\n",
       "    </tr>\n",
       "    <tr>\n",
       "      <td>3</td>\n",
       "      <td>8701</td>\n",
       "      <td>0</td>\n",
       "      <td>2801</td>\n",
       "      <td>70.0</td>\n",
       "      <td>1.0</td>\n",
       "      <td>4.0</td>\n",
       "      <td>2</td>\n",
       "      <td>0</td>\n",
       "      <td>23</td>\n",
       "      <td>14</td>\n",
       "      <td>...</td>\n",
       "      <td>10.0</td>\n",
       "      <td>9512</td>\n",
       "      <td>8702</td>\n",
       "      <td>8711.0</td>\n",
       "      <td>9.0</td>\n",
       "      <td>6.812500</td>\n",
       "      <td>172556</td>\n",
       "      <td>1</td>\n",
       "      <td>4</td>\n",
       "      <td>41.0</td>\n",
       "    </tr>\n",
       "    <tr>\n",
       "      <td>4</td>\n",
       "      <td>8601</td>\n",
       "      <td>0</td>\n",
       "      <td>2001</td>\n",
       "      <td>78.0</td>\n",
       "      <td>3.0</td>\n",
       "      <td>2.0</td>\n",
       "      <td>60</td>\n",
       "      <td>1</td>\n",
       "      <td>28</td>\n",
       "      <td>9</td>\n",
       "      <td>...</td>\n",
       "      <td>15.0</td>\n",
       "      <td>9601</td>\n",
       "      <td>7903</td>\n",
       "      <td>8005.0</td>\n",
       "      <td>14.0</td>\n",
       "      <td>6.864865</td>\n",
       "      <td>7112</td>\n",
       "      <td>1</td>\n",
       "      <td>2</td>\n",
       "      <td>26.0</td>\n",
       "    </tr>\n",
       "  </tbody>\n",
       "</table>\n",
       "<p>5 rows × 332 columns</p>\n",
       "</div>"
      ],
      "text/plain": [
       "   ODATEDW  TCODE   DOB   AGE  INCOME  WEALTH1  HIT  MALEMILI  MALEVET  \\\n",
       "0     8901      0  3712  60.0     NaN      NaN    0         0       39   \n",
       "1     9401      1  5202  46.0     6.0      9.0   16         0       15   \n",
       "2     9001      1     0   NaN     3.0      1.0    2         0       20   \n",
       "3     8701      0  2801  70.0     1.0      4.0    2         0       23   \n",
       "4     8601      0  2001  78.0     3.0      2.0   60         1       28   \n",
       "\n",
       "   VIETVETS  ...  LASTGIFT  LASTDATE  FISTDATE  NEXTDATE  TIMELAG    AVGGIFT  \\\n",
       "0        34  ...      10.0      9512      8911    9003.0      4.0   7.741935   \n",
       "1        55  ...      25.0      9512      9310    9504.0     18.0  15.666667   \n",
       "2        29  ...       5.0      9512      9001    9101.0     12.0   7.481481   \n",
       "3        14  ...      10.0      9512      8702    8711.0      9.0   6.812500   \n",
       "4         9  ...      15.0      9601      7903    8005.0     14.0   6.864865   \n",
       "\n",
       "   CONTROLN  HPHONE_D  RFA_2F  CLUSTER2  \n",
       "0     95515         0       4      39.0  \n",
       "1    148535         0       2       1.0  \n",
       "2     15078         1       4      60.0  \n",
       "3    172556         1       4      41.0  \n",
       "4      7112         1       2      26.0  \n",
       "\n",
       "[5 rows x 332 columns]"
      ]
     },
     "execution_count": 227,
     "metadata": {},
     "output_type": "execute_result"
    }
   ],
   "source": [
    "numerical.head()"
   ]
  },
  {
   "cell_type": "code",
   "execution_count": 228,
   "metadata": {
    "colab": {
     "base_uri": "https://localhost:8080/"
    },
    "id": "l0EgXvhHgulj",
    "outputId": "75bb2ff3-4408-4498-bec8-d528956ba140"
   },
   "outputs": [
    {
     "data": {
      "text/plain": [
       "(95412, 332)"
      ]
     },
     "execution_count": 228,
     "metadata": {},
     "output_type": "execute_result"
    }
   ],
   "source": [
    "numerical.shape"
   ]
  },
  {
   "cell_type": "code",
   "execution_count": 229,
   "metadata": {
    "colab": {
     "base_uri": "https://localhost:8080/",
     "height": 700
    },
    "id": "GqnXMGfJgulj",
    "outputId": "b3cadb63-2d36-48e4-fb79-5b6dcb3f88ff"
   },
   "outputs": [
    {
     "data": {
      "text/html": [
       "<div>\n",
       "<style scoped>\n",
       "    .dataframe tbody tr th:only-of-type {\n",
       "        vertical-align: middle;\n",
       "    }\n",
       "\n",
       "    .dataframe tbody tr th {\n",
       "        vertical-align: top;\n",
       "    }\n",
       "\n",
       "    .dataframe thead th {\n",
       "        text-align: right;\n",
       "    }\n",
       "</style>\n",
       "<table border=\"1\" class=\"dataframe\">\n",
       "  <thead>\n",
       "    <tr style=\"text-align: right;\">\n",
       "      <th></th>\n",
       "      <th>column_name</th>\n",
       "      <th>nulls</th>\n",
       "    </tr>\n",
       "  </thead>\n",
       "  <tbody>\n",
       "    <tr>\n",
       "      <td>3</td>\n",
       "      <td>AGE</td>\n",
       "      <td>23665</td>\n",
       "    </tr>\n",
       "    <tr>\n",
       "      <td>4</td>\n",
       "      <td>INCOME</td>\n",
       "      <td>21286</td>\n",
       "    </tr>\n",
       "    <tr>\n",
       "      <td>5</td>\n",
       "      <td>WEALTH1</td>\n",
       "      <td>44732</td>\n",
       "    </tr>\n",
       "    <tr>\n",
       "      <td>14</td>\n",
       "      <td>WEALTH2</td>\n",
       "      <td>43823</td>\n",
       "    </tr>\n",
       "    <tr>\n",
       "      <td>135</td>\n",
       "      <td>MSA</td>\n",
       "      <td>132</td>\n",
       "    </tr>\n",
       "    <tr>\n",
       "      <td>136</td>\n",
       "      <td>ADI</td>\n",
       "      <td>132</td>\n",
       "    </tr>\n",
       "    <tr>\n",
       "      <td>137</td>\n",
       "      <td>DMA</td>\n",
       "      <td>132</td>\n",
       "    </tr>\n",
       "    <tr>\n",
       "      <td>302</td>\n",
       "      <td>ADATE_3</td>\n",
       "      <td>1950</td>\n",
       "    </tr>\n",
       "    <tr>\n",
       "      <td>303</td>\n",
       "      <td>ADATE_4</td>\n",
       "      <td>2191</td>\n",
       "    </tr>\n",
       "    <tr>\n",
       "      <td>304</td>\n",
       "      <td>ADATE_6</td>\n",
       "      <td>3557</td>\n",
       "    </tr>\n",
       "    <tr>\n",
       "      <td>305</td>\n",
       "      <td>ADATE_7</td>\n",
       "      <td>8874</td>\n",
       "    </tr>\n",
       "    <tr>\n",
       "      <td>306</td>\n",
       "      <td>ADATE_8</td>\n",
       "      <td>3511</td>\n",
       "    </tr>\n",
       "    <tr>\n",
       "      <td>307</td>\n",
       "      <td>ADATE_9</td>\n",
       "      <td>11245</td>\n",
       "    </tr>\n",
       "    <tr>\n",
       "      <td>308</td>\n",
       "      <td>ADATE_11</td>\n",
       "      <td>10422</td>\n",
       "    </tr>\n",
       "    <tr>\n",
       "      <td>309</td>\n",
       "      <td>ADATE_12</td>\n",
       "      <td>8923</td>\n",
       "    </tr>\n",
       "    <tr>\n",
       "      <td>325</td>\n",
       "      <td>NEXTDATE</td>\n",
       "      <td>9973</td>\n",
       "    </tr>\n",
       "    <tr>\n",
       "      <td>326</td>\n",
       "      <td>TIMELAG</td>\n",
       "      <td>9973</td>\n",
       "    </tr>\n",
       "    <tr>\n",
       "      <td>331</td>\n",
       "      <td>CLUSTER2</td>\n",
       "      <td>132</td>\n",
       "    </tr>\n",
       "  </tbody>\n",
       "</table>\n",
       "</div>"
      ],
      "text/plain": [
       "    column_name  nulls\n",
       "3           AGE  23665\n",
       "4        INCOME  21286\n",
       "5       WEALTH1  44732\n",
       "14      WEALTH2  43823\n",
       "135         MSA    132\n",
       "136         ADI    132\n",
       "137         DMA    132\n",
       "302     ADATE_3   1950\n",
       "303     ADATE_4   2191\n",
       "304     ADATE_6   3557\n",
       "305     ADATE_7   8874\n",
       "306     ADATE_8   3511\n",
       "307     ADATE_9  11245\n",
       "308    ADATE_11  10422\n",
       "309    ADATE_12   8923\n",
       "325    NEXTDATE   9973\n",
       "326     TIMELAG   9973\n",
       "331    CLUSTER2    132"
      ]
     },
     "execution_count": 229,
     "metadata": {},
     "output_type": "execute_result"
    }
   ],
   "source": [
    "df = pd.DataFrame(numerical.isna().sum()).reset_index()\n",
    "df.columns = ['column_name', 'nulls']\n",
    "df[df['nulls']>0]"
   ]
  },
  {
   "cell_type": "code",
   "execution_count": 230,
   "metadata": {
    "id": "047dDKdLgulk"
   },
   "outputs": [],
   "source": [
    "drop_list = []\n",
    "for col_name in numerical.columns:\n",
    "    if \"ADATE\" in col_name:\n",
    "        drop_list.append(col_name)   "
   ]
  },
  {
   "cell_type": "code",
   "execution_count": 231,
   "metadata": {},
   "outputs": [
    {
     "data": {
      "text/plain": [
       "['ADATE_2',\n",
       " 'ADATE_3',\n",
       " 'ADATE_4',\n",
       " 'ADATE_6',\n",
       " 'ADATE_7',\n",
       " 'ADATE_8',\n",
       " 'ADATE_9',\n",
       " 'ADATE_11',\n",
       " 'ADATE_12',\n",
       " 'MAXADATE']"
      ]
     },
     "execution_count": 231,
     "metadata": {},
     "output_type": "execute_result"
    }
   ],
   "source": [
    "drop_list"
   ]
  },
  {
   "cell_type": "code",
   "execution_count": 232,
   "metadata": {
    "colab": {
     "base_uri": "https://localhost:8080/"
    },
    "id": "dOxRfEregulk",
    "outputId": "dbccae35-c972-481a-85be-e44465bc429b"
   },
   "outputs": [
    {
     "data": {
      "text/plain": [
       "9706    95399\n",
       "9704       13\n",
       "Name: ADATE_2, dtype: int64"
      ]
     },
     "execution_count": 232,
     "metadata": {},
     "output_type": "execute_result"
    }
   ],
   "source": [
    "numerical['ADATE_2'].value_counts()\n",
    "\n",
    "# The values in the column are pretty much the same throughtout, hence we will drop this column as well"
   ]
  },
  {
   "cell_type": "markdown",
   "metadata": {
    "id": "GW40M2PMDcAf"
   },
   "source": [
    "### Filling NULL values with plots"
   ]
  },
  {
   "cell_type": "code",
   "execution_count": 233,
   "metadata": {},
   "outputs": [
    {
     "data": {
      "text/plain": [
       "0        60.0\n",
       "1        46.0\n",
       "2         NaN\n",
       "3        70.0\n",
       "4        78.0\n",
       "         ... \n",
       "95407     NaN\n",
       "95408    48.0\n",
       "95409    60.0\n",
       "95410    58.0\n",
       "95411    80.0\n",
       "Name: AGE, Length: 95412, dtype: float64"
      ]
     },
     "execution_count": 233,
     "metadata": {},
     "output_type": "execute_result"
    }
   ],
   "source": [
    "numerical['AGE']"
   ]
  },
  {
   "cell_type": "code",
   "execution_count": 234,
   "metadata": {
    "colab": {
     "base_uri": "https://localhost:8080/",
     "height": 333
    },
    "id": "AOLfK9AJgulk",
    "outputId": "5736835e-3896-4933-cfc5-7c319abd7a51"
   },
   "outputs": [
    {
     "data": {
      "text/plain": [
       "<matplotlib.axes._subplots.AxesSubplot at 0x7fd6bedbbc10>"
      ]
     },
     "execution_count": 234,
     "metadata": {},
     "output_type": "execute_result"
    },
    {
     "data": {
      "image/png": "[encoded data removed]",
      "text/plain": [
       "<Figure size 432x288 with 1 Axes>"
      ]
     },
     "metadata": {
      "needs_background": "light"
     },
     "output_type": "display_data"
    }
   ],
   "source": [
    "numerical['AGE'] = numerical[\"AGE\"].fillna(np.mean(numerical['AGE']))\n",
    "sns.distplot(numerical['AGE'])\n",
    "plt.show()\n",
    "#probably would be a bit better to use a predictive method here but this works"
   ]
  },
  {
   "cell_type": "code",
   "execution_count": 235,
   "metadata": {},
   "outputs": [
    {
     "data": {
      "text/plain": [
       "<matplotlib.axes._subplots.AxesSubplot at 0x7fd67a06b610>"
      ]
     },
     "execution_count": 235,
     "metadata": {},
     "output_type": "execute_result"
    },
    {
     "data": {
      "image/png": "[encoded data removed]",
      "text/plain": [
       "<Figure size 432x288 with 1 Axes>"
      ]
     },
     "metadata": {
      "needs_background": "light"
     },
     "output_type": "display_data"
    }
   ],
   "source": [
    "sns.distplot(numerical['INCOME'])"
   ]
  },
  {
   "cell_type": "code",
   "execution_count": 236,
   "metadata": {
    "colab": {
     "base_uri": "https://localhost:8080/",
     "height": 333
    },
    "id": "i6g5PwINgull",
    "outputId": "1e8c65b5-ad95-45a4-d8c2-5e4dac3eafd0"
   },
   "outputs": [
    {
     "data": {
      "text/plain": [
       "<matplotlib.axes._subplots.AxesSubplot at 0x7fd750a03090>"
      ]
     },
     "execution_count": 236,
     "metadata": {},
     "output_type": "execute_result"
    },
    {
     "data": {
      "image/png": "[encoded data removed]",
      "text/plain": [
       "<Figure size 432x288 with 1 Axes>"
      ]
     },
     "metadata": {
      "needs_background": "light"
     },
     "output_type": "display_data"
    }
   ],
   "source": [
    "#sns.distplot(numerical['INCOME'])  # this will not work as there are NaNs in the column\n",
    "\n",
    "sns.distplot(numerical[numerical['INCOME'].isna()==False]['INCOME']) \n",
    "plt.show()"
   ]
  },
  {
   "cell_type": "code",
   "execution_count": 237,
   "metadata": {
    "colab": {
     "base_uri": "https://localhost:8080/"
    },
    "id": "RTizEfmEgull",
    "outputId": "dd6ae865-3118-432e-d77d-81772a5b4fab"
   },
   "outputs": [
    {
     "name": "stdout",
     "output_type": "stream",
     "text": [
      "5.0    15451\n",
      "2.0    13114\n",
      "4.0    12732\n",
      "1.0     9022\n",
      "3.0     8558\n",
      "6.0     7778\n",
      "7.0     7471\n",
      "Name: INCOME, dtype: int64\n"
     ]
    }
   ],
   "source": [
    "# looks like the variable is actually categorical. We can verify it by using value_counts()\n",
    "\n",
    "print(numerical['INCOME'].value_counts())\n",
    "numerical['INCOME'] = numerical['INCOME'].astype('object')"
   ]
  },
  {
   "cell_type": "code",
   "execution_count": 238,
   "metadata": {
    "id": "qABaSC2cgull"
   },
   "outputs": [],
   "source": [
    "numerical['INCOME'] = numerical['INCOME'].fillna('5.0') # Replacing the null values with the most represented categoty"
   ]
  },
  {
   "cell_type": "code",
   "execution_count": null,
   "metadata": {},
   "outputs": [],
   "source": []
  },
  {
   "cell_type": "code",
   "execution_count": 239,
   "metadata": {},
   "outputs": [
    {
     "data": {
      "text/plain": [
       "13.0    3466\n",
       "5.0     3154\n",
       "57.0    2666\n",
       "59.0    2653\n",
       "15.0    2559\n",
       "        ... \n",
       "30.0     647\n",
       "46.0     644\n",
       "29.0     569\n",
       "40.0     369\n",
       "6.0      211\n",
       "Name: CLUSTER2, Length: 62, dtype: int64"
      ]
     },
     "execution_count": 239,
     "metadata": {},
     "output_type": "execute_result"
    }
   ],
   "source": [
    "numerical['CLUSTER2'].value_counts()"
   ]
  },
  {
   "cell_type": "code",
   "execution_count": 242,
   "metadata": {
    "colab": {
     "base_uri": "https://localhost:8080/",
     "height": 333
    },
    "id": "1W3vqJD8gulo",
    "outputId": "419f5e91-6843-463c-93a9-ef3af4fb9850"
   },
   "outputs": [
    {
     "data": {
      "text/plain": [
       "<matplotlib.axes._subplots.AxesSubplot at 0x7fd73e926050>"
      ]
     },
     "execution_count": 242,
     "metadata": {},
     "output_type": "execute_result"
    },
    {
     "data": {
      "image/png": "[encoded data removed]",
      "text/plain": [
       "<Figure size 432x288 with 1 Axes>"
      ]
     },
     "metadata": {
      "needs_background": "light"
     },
     "output_type": "display_data"
    }
   ],
   "source": [
    "sns.distplot(numerical[numerical['CLUSTER2'].isna()==False]['CLUSTER2']) \n",
    "plt.show()"
   ]
  },
  {
   "cell_type": "code",
   "execution_count": 241,
   "metadata": {
    "id": "U2ZyvFH8gulo"
   },
   "outputs": [],
   "source": [
    "numerical['CLUSTER2'] = numerical['CLUSTER2'].fillna(round(np.mean(numerical['CLUSTER2']), 0))"
   ]
  },
  {
   "cell_type": "markdown",
   "metadata": {
    "id": "r9IW4z4LFI2E"
   },
   "source": [
    "###Activity 2.3"
   ]
  },
  {
   "cell_type": "code",
   "execution_count": null,
   "metadata": {},
   "outputs": [],
   "source": [
    "numerical"
   ]
  },
  {
   "cell_type": "raw",
   "metadata": {},
   "source": [
    "columns_above_threshold_4 = nulls_percent_num[nulls_percent_cat['nulls_percentage']>0.15]\n",
    "print(len(columns_above_threshold_2['column_name']))\n",
    "columns_above_threshold_4"
   ]
  },
  {
   "cell_type": "raw",
   "metadata": {},
   "source": [
    "columns_above_threshold_2 = nulls_percent_cat[nulls_percent_cat['nulls_percentage']>0]\n",
    "print(len(columns_above_threshold_2['column_name']))\n",
    "columns_above_threshold_2"
   ]
  },
  {
   "cell_type": "code",
   "execution_count": 243,
   "metadata": {},
   "outputs": [
    {
     "data": {
      "text/plain": [
       "NaN    43823\n",
       "9.0     6523\n",
       "8.0     5975\n",
       "7.0     5684\n",
       "6.0     5497\n",
       "5.0     5351\n",
       "4.0     5074\n",
       "3.0     5046\n",
       "2.0     4971\n",
       "1.0     4191\n",
       "0.0     3277\n",
       "Name: WEALTH2, dtype: int64"
      ]
     },
     "execution_count": 243,
     "metadata": {},
     "output_type": "execute_result"
    }
   ],
   "source": [
    "numerical['WEALTH2'].value_counts(dropna= False)"
   ]
  },
  {
   "cell_type": "code",
   "execution_count": 244,
   "metadata": {
    "colab": {
     "base_uri": "https://localhost:8080/",
     "height": 333
    },
    "id": "qtJ5qRhYFK9X",
    "outputId": "cc33b815-3ead-4fcd-f2de-f274d358abc6"
   },
   "outputs": [
    {
     "data": {
      "text/plain": [
       "<matplotlib.axes._subplots.AxesSubplot at 0x7fd651721990>"
      ]
     },
     "execution_count": 244,
     "metadata": {},
     "output_type": "execute_result"
    },
    {
     "data": {
      "image/png": "[encoded data removed]",
      "text/plain": [
       "<Figure size 432x288 with 1 Axes>"
      ]
     },
     "metadata": {
      "needs_background": "light"
     },
     "output_type": "display_data"
    }
   ],
   "source": [
    "sns.distplot(numerical[numerical['WEALTH2'].isna()==False]['WEALTH2']) \n",
    "plt.show()"
   ]
  },
  {
   "cell_type": "code",
   "execution_count": 245,
   "metadata": {
    "id": "dVuXF_V0FOxv"
   },
   "outputs": [],
   "source": [
    "numerical['WEALTH2'] = numerical['WEALTH2'].astype('object')\n",
    "numerical['WEALTH2'] = numerical['WEALTH2'].fillna('9.0')"
   ]
  },
  {
   "cell_type": "code",
   "execution_count": 246,
   "metadata": {
    "colab": {
     "base_uri": "https://localhost:8080/",
     "height": 337
    },
    "id": "cDIMOE_-FWSM",
    "outputId": "76e8d75c-7925-4227-ef20-c65959fd31be"
   },
   "outputs": [
    {
     "data": {
      "text/plain": [
       "<matplotlib.axes._subplots.AxesSubplot at 0x7fd650693410>"
      ]
     },
     "execution_count": 246,
     "metadata": {},
     "output_type": "execute_result"
    },
    {
     "data": {
      "image/png": "[encoded data removed]",
      "text/plain": [
       "<Figure size 432x288 with 1 Axes>"
      ]
     },
     "metadata": {
      "needs_background": "light"
     },
     "output_type": "display_data"
    }
   ],
   "source": [
    "sns.distplot(numerical[numerical['TIMELAG'].isna()==False]['TIMELAG']) \n",
    "plt.show()"
   ]
  },
  {
   "cell_type": "code",
   "execution_count": 247,
   "metadata": {
    "id": "PiUs_3Ndgulo"
   },
   "outputs": [],
   "source": [
    "numerical['TIMELAG'] = numerical['TIMELAG'].fillna('1000')"
   ]
  },
  {
   "cell_type": "code",
   "execution_count": null,
   "metadata": {},
   "outputs": [],
   "source": []
  },
  {
   "cell_type": "code",
   "execution_count": 248,
   "metadata": {},
   "outputs": [
    {
     "data": {
      "text/html": [
       "<div>\n",
       "<style scoped>\n",
       "    .dataframe tbody tr th:only-of-type {\n",
       "        vertical-align: middle;\n",
       "    }\n",
       "\n",
       "    .dataframe tbody tr th {\n",
       "        vertical-align: top;\n",
       "    }\n",
       "\n",
       "    .dataframe thead th {\n",
       "        text-align: right;\n",
       "    }\n",
       "</style>\n",
       "<table border=\"1\" class=\"dataframe\">\n",
       "  <thead>\n",
       "    <tr style=\"text-align: right;\">\n",
       "      <th></th>\n",
       "      <th>column_name</th>\n",
       "      <th>nulls_percentage</th>\n",
       "    </tr>\n",
       "  </thead>\n",
       "  <tbody>\n",
       "    <tr>\n",
       "      <td>0</td>\n",
       "      <td>ODATEDW</td>\n",
       "      <td>0.0</td>\n",
       "    </tr>\n",
       "    <tr>\n",
       "      <td>1</td>\n",
       "      <td>TCODE</td>\n",
       "      <td>0.0</td>\n",
       "    </tr>\n",
       "    <tr>\n",
       "      <td>2</td>\n",
       "      <td>DOB</td>\n",
       "      <td>0.0</td>\n",
       "    </tr>\n",
       "    <tr>\n",
       "      <td>3</td>\n",
       "      <td>AGE</td>\n",
       "      <td>0.0</td>\n",
       "    </tr>\n",
       "    <tr>\n",
       "      <td>4</td>\n",
       "      <td>INCOME</td>\n",
       "      <td>0.0</td>\n",
       "    </tr>\n",
       "    <tr>\n",
       "      <td>...</td>\n",
       "      <td>...</td>\n",
       "      <td>...</td>\n",
       "    </tr>\n",
       "    <tr>\n",
       "      <td>327</td>\n",
       "      <td>AVGGIFT</td>\n",
       "      <td>0.0</td>\n",
       "    </tr>\n",
       "    <tr>\n",
       "      <td>328</td>\n",
       "      <td>CONTROLN</td>\n",
       "      <td>0.0</td>\n",
       "    </tr>\n",
       "    <tr>\n",
       "      <td>329</td>\n",
       "      <td>HPHONE_D</td>\n",
       "      <td>0.0</td>\n",
       "    </tr>\n",
       "    <tr>\n",
       "      <td>330</td>\n",
       "      <td>RFA_2F</td>\n",
       "      <td>0.0</td>\n",
       "    </tr>\n",
       "    <tr>\n",
       "      <td>331</td>\n",
       "      <td>CLUSTER2</td>\n",
       "      <td>0.0</td>\n",
       "    </tr>\n",
       "  </tbody>\n",
       "</table>\n",
       "<p>332 rows × 2 columns</p>\n",
       "</div>"
      ],
      "text/plain": [
       "    column_name  nulls_percentage\n",
       "0       ODATEDW               0.0\n",
       "1         TCODE               0.0\n",
       "2           DOB               0.0\n",
       "3           AGE               0.0\n",
       "4        INCOME               0.0\n",
       "..          ...               ...\n",
       "327     AVGGIFT               0.0\n",
       "328    CONTROLN               0.0\n",
       "329    HPHONE_D               0.0\n",
       "330      RFA_2F               0.0\n",
       "331    CLUSTER2               0.0\n",
       "\n",
       "[332 rows x 2 columns]"
      ]
     },
     "execution_count": 248,
     "metadata": {},
     "output_type": "execute_result"
    }
   ],
   "source": [
    "nulls_percent_num = pd.DataFrame(numerical.isna().sum()/len(numerical)).reset_index()\n",
    "nulls_percent_num.columns = ['column_name', 'nulls_percentage']\n",
    "nulls_percent_num"
   ]
  },
  {
   "cell_type": "code",
   "execution_count": 249,
   "metadata": {},
   "outputs": [
    {
     "data": {
      "text/html": [
       "<div>\n",
       "<style scoped>\n",
       "    .dataframe tbody tr th:only-of-type {\n",
       "        vertical-align: middle;\n",
       "    }\n",
       "\n",
       "    .dataframe tbody tr th {\n",
       "        vertical-align: top;\n",
       "    }\n",
       "\n",
       "    .dataframe thead th {\n",
       "        text-align: right;\n",
       "    }\n",
       "</style>\n",
       "<table border=\"1\" class=\"dataframe\">\n",
       "  <thead>\n",
       "    <tr style=\"text-align: right;\">\n",
       "      <th></th>\n",
       "      <th>column_name</th>\n",
       "      <th>nulls_percentage</th>\n",
       "    </tr>\n",
       "  </thead>\n",
       "  <tbody>\n",
       "    <tr>\n",
       "      <td>5</td>\n",
       "      <td>WEALTH1</td>\n",
       "      <td>0.468830</td>\n",
       "    </tr>\n",
       "    <tr>\n",
       "      <td>135</td>\n",
       "      <td>MSA</td>\n",
       "      <td>0.001383</td>\n",
       "    </tr>\n",
       "    <tr>\n",
       "      <td>136</td>\n",
       "      <td>ADI</td>\n",
       "      <td>0.001383</td>\n",
       "    </tr>\n",
       "    <tr>\n",
       "      <td>137</td>\n",
       "      <td>DMA</td>\n",
       "      <td>0.001383</td>\n",
       "    </tr>\n",
       "    <tr>\n",
       "      <td>302</td>\n",
       "      <td>ADATE_3</td>\n",
       "      <td>0.020438</td>\n",
       "    </tr>\n",
       "    <tr>\n",
       "      <td>303</td>\n",
       "      <td>ADATE_4</td>\n",
       "      <td>0.022964</td>\n",
       "    </tr>\n",
       "    <tr>\n",
       "      <td>304</td>\n",
       "      <td>ADATE_6</td>\n",
       "      <td>0.037280</td>\n",
       "    </tr>\n",
       "    <tr>\n",
       "      <td>305</td>\n",
       "      <td>ADATE_7</td>\n",
       "      <td>0.093007</td>\n",
       "    </tr>\n",
       "    <tr>\n",
       "      <td>306</td>\n",
       "      <td>ADATE_8</td>\n",
       "      <td>0.036798</td>\n",
       "    </tr>\n",
       "    <tr>\n",
       "      <td>307</td>\n",
       "      <td>ADATE_9</td>\n",
       "      <td>0.117857</td>\n",
       "    </tr>\n",
       "    <tr>\n",
       "      <td>308</td>\n",
       "      <td>ADATE_11</td>\n",
       "      <td>0.109232</td>\n",
       "    </tr>\n",
       "    <tr>\n",
       "      <td>309</td>\n",
       "      <td>ADATE_12</td>\n",
       "      <td>0.093521</td>\n",
       "    </tr>\n",
       "    <tr>\n",
       "      <td>325</td>\n",
       "      <td>NEXTDATE</td>\n",
       "      <td>0.104526</td>\n",
       "    </tr>\n",
       "  </tbody>\n",
       "</table>\n",
       "</div>"
      ],
      "text/plain": [
       "    column_name  nulls_percentage\n",
       "5       WEALTH1          0.468830\n",
       "135         MSA          0.001383\n",
       "136         ADI          0.001383\n",
       "137         DMA          0.001383\n",
       "302     ADATE_3          0.020438\n",
       "303     ADATE_4          0.022964\n",
       "304     ADATE_6          0.037280\n",
       "305     ADATE_7          0.093007\n",
       "306     ADATE_8          0.036798\n",
       "307     ADATE_9          0.117857\n",
       "308    ADATE_11          0.109232\n",
       "309    ADATE_12          0.093521\n",
       "325    NEXTDATE          0.104526"
      ]
     },
     "execution_count": 249,
     "metadata": {},
     "output_type": "execute_result"
    }
   ],
   "source": [
    "nulls_percent_num[nulls_percent_num['nulls_percentage']!=0]"
   ]
  },
  {
   "cell_type": "code",
   "execution_count": 250,
   "metadata": {},
   "outputs": [
    {
     "data": {
      "text/plain": [
       "23      NUMCHLD\n",
       "26      WEALTH1\n",
       "28      MBCRAFT\n",
       "29     MBGARDEN\n",
       "30      MBBOOKS\n",
       "         ...   \n",
       "451    RAMNT_20\n",
       "452    RAMNT_21\n",
       "453    RAMNT_22\n",
       "454    RAMNT_23\n",
       "455    RAMNT_24\n",
       "Name: column_name, Length: 72, dtype: object"
      ]
     },
     "execution_count": 250,
     "metadata": {},
     "output_type": "execute_result"
    }
   ],
   "source": [
    "columns_above_threshold_num = nulls_percent_num[nulls_percent_num['nulls_percentage']>0.15]\n",
    "columns_above_threshold['column_name']"
   ]
  },
  {
   "cell_type": "raw",
   "metadata": {},
   "source": [
    "vars_keep= ['GEOCODE2', 'WEALTH1', 'ADI', 'DMA', 'MSA']"
   ]
  },
  {
   "cell_type": "code",
   "execution_count": 251,
   "metadata": {
    "scrolled": true
   },
   "outputs": [
    {
     "data": {
      "text/plain": [
       "9.0    7585\n",
       "8.0    6793\n",
       "7.0    6198\n",
       "6.0    5825\n",
       "5.0    5280\n",
       "4.0    4810\n",
       "3.0    4237\n",
       "2.0    4085\n",
       "1.0    3454\n",
       "0.0    2413\n",
       "Name: WEALTH1, dtype: int64"
      ]
     },
     "execution_count": 251,
     "metadata": {},
     "output_type": "execute_result"
    }
   ],
   "source": [
    "numerical['WEALTH1'].value_counts()"
   ]
  },
  {
   "cell_type": "code",
   "execution_count": 252,
   "metadata": {
    "colab": {
     "base_uri": "https://localhost:8080/",
     "height": 333
    },
    "id": "qtJ5qRhYFK9X",
    "outputId": "cc33b815-3ead-4fcd-f2de-f274d358abc6"
   },
   "outputs": [
    {
     "data": {
      "text/plain": [
       "<matplotlib.axes._subplots.AxesSubplot at 0x7fd650e34950>"
      ]
     },
     "execution_count": 252,
     "metadata": {},
     "output_type": "execute_result"
    },
    {
     "data": {
      "image/png": "[encoded data removed]",
      "text/plain": [
       "<Figure size 432x288 with 1 Axes>"
      ]
     },
     "metadata": {
      "needs_background": "light"
     },
     "output_type": "display_data"
    }
   ],
   "source": [
    "sns.distplot(numerical[numerical['WEALTH1'].isna()==False]['WEALTH1']) \n",
    "plt.show()"
   ]
  },
  {
   "cell_type": "code",
   "execution_count": 253,
   "metadata": {
    "id": "dVuXF_V0FOxv"
   },
   "outputs": [],
   "source": [
    "numerical['WEALTH1'] = numerical['WEALTH1'].astype('object')\n",
    "numerical['WEALTH1'] = numerical['WEALTH1'].fillna('9.0')"
   ]
  },
  {
   "cell_type": "code",
   "execution_count": 254,
   "metadata": {},
   "outputs": [],
   "source": [
    "numerical['WEALTH1'] = numerical['WEALTH1'].astype('object')"
   ]
  },
  {
   "cell_type": "code",
   "execution_count": null,
   "metadata": {},
   "outputs": [],
   "source": []
  },
  {
   "cell_type": "code",
   "execution_count": null,
   "metadata": {},
   "outputs": [],
   "source": []
  },
  {
   "cell_type": "code",
   "execution_count": 255,
   "metadata": {},
   "outputs": [
    {
     "data": {
      "text/plain": [
       "132"
      ]
     },
     "execution_count": 255,
     "metadata": {},
     "output_type": "execute_result"
    }
   ],
   "source": [
    "numerical['ADI'].isnull().sum()"
   ]
  },
  {
   "cell_type": "code",
   "execution_count": 256,
   "metadata": {
    "scrolled": true
   },
   "outputs": [
    {
     "data": {
      "text/plain": [
       "13.0     7296\n",
       "51.0     4622\n",
       "65.0     3765\n",
       "57.0     2836\n",
       "105.0    2617\n",
       "         ... \n",
       "651.0       1\n",
       "601.0       1\n",
       "161.0       1\n",
       "147.0       1\n",
       "103.0       1\n",
       "Name: ADI, Length: 205, dtype: int64"
      ]
     },
     "execution_count": 256,
     "metadata": {},
     "output_type": "execute_result"
    }
   ],
   "source": [
    "numerical['ADI'].value_counts(dropna= False)"
   ]
  },
  {
   "cell_type": "raw",
   "metadata": {},
   "source": [
    "fillna(round(np.mean(numerical['CLUSTER2']), 0))"
   ]
  },
  {
   "cell_type": "code",
   "execution_count": 258,
   "metadata": {},
   "outputs": [
    {
     "data": {
      "text/plain": [
       "<matplotlib.axes._subplots.AxesSubplot at 0x7fd653a99fd0>"
      ]
     },
     "execution_count": 258,
     "metadata": {},
     "output_type": "execute_result"
    },
    {
     "data": {
      "image/png": "[encoded data removed]",
      "text/plain": [
       "<Figure size 432x288 with 1 Axes>"
      ]
     },
     "metadata": {
      "needs_background": "light"
     },
     "output_type": "display_data"
    }
   ],
   "source": [
    "numerical['ADI'] = numerical[\"ADI\"].fillna(round(np.mean(numerical['ADI']),2))\n",
    "sns.distplot(numerical['ADI'])"
   ]
  },
  {
   "cell_type": "code",
   "execution_count": null,
   "metadata": {},
   "outputs": [],
   "source": []
  },
  {
   "cell_type": "code",
   "execution_count": 259,
   "metadata": {},
   "outputs": [
    {
     "data": {
      "text/plain": [
       "803.0    7296\n",
       "602.0    4632\n",
       "807.0    3765\n",
       "505.0    2839\n",
       "819.0    2588\n",
       "         ... \n",
       "569.0       1\n",
       "552.0       1\n",
       "584.0       1\n",
       "516.0       1\n",
       "554.0       1\n",
       "Name: DMA, Length: 206, dtype: int64"
      ]
     },
     "execution_count": 259,
     "metadata": {},
     "output_type": "execute_result"
    }
   ],
   "source": [
    "numerical['DMA'].value_counts()"
   ]
  },
  {
   "cell_type": "code",
   "execution_count": 260,
   "metadata": {},
   "outputs": [
    {
     "data": {
      "text/plain": [
       "132"
      ]
     },
     "execution_count": 260,
     "metadata": {},
     "output_type": "execute_result"
    }
   ],
   "source": [
    "numerical['DMA'].isnull().sum()"
   ]
  },
  {
   "cell_type": "code",
   "execution_count": 261,
   "metadata": {},
   "outputs": [
    {
     "data": {
      "text/plain": [
       "<matplotlib.axes._subplots.AxesSubplot at 0x7fd65420c150>"
      ]
     },
     "execution_count": 261,
     "metadata": {},
     "output_type": "execute_result"
    },
    {
     "data": {
      "image/png": "[encoded data removed]",
      "text/plain": [
       "<Figure size 432x288 with 1 Axes>"
      ]
     },
     "metadata": {
      "needs_background": "light"
     },
     "output_type": "display_data"
    }
   ],
   "source": [
    "numerical['DMA'] = numerical[\"DMA\"].fillna(np.mean(numerical['DMA']))\n",
    "sns.distplot(numerical['DMA'])"
   ]
  },
  {
   "cell_type": "code",
   "execution_count": null,
   "metadata": {},
   "outputs": [],
   "source": []
  },
  {
   "cell_type": "code",
   "execution_count": null,
   "metadata": {},
   "outputs": [],
   "source": []
  },
  {
   "cell_type": "code",
   "execution_count": 262,
   "metadata": {},
   "outputs": [
    {
     "data": {
      "text/plain": [
       "0.0       21333\n",
       "4480.0     4606\n",
       "1600.0     4059\n",
       "2160.0     2586\n",
       "520.0      1685\n",
       "          ...  \n",
       "3180.0        1\n",
       "6323.0        1\n",
       "9280.0        1\n",
       "743.0         1\n",
       "960.0         1\n",
       "Name: MSA, Length: 298, dtype: int64"
      ]
     },
     "execution_count": 262,
     "metadata": {},
     "output_type": "execute_result"
    }
   ],
   "source": [
    "numerical['MSA'].value_counts()"
   ]
  },
  {
   "cell_type": "code",
   "execution_count": 263,
   "metadata": {},
   "outputs": [
    {
     "data": {
      "text/plain": [
       "132"
      ]
     },
     "execution_count": 263,
     "metadata": {},
     "output_type": "execute_result"
    }
   ],
   "source": [
    "numerical['MSA'].isnull().sum()"
   ]
  },
  {
   "cell_type": "code",
   "execution_count": 264,
   "metadata": {},
   "outputs": [
    {
     "data": {
      "text/plain": [
       "<matplotlib.axes._subplots.AxesSubplot at 0x7fd653423610>"
      ]
     },
     "execution_count": 264,
     "metadata": {},
     "output_type": "execute_result"
    },
    {
     "data": {
      "image/png": "[encoded data removed]",
      "text/plain": [
       "<Figure size 432x288 with 1 Axes>"
      ]
     },
     "metadata": {
      "needs_background": "light"
     },
     "output_type": "display_data"
    }
   ],
   "source": [
    "numerical['MSA'] = numerical[\"MSA\"].fillna(np.mean(numerical['MSA']))\n",
    "sns.distplot(numerical['MSA'])"
   ]
  },
  {
   "cell_type": "code",
   "execution_count": null,
   "metadata": {},
   "outputs": [],
   "source": []
  },
  {
   "cell_type": "code",
   "execution_count": null,
   "metadata": {},
   "outputs": [],
   "source": []
  },
  {
   "cell_type": "code",
   "execution_count": null,
   "metadata": {},
   "outputs": [],
   "source": []
  },
  {
   "cell_type": "code",
   "execution_count": null,
   "metadata": {},
   "outputs": [],
   "source": []
  },
  {
   "cell_type": "code",
   "execution_count": null,
   "metadata": {},
   "outputs": [],
   "source": []
  },
  {
   "cell_type": "code",
   "execution_count": null,
   "metadata": {},
   "outputs": [],
   "source": []
  },
  {
   "cell_type": "code",
   "execution_count": null,
   "metadata": {},
   "outputs": [],
   "source": []
  },
  {
   "cell_type": "code",
   "execution_count": 265,
   "metadata": {
    "id": "byuE9jXcHG75"
   },
   "outputs": [],
   "source": [
    "numerical = numerical.drop(columns=drop_list)"
   ]
  },
  {
   "cell_type": "code",
   "execution_count": 269,
   "metadata": {},
   "outputs": [
    {
     "data": {
      "text/plain": [
       "(95412, 322)"
      ]
     },
     "execution_count": 269,
     "metadata": {},
     "output_type": "execute_result"
    },
    {
     "data": {
      "text/plain": [
       "(95412, 8)"
      ]
     },
     "execution_count": 269,
     "metadata": {},
     "output_type": "execute_result"
    }
   ],
   "source": [
    "numerical.shape\n",
    "categorical.shape"
   ]
  },
  {
   "cell_type": "code",
   "execution_count": 273,
   "metadata": {},
   "outputs": [
    {
     "data": {
      "text/plain": [
       "0       321\n",
       "9973      1\n",
       "dtype: int64"
      ]
     },
     "execution_count": 273,
     "metadata": {},
     "output_type": "execute_result"
    }
   ],
   "source": [
    "numerical.isnull().sum().value_counts()"
   ]
  },
  {
   "cell_type": "code",
   "execution_count": 270,
   "metadata": {
    "colab": {
     "base_uri": "https://localhost:8080/",
     "height": 204
    },
    "id": "RYrkXVWTgulp",
    "outputId": "452254a6-9c5f-4046-8700-ce0fd5b13a5a"
   },
   "outputs": [
    {
     "data": {
      "text/html": [
       "<div>\n",
       "<style scoped>\n",
       "    .dataframe tbody tr th:only-of-type {\n",
       "        vertical-align: middle;\n",
       "    }\n",
       "\n",
       "    .dataframe tbody tr th {\n",
       "        vertical-align: top;\n",
       "    }\n",
       "\n",
       "    .dataframe thead th {\n",
       "        text-align: right;\n",
       "    }\n",
       "</style>\n",
       "<table border=\"1\" class=\"dataframe\">\n",
       "  <thead>\n",
       "    <tr style=\"text-align: right;\">\n",
       "      <th></th>\n",
       "      <th>column_name</th>\n",
       "      <th>nulls</th>\n",
       "    </tr>\n",
       "  </thead>\n",
       "  <tbody>\n",
       "    <tr>\n",
       "      <td>315</td>\n",
       "      <td>NEXTDATE</td>\n",
       "      <td>9973</td>\n",
       "    </tr>\n",
       "  </tbody>\n",
       "</table>\n",
       "</div>"
      ],
      "text/plain": [
       "    column_name  nulls\n",
       "315    NEXTDATE   9973"
      ]
     },
     "execution_count": 270,
     "metadata": {},
     "output_type": "execute_result"
    }
   ],
   "source": [
    "df = pd.DataFrame(numerical.isna().sum()).reset_index()\n",
    "df.columns = ['column_name', 'nulls']\n",
    "df[df['nulls']>0]"
   ]
  },
  {
   "cell_type": "code",
   "execution_count": 274,
   "metadata": {
    "id": "gsyS_PAygulp"
   },
   "outputs": [],
   "source": [
    "numerical.to_csv('numerical.csv')\n",
    "categorical.to_csv('categorical.csv')"
   ]
  },
  {
   "cell_type": "code",
   "execution_count": 275,
   "metadata": {
    "id": "t5_MmpGngulp"
   },
   "outputs": [],
   "source": [
    "Y.to_csv('target.csv')"
   ]
  },
  {
   "cell_type": "raw",
   "metadata": {
    "id": "YvFKZFj5gulp"
   },
   "source": [
    "numerical.to_pickle('numerical.p')\n",
    "categorical.to_pickle('categorical.p')\n",
    "Y.to_pickle('target.p')"
   ]
  },
  {
   "cell_type": "code",
   "execution_count": null,
   "metadata": {
    "id": "Gdihz2ClH2zc"
   },
   "outputs": [],
   "source": []
  },
  {
   "cell_type": "markdown",
   "metadata": {},
   "source": [
    "### Features selection within numericals"
   ]
  },
  {
   "cell_type": "code",
   "execution_count": 322,
   "metadata": {},
   "outputs": [
    {
     "data": {
      "text/html": [
       "<div>\n",
       "<style scoped>\n",
       "    .dataframe tbody tr th:only-of-type {\n",
       "        vertical-align: middle;\n",
       "    }\n",
       "\n",
       "    .dataframe tbody tr th {\n",
       "        vertical-align: top;\n",
       "    }\n",
       "\n",
       "    .dataframe thead th {\n",
       "        text-align: right;\n",
       "    }\n",
       "</style>\n",
       "<table border=\"1\" class=\"dataframe\">\n",
       "  <thead>\n",
       "    <tr style=\"text-align: right;\">\n",
       "      <th></th>\n",
       "      <th>ODATEDW</th>\n",
       "      <th>TCODE</th>\n",
       "      <th>DOB</th>\n",
       "      <th>AGE</th>\n",
       "      <th>INCOME</th>\n",
       "      <th>WEALTH1</th>\n",
       "      <th>HIT</th>\n",
       "      <th>MALEMILI</th>\n",
       "      <th>MALEVET</th>\n",
       "      <th>VIETVETS</th>\n",
       "      <th>...</th>\n",
       "      <th>FISTDATE</th>\n",
       "      <th>NEXTDATE</th>\n",
       "      <th>TIMELAG</th>\n",
       "      <th>AVGGIFT</th>\n",
       "      <th>CONTROLN</th>\n",
       "      <th>HPHONE_D</th>\n",
       "      <th>RFA_2F</th>\n",
       "      <th>CLUSTER2</th>\n",
       "      <th>TARGET_B</th>\n",
       "      <th>TARGET_D</th>\n",
       "    </tr>\n",
       "  </thead>\n",
       "  <tbody>\n",
       "    <tr>\n",
       "      <td>0</td>\n",
       "      <td>8901</td>\n",
       "      <td>0</td>\n",
       "      <td>3712</td>\n",
       "      <td>60.000000</td>\n",
       "      <td>5.0</td>\n",
       "      <td>9.0</td>\n",
       "      <td>0</td>\n",
       "      <td>0</td>\n",
       "      <td>39</td>\n",
       "      <td>34</td>\n",
       "      <td>...</td>\n",
       "      <td>8911</td>\n",
       "      <td>9003.0</td>\n",
       "      <td>4</td>\n",
       "      <td>7.741935</td>\n",
       "      <td>95515</td>\n",
       "      <td>0</td>\n",
       "      <td>4</td>\n",
       "      <td>39.0</td>\n",
       "      <td>0</td>\n",
       "      <td>0.0</td>\n",
       "    </tr>\n",
       "    <tr>\n",
       "      <td>1</td>\n",
       "      <td>9401</td>\n",
       "      <td>1</td>\n",
       "      <td>5202</td>\n",
       "      <td>46.000000</td>\n",
       "      <td>6</td>\n",
       "      <td>9</td>\n",
       "      <td>16</td>\n",
       "      <td>0</td>\n",
       "      <td>15</td>\n",
       "      <td>55</td>\n",
       "      <td>...</td>\n",
       "      <td>9310</td>\n",
       "      <td>9504.0</td>\n",
       "      <td>18</td>\n",
       "      <td>15.666667</td>\n",
       "      <td>148535</td>\n",
       "      <td>0</td>\n",
       "      <td>2</td>\n",
       "      <td>1.0</td>\n",
       "      <td>0</td>\n",
       "      <td>0.0</td>\n",
       "    </tr>\n",
       "    <tr>\n",
       "      <td>2</td>\n",
       "      <td>9001</td>\n",
       "      <td>1</td>\n",
       "      <td>0</td>\n",
       "      <td>61.611649</td>\n",
       "      <td>3</td>\n",
       "      <td>1</td>\n",
       "      <td>2</td>\n",
       "      <td>0</td>\n",
       "      <td>20</td>\n",
       "      <td>29</td>\n",
       "      <td>...</td>\n",
       "      <td>9001</td>\n",
       "      <td>9101.0</td>\n",
       "      <td>12</td>\n",
       "      <td>7.481481</td>\n",
       "      <td>15078</td>\n",
       "      <td>1</td>\n",
       "      <td>4</td>\n",
       "      <td>60.0</td>\n",
       "      <td>0</td>\n",
       "      <td>0.0</td>\n",
       "    </tr>\n",
       "    <tr>\n",
       "      <td>3</td>\n",
       "      <td>8701</td>\n",
       "      <td>0</td>\n",
       "      <td>2801</td>\n",
       "      <td>70.000000</td>\n",
       "      <td>1</td>\n",
       "      <td>4</td>\n",
       "      <td>2</td>\n",
       "      <td>0</td>\n",
       "      <td>23</td>\n",
       "      <td>14</td>\n",
       "      <td>...</td>\n",
       "      <td>8702</td>\n",
       "      <td>8711.0</td>\n",
       "      <td>9</td>\n",
       "      <td>6.812500</td>\n",
       "      <td>172556</td>\n",
       "      <td>1</td>\n",
       "      <td>4</td>\n",
       "      <td>41.0</td>\n",
       "      <td>0</td>\n",
       "      <td>0.0</td>\n",
       "    </tr>\n",
       "    <tr>\n",
       "      <td>4</td>\n",
       "      <td>8601</td>\n",
       "      <td>0</td>\n",
       "      <td>2001</td>\n",
       "      <td>78.000000</td>\n",
       "      <td>3</td>\n",
       "      <td>2</td>\n",
       "      <td>60</td>\n",
       "      <td>1</td>\n",
       "      <td>28</td>\n",
       "      <td>9</td>\n",
       "      <td>...</td>\n",
       "      <td>7903</td>\n",
       "      <td>8005.0</td>\n",
       "      <td>14</td>\n",
       "      <td>6.864865</td>\n",
       "      <td>7112</td>\n",
       "      <td>1</td>\n",
       "      <td>2</td>\n",
       "      <td>26.0</td>\n",
       "      <td>0</td>\n",
       "      <td>0.0</td>\n",
       "    </tr>\n",
       "  </tbody>\n",
       "</table>\n",
       "<p>5 rows × 324 columns</p>\n",
       "</div>"
      ],
      "text/plain": [
       "   ODATEDW  TCODE   DOB        AGE INCOME WEALTH1  HIT  MALEMILI  MALEVET  \\\n",
       "0     8901      0  3712  60.000000    5.0     9.0    0         0       39   \n",
       "1     9401      1  5202  46.000000      6       9   16         0       15   \n",
       "2     9001      1     0  61.611649      3       1    2         0       20   \n",
       "3     8701      0  2801  70.000000      1       4    2         0       23   \n",
       "4     8601      0  2001  78.000000      3       2   60         1       28   \n",
       "\n",
       "   VIETVETS  ...  FISTDATE  NEXTDATE  TIMELAG    AVGGIFT CONTROLN  HPHONE_D  \\\n",
       "0        34  ...      8911    9003.0        4   7.741935    95515         0   \n",
       "1        55  ...      9310    9504.0       18  15.666667   148535         0   \n",
       "2        29  ...      9001    9101.0       12   7.481481    15078         1   \n",
       "3        14  ...      8702    8711.0        9   6.812500   172556         1   \n",
       "4         9  ...      7903    8005.0       14   6.864865     7112         1   \n",
       "\n",
       "   RFA_2F  CLUSTER2  TARGET_B  TARGET_D  \n",
       "0       4      39.0         0       0.0  \n",
       "1       2       1.0         0       0.0  \n",
       "2       4      60.0         0       0.0  \n",
       "3       4      41.0         0       0.0  \n",
       "4       2      26.0         0       0.0  \n",
       "\n",
       "[5 rows x 324 columns]"
      ]
     },
     "execution_count": 322,
     "metadata": {},
     "output_type": "execute_result"
    }
   ],
   "source": [
    "all_data = pd.concat((numerical,Y),axis=1)\n",
    "all_data.head()\n",
    "all_data.drop(columns= 'NEXTDATE', inplace= True)"
   ]
  },
  {
   "cell_type": "code",
   "execution_count": 315,
   "metadata": {},
   "outputs": [
    {
     "data": {
      "text/html": [
       "<div>\n",
       "<style scoped>\n",
       "    .dataframe tbody tr th:only-of-type {\n",
       "        vertical-align: middle;\n",
       "    }\n",
       "\n",
       "    .dataframe tbody tr th {\n",
       "        vertical-align: top;\n",
       "    }\n",
       "\n",
       "    .dataframe thead th {\n",
       "        text-align: right;\n",
       "    }\n",
       "</style>\n",
       "<table border=\"1\" class=\"dataframe\">\n",
       "  <thead>\n",
       "    <tr style=\"text-align: right;\">\n",
       "      <th></th>\n",
       "      <th>column_name</th>\n",
       "      <th>nulls_percentage</th>\n",
       "    </tr>\n",
       "  </thead>\n",
       "  <tbody>\n",
       "    <tr>\n",
       "      <td>315</td>\n",
       "      <td>NEXTDATE</td>\n",
       "      <td>0.104526</td>\n",
       "    </tr>\n",
       "  </tbody>\n",
       "</table>\n",
       "</div>"
      ],
      "text/plain": [
       "    column_name  nulls_percentage\n",
       "315    NEXTDATE          0.104526"
      ]
     },
     "execution_count": 315,
     "metadata": {},
     "output_type": "execute_result"
    }
   ],
   "source": [
    "nulls_percent_all = pd.DataFrame(all_data.isna().sum()/len(all_data)).reset_index()\n",
    "nulls_percent_all.columns = ['column_name', 'nulls_percentage']\n",
    "nulls_percent_all[nulls_percent_all['nulls_percentage']>0]"
   ]
  },
  {
   "cell_type": "code",
   "execution_count": 316,
   "metadata": {},
   "outputs": [],
   "source": [
    "donations_data = all_data[all_data['TARGET_B']==1]\n",
    "donations_data.drop(columns= 'NEXTDATE', inplace= True)\n",
    "X = donations_data.drop(columns=['TARGET_B','TARGET_D'])\n",
    "y = donations_data['TARGET_D']"
   ]
  },
  {
   "cell_type": "code",
   "execution_count": 325,
   "metadata": {},
   "outputs": [
    {
     "data": {
      "text/plain": [
       "0"
      ]
     },
     "execution_count": 325,
     "metadata": {},
     "output_type": "execute_result"
    },
    {
     "data": {
      "text/html": [
       "<table class=\"simpletable\">\n",
       "<caption>OLS Regression Results</caption>\n",
       "<tr>\n",
       "  <th>Dep. Variable:</th>        <td>TARGET_D</td>     <th>  R-squared:         </th> <td>   0.540</td> \n",
       "</tr>\n",
       "<tr>\n",
       "  <th>Model:</th>                   <td>OLS</td>       <th>  Adj. R-squared:    </th> <td>   0.507</td> \n",
       "</tr>\n",
       "<tr>\n",
       "  <th>Method:</th>             <td>Least Squares</td>  <th>  F-statistic:       </th> <td>   16.53</td> \n",
       "</tr>\n",
       "<tr>\n",
       "  <th>Date:</th>             <td>Thu, 06 May 2021</td> <th>  Prob (F-statistic):</th>  <td>  0.00</td>  \n",
       "</tr>\n",
       "<tr>\n",
       "  <th>Time:</th>                 <td>23:25:18</td>     <th>  Log-Likelihood:    </th> <td> -17202.</td> \n",
       "</tr>\n",
       "<tr>\n",
       "  <th>No. Observations:</th>      <td>  4843</td>      <th>  AIC:               </th> <td>3.505e+04</td>\n",
       "</tr>\n",
       "<tr>\n",
       "  <th>Df Residuals:</th>          <td>  4521</td>      <th>  BIC:               </th> <td>3.714e+04</td>\n",
       "</tr>\n",
       "<tr>\n",
       "  <th>Df Model:</th>              <td>   321</td>      <th>                     </th>     <td> </td>    \n",
       "</tr>\n",
       "<tr>\n",
       "  <th>Covariance Type:</th>      <td>nonrobust</td>    <th>                     </th>     <td> </td>    \n",
       "</tr>\n",
       "</table>\n",
       "<table class=\"simpletable\">\n",
       "<tr>\n",
       "      <td></td>        <th>coef</th>     <th>std err</th>      <th>t</th>      <th>P>|t|</th>  <th>[0.025</th>    <th>0.975]</th>  \n",
       "</tr>\n",
       "<tr>\n",
       "  <th>const</th>    <td>    0.4263</td> <td>   31.437</td> <td>    0.014</td> <td> 0.989</td> <td>  -61.206</td> <td>   62.059</td>\n",
       "</tr>\n",
       "<tr>\n",
       "  <th>ODATEDW</th>  <td>    0.0011</td> <td>    0.002</td> <td>    0.496</td> <td> 0.620</td> <td>   -0.003</td> <td>    0.006</td>\n",
       "</tr>\n",
       "<tr>\n",
       "  <th>TCODE</th>    <td>-3.849e-05</td> <td>    0.000</td> <td>   -0.343</td> <td> 0.732</td> <td>   -0.000</td> <td>    0.000</td>\n",
       "</tr>\n",
       "<tr>\n",
       "  <th>DOB</th>      <td>-2.929e-05</td> <td> 9.02e-05</td> <td>   -0.325</td> <td> 0.745</td> <td>   -0.000</td> <td>    0.000</td>\n",
       "</tr>\n",
       "<tr>\n",
       "  <th>AGE</th>      <td>    0.0153</td> <td>    0.014</td> <td>    1.118</td> <td> 0.264</td> <td>   -0.012</td> <td>    0.042</td>\n",
       "</tr>\n",
       "<tr>\n",
       "  <th>INCOME</th>   <td>    0.0562</td> <td>    0.090</td> <td>    0.624</td> <td> 0.533</td> <td>   -0.120</td> <td>    0.233</td>\n",
       "</tr>\n",
       "<tr>\n",
       "  <th>WEALTH1</th>  <td>    0.0533</td> <td>    0.064</td> <td>    0.838</td> <td> 0.402</td> <td>   -0.071</td> <td>    0.178</td>\n",
       "</tr>\n",
       "<tr>\n",
       "  <th>HIT</th>      <td>   -0.0218</td> <td>    0.014</td> <td>   -1.510</td> <td> 0.131</td> <td>   -0.050</td> <td>    0.006</td>\n",
       "</tr>\n",
       "<tr>\n",
       "  <th>MALEMILI</th> <td>   -0.0809</td> <td>    0.050</td> <td>   -1.616</td> <td> 0.106</td> <td>   -0.179</td> <td>    0.017</td>\n",
       "</tr>\n",
       "<tr>\n",
       "  <th>MALEVET</th>  <td>   -0.0006</td> <td>    0.026</td> <td>   -0.023</td> <td> 0.982</td> <td>   -0.052</td> <td>    0.051</td>\n",
       "</tr>\n",
       "<tr>\n",
       "  <th>VIETVETS</th> <td>   -0.0054</td> <td>    0.017</td> <td>   -0.320</td> <td> 0.749</td> <td>   -0.038</td> <td>    0.028</td>\n",
       "</tr>\n",
       "<tr>\n",
       "  <th>WWIIVETS</th> <td>   -0.0359</td> <td>    0.017</td> <td>   -2.127</td> <td> 0.033</td> <td>   -0.069</td> <td>   -0.003</td>\n",
       "</tr>\n",
       "<tr>\n",
       "  <th>LOCALGOV</th> <td>    0.0929</td> <td>    0.060</td> <td>    1.552</td> <td> 0.121</td> <td>   -0.024</td> <td>    0.210</td>\n",
       "</tr>\n",
       "<tr>\n",
       "  <th>STATEGOV</th> <td>    0.0121</td> <td>    0.059</td> <td>    0.206</td> <td> 0.837</td> <td>   -0.103</td> <td>    0.128</td>\n",
       "</tr>\n",
       "<tr>\n",
       "  <th>FEDGOV</th>   <td>    0.1390</td> <td>    0.081</td> <td>    1.709</td> <td> 0.088</td> <td>   -0.021</td> <td>    0.299</td>\n",
       "</tr>\n",
       "<tr>\n",
       "  <th>WEALTH2</th>  <td>   -0.0123</td> <td>    0.061</td> <td>   -0.203</td> <td> 0.839</td> <td>   -0.131</td> <td>    0.106</td>\n",
       "</tr>\n",
       "<tr>\n",
       "  <th>POP901</th>   <td>   -0.0003</td> <td>    0.000</td> <td>   -1.393</td> <td> 0.164</td> <td>   -0.001</td> <td>    0.000</td>\n",
       "</tr>\n",
       "<tr>\n",
       "  <th>POP902</th>   <td>    0.0003</td> <td>    0.001</td> <td>    0.393</td> <td> 0.694</td> <td>   -0.001</td> <td>    0.002</td>\n",
       "</tr>\n",
       "<tr>\n",
       "  <th>POP903</th>   <td>    0.0005</td> <td>    0.000</td> <td>    1.193</td> <td> 0.233</td> <td>   -0.000</td> <td>    0.001</td>\n",
       "</tr>\n",
       "<tr>\n",
       "  <th>POP90C1</th>  <td>    0.6258</td> <td>    0.349</td> <td>    1.795</td> <td> 0.073</td> <td>   -0.058</td> <td>    1.309</td>\n",
       "</tr>\n",
       "<tr>\n",
       "  <th>POP90C2</th>  <td>    0.6243</td> <td>    0.347</td> <td>    1.798</td> <td> 0.072</td> <td>   -0.056</td> <td>    1.305</td>\n",
       "</tr>\n",
       "<tr>\n",
       "  <th>POP90C3</th>  <td>    0.6275</td> <td>    0.348</td> <td>    1.801</td> <td> 0.072</td> <td>   -0.056</td> <td>    1.311</td>\n",
       "</tr>\n",
       "<tr>\n",
       "  <th>POP90C4</th>  <td>   -2.4518</td> <td>    4.527</td> <td>   -0.542</td> <td> 0.588</td> <td>  -11.326</td> <td>    6.423</td>\n",
       "</tr>\n",
       "<tr>\n",
       "  <th>POP90C5</th>  <td>   -2.5614</td> <td>    4.526</td> <td>   -0.566</td> <td> 0.571</td> <td>  -11.434</td> <td>    6.311</td>\n",
       "</tr>\n",
       "<tr>\n",
       "  <th>ETH1</th>     <td>    0.7200</td> <td>    0.227</td> <td>    3.166</td> <td> 0.002</td> <td>    0.274</td> <td>    1.166</td>\n",
       "</tr>\n",
       "<tr>\n",
       "  <th>ETH2</th>     <td>   -0.2512</td> <td>    0.280</td> <td>   -0.896</td> <td> 0.370</td> <td>   -0.801</td> <td>    0.299</td>\n",
       "</tr>\n",
       "<tr>\n",
       "  <th>ETH3</th>     <td>    0.0815</td> <td>    0.073</td> <td>    1.122</td> <td> 0.262</td> <td>   -0.061</td> <td>    0.224</td>\n",
       "</tr>\n",
       "<tr>\n",
       "  <th>ETH4</th>     <td>    0.1329</td> <td>    0.146</td> <td>    0.908</td> <td> 0.364</td> <td>   -0.154</td> <td>    0.420</td>\n",
       "</tr>\n",
       "<tr>\n",
       "  <th>ETH5</th>     <td>   -0.6839</td> <td>    0.245</td> <td>   -2.787</td> <td> 0.005</td> <td>   -1.165</td> <td>   -0.203</td>\n",
       "</tr>\n",
       "<tr>\n",
       "  <th>ETH6</th>     <td>   -0.2950</td> <td>    0.281</td> <td>   -1.049</td> <td> 0.294</td> <td>   -0.846</td> <td>    0.256</td>\n",
       "</tr>\n",
       "<tr>\n",
       "  <th>ETH7</th>     <td>   -0.0151</td> <td>    0.168</td> <td>   -0.090</td> <td> 0.928</td> <td>   -0.344</td> <td>    0.313</td>\n",
       "</tr>\n",
       "<tr>\n",
       "  <th>ETH8</th>     <td>   -0.0590</td> <td>    0.150</td> <td>   -0.394</td> <td> 0.693</td> <td>   -0.352</td> <td>    0.234</td>\n",
       "</tr>\n",
       "<tr>\n",
       "  <th>ETH9</th>     <td>   -0.1783</td> <td>    0.151</td> <td>   -1.178</td> <td> 0.239</td> <td>   -0.475</td> <td>    0.118</td>\n",
       "</tr>\n",
       "<tr>\n",
       "  <th>ETH10</th>    <td>   -0.0595</td> <td>    0.179</td> <td>   -0.332</td> <td> 0.740</td> <td>   -0.411</td> <td>    0.292</td>\n",
       "</tr>\n",
       "<tr>\n",
       "  <th>ETH11</th>    <td>   -0.3245</td> <td>    0.219</td> <td>   -1.482</td> <td> 0.138</td> <td>   -0.754</td> <td>    0.105</td>\n",
       "</tr>\n",
       "<tr>\n",
       "  <th>ETH12</th>    <td>   -0.0321</td> <td>    0.200</td> <td>   -0.161</td> <td> 0.872</td> <td>   -0.424</td> <td>    0.360</td>\n",
       "</tr>\n",
       "<tr>\n",
       "  <th>ETH13</th>    <td>    0.6981</td> <td>    0.245</td> <td>    2.847</td> <td> 0.004</td> <td>    0.217</td> <td>    1.179</td>\n",
       "</tr>\n",
       "<tr>\n",
       "  <th>ETH14</th>    <td>    0.7756</td> <td>    0.271</td> <td>    2.866</td> <td> 0.004</td> <td>    0.245</td> <td>    1.306</td>\n",
       "</tr>\n",
       "<tr>\n",
       "  <th>ETH15</th>    <td>    0.6870</td> <td>    0.251</td> <td>    2.734</td> <td> 0.006</td> <td>    0.194</td> <td>    1.180</td>\n",
       "</tr>\n",
       "<tr>\n",
       "  <th>ETH16</th>    <td>    0.7921</td> <td>    0.246</td> <td>    3.215</td> <td> 0.001</td> <td>    0.309</td> <td>    1.275</td>\n",
       "</tr>\n",
       "<tr>\n",
       "  <th>AGE901</th>   <td>   -0.1290</td> <td>    0.126</td> <td>   -1.026</td> <td> 0.305</td> <td>   -0.375</td> <td>    0.117</td>\n",
       "</tr>\n",
       "<tr>\n",
       "  <th>AGE902</th>   <td>    0.2604</td> <td>    0.195</td> <td>    1.339</td> <td> 0.181</td> <td>   -0.121</td> <td>    0.642</td>\n",
       "</tr>\n",
       "<tr>\n",
       "  <th>AGE903</th>   <td>   -0.1721</td> <td>    0.162</td> <td>   -1.064</td> <td> 0.287</td> <td>   -0.489</td> <td>    0.145</td>\n",
       "</tr>\n",
       "<tr>\n",
       "  <th>AGE904</th>   <td>   -0.2616</td> <td>    0.336</td> <td>   -0.779</td> <td> 0.436</td> <td>   -0.920</td> <td>    0.397</td>\n",
       "</tr>\n",
       "<tr>\n",
       "  <th>AGE905</th>   <td>   -0.0887</td> <td>    0.393</td> <td>   -0.225</td> <td> 0.822</td> <td>   -0.860</td> <td>    0.683</td>\n",
       "</tr>\n",
       "<tr>\n",
       "  <th>AGE906</th>   <td>   -0.0113</td> <td>    0.321</td> <td>   -0.035</td> <td> 0.972</td> <td>   -0.640</td> <td>    0.617</td>\n",
       "</tr>\n",
       "<tr>\n",
       "  <th>AGE907</th>   <td>   -0.0461</td> <td>    0.201</td> <td>   -0.229</td> <td> 0.819</td> <td>   -0.440</td> <td>    0.348</td>\n",
       "</tr>\n",
       "<tr>\n",
       "  <th>CHIL1</th>    <td>    0.1024</td> <td>    0.246</td> <td>    0.416</td> <td> 0.677</td> <td>   -0.380</td> <td>    0.585</td>\n",
       "</tr>\n",
       "<tr>\n",
       "  <th>CHIL2</th>    <td>    0.0383</td> <td>    0.242</td> <td>    0.158</td> <td> 0.874</td> <td>   -0.436</td> <td>    0.513</td>\n",
       "</tr>\n",
       "<tr>\n",
       "  <th>CHIL3</th>    <td>   -0.0011</td> <td>    0.242</td> <td>   -0.005</td> <td> 0.996</td> <td>   -0.475</td> <td>    0.473</td>\n",
       "</tr>\n",
       "<tr>\n",
       "  <th>AGEC1</th>    <td>    0.0167</td> <td>    0.219</td> <td>    0.076</td> <td> 0.939</td> <td>   -0.412</td> <td>    0.445</td>\n",
       "</tr>\n",
       "<tr>\n",
       "  <th>AGEC2</th>    <td>   -0.0048</td> <td>    0.207</td> <td>   -0.023</td> <td> 0.982</td> <td>   -0.411</td> <td>    0.402</td>\n",
       "</tr>\n",
       "<tr>\n",
       "  <th>AGEC3</th>    <td>    0.0071</td> <td>    0.190</td> <td>    0.037</td> <td> 0.970</td> <td>   -0.366</td> <td>    0.380</td>\n",
       "</tr>\n",
       "<tr>\n",
       "  <th>AGEC4</th>    <td>   -0.0656</td> <td>    0.194</td> <td>   -0.338</td> <td> 0.735</td> <td>   -0.446</td> <td>    0.315</td>\n",
       "</tr>\n",
       "<tr>\n",
       "  <th>AGEC5</th>    <td>   -0.0656</td> <td>    0.197</td> <td>   -0.334</td> <td> 0.739</td> <td>   -0.451</td> <td>    0.320</td>\n",
       "</tr>\n",
       "<tr>\n",
       "  <th>AGEC6</th>    <td>   -0.0348</td> <td>    0.218</td> <td>   -0.159</td> <td> 0.873</td> <td>   -0.463</td> <td>    0.393</td>\n",
       "</tr>\n",
       "<tr>\n",
       "  <th>AGEC7</th>    <td>    0.1177</td> <td>    0.237</td> <td>    0.497</td> <td> 0.619</td> <td>   -0.347</td> <td>    0.582</td>\n",
       "</tr>\n",
       "<tr>\n",
       "  <th>CHILC1</th>   <td>   -0.0921</td> <td>    0.249</td> <td>   -0.369</td> <td> 0.712</td> <td>   -0.581</td> <td>    0.397</td>\n",
       "</tr>\n",
       "<tr>\n",
       "  <th>CHILC2</th>   <td>   -0.0914</td> <td>    0.252</td> <td>   -0.363</td> <td> 0.717</td> <td>   -0.586</td> <td>    0.403</td>\n",
       "</tr>\n",
       "<tr>\n",
       "  <th>CHILC3</th>   <td>   -0.0024</td> <td>    0.244</td> <td>   -0.010</td> <td> 0.992</td> <td>   -0.481</td> <td>    0.476</td>\n",
       "</tr>\n",
       "<tr>\n",
       "  <th>CHILC4</th>   <td>    0.0633</td> <td>    0.245</td> <td>    0.258</td> <td> 0.796</td> <td>   -0.417</td> <td>    0.544</td>\n",
       "</tr>\n",
       "<tr>\n",
       "  <th>CHILC5</th>   <td>   -0.0181</td> <td>    0.243</td> <td>   -0.074</td> <td> 0.941</td> <td>   -0.495</td> <td>    0.459</td>\n",
       "</tr>\n",
       "<tr>\n",
       "  <th>HHAGE1</th>   <td>    0.1389</td> <td>    0.161</td> <td>    0.860</td> <td> 0.390</td> <td>   -0.178</td> <td>    0.455</td>\n",
       "</tr>\n",
       "<tr>\n",
       "  <th>HHAGE2</th>   <td>    0.1367</td> <td>    0.115</td> <td>    1.187</td> <td> 0.235</td> <td>   -0.089</td> <td>    0.362</td>\n",
       "</tr>\n",
       "<tr>\n",
       "  <th>HHAGE3</th>   <td>   -0.2388</td> <td>    0.176</td> <td>   -1.358</td> <td> 0.175</td> <td>   -0.584</td> <td>    0.106</td>\n",
       "</tr>\n",
       "<tr>\n",
       "  <th>HHN1</th>     <td>    0.1234</td> <td>    0.335</td> <td>    0.368</td> <td> 0.713</td> <td>   -0.534</td> <td>    0.781</td>\n",
       "</tr>\n",
       "<tr>\n",
       "  <th>HHN2</th>     <td>   -0.2516</td> <td>    0.282</td> <td>   -0.892</td> <td> 0.373</td> <td>   -0.805</td> <td>    0.302</td>\n",
       "</tr>\n",
       "<tr>\n",
       "  <th>HHN3</th>     <td>   -0.3508</td> <td>    0.305</td> <td>   -1.149</td> <td> 0.251</td> <td>   -0.949</td> <td>    0.248</td>\n",
       "</tr>\n",
       "<tr>\n",
       "  <th>HHN4</th>     <td>    0.0741</td> <td>    0.168</td> <td>    0.442</td> <td> 0.659</td> <td>   -0.255</td> <td>    0.403</td>\n",
       "</tr>\n",
       "<tr>\n",
       "  <th>HHN5</th>     <td>   -0.1976</td> <td>    0.182</td> <td>   -1.085</td> <td> 0.278</td> <td>   -0.555</td> <td>    0.159</td>\n",
       "</tr>\n",
       "<tr>\n",
       "  <th>HHN6</th>     <td>    0.1130</td> <td>    0.250</td> <td>    0.452</td> <td> 0.651</td> <td>   -0.377</td> <td>    0.603</td>\n",
       "</tr>\n",
       "<tr>\n",
       "  <th>MARR1</th>    <td>    0.1280</td> <td>    0.236</td> <td>    0.543</td> <td> 0.587</td> <td>   -0.334</td> <td>    0.590</td>\n",
       "</tr>\n",
       "<tr>\n",
       "  <th>MARR2</th>    <td>    0.1794</td> <td>    0.235</td> <td>    0.764</td> <td> 0.445</td> <td>   -0.281</td> <td>    0.640</td>\n",
       "</tr>\n",
       "<tr>\n",
       "  <th>MARR3</th>    <td>    0.0975</td> <td>    0.250</td> <td>    0.389</td> <td> 0.697</td> <td>   -0.393</td> <td>    0.588</td>\n",
       "</tr>\n",
       "<tr>\n",
       "  <th>MARR4</th>    <td>    0.1742</td> <td>    0.230</td> <td>    0.757</td> <td> 0.449</td> <td>   -0.277</td> <td>    0.626</td>\n",
       "</tr>\n",
       "<tr>\n",
       "  <th>HHP1</th>     <td>    0.0075</td> <td>    0.024</td> <td>    0.306</td> <td> 0.759</td> <td>   -0.040</td> <td>    0.055</td>\n",
       "</tr>\n",
       "<tr>\n",
       "  <th>HHP2</th>     <td>    0.0432</td> <td>    0.141</td> <td>    0.306</td> <td> 0.760</td> <td>   -0.234</td> <td>    0.320</td>\n",
       "</tr>\n",
       "<tr>\n",
       "  <th>DW1</th>      <td>    0.1909</td> <td>    0.120</td> <td>    1.595</td> <td> 0.111</td> <td>   -0.044</td> <td>    0.426</td>\n",
       "</tr>\n",
       "<tr>\n",
       "  <th>DW2</th>      <td>    0.0005</td> <td>    0.027</td> <td>    0.020</td> <td> 0.984</td> <td>   -0.052</td> <td>    0.053</td>\n",
       "</tr>\n",
       "<tr>\n",
       "  <th>DW3</th>      <td>    0.0235</td> <td>    0.313</td> <td>    0.075</td> <td> 0.940</td> <td>   -0.589</td> <td>    0.636</td>\n",
       "</tr>\n",
       "<tr>\n",
       "  <th>DW4</th>      <td>    0.0513</td> <td>    0.394</td> <td>    0.130</td> <td> 0.896</td> <td>   -0.721</td> <td>    0.823</td>\n",
       "</tr>\n",
       "<tr>\n",
       "  <th>DW5</th>      <td>    0.0096</td> <td>    0.314</td> <td>    0.030</td> <td> 0.976</td> <td>   -0.607</td> <td>    0.626</td>\n",
       "</tr>\n",
       "<tr>\n",
       "  <th>DW6</th>      <td>    0.0731</td> <td>    0.083</td> <td>    0.879</td> <td> 0.380</td> <td>   -0.090</td> <td>    0.236</td>\n",
       "</tr>\n",
       "<tr>\n",
       "  <th>DW7</th>      <td>    0.5102</td> <td>    0.849</td> <td>    0.601</td> <td> 0.548</td> <td>   -1.154</td> <td>    2.174</td>\n",
       "</tr>\n",
       "<tr>\n",
       "  <th>DW8</th>      <td>   -0.5742</td> <td>    0.849</td> <td>   -0.677</td> <td> 0.499</td> <td>   -2.238</td> <td>    1.090</td>\n",
       "</tr>\n",
       "<tr>\n",
       "  <th>DW9</th>      <td>   -0.6496</td> <td>    0.850</td> <td>   -0.764</td> <td> 0.445</td> <td>   -2.317</td> <td>    1.017</td>\n",
       "</tr>\n",
       "<tr>\n",
       "  <th>HV1</th>      <td>    0.0006</td> <td>    0.001</td> <td>    0.400</td> <td> 0.689</td> <td>   -0.002</td> <td>    0.003</td>\n",
       "</tr>\n",
       "<tr>\n",
       "  <th>HV2</th>      <td>    0.0002</td> <td>    0.002</td> <td>    0.121</td> <td> 0.904</td> <td>   -0.004</td> <td>    0.004</td>\n",
       "</tr>\n",
       "<tr>\n",
       "  <th>HV3</th>      <td>   -0.1185</td> <td>    0.210</td> <td>   -0.563</td> <td> 0.573</td> <td>   -0.531</td> <td>    0.294</td>\n",
       "</tr>\n",
       "<tr>\n",
       "  <th>HV4</th>      <td>   -0.0448</td> <td>    0.257</td> <td>   -0.174</td> <td> 0.862</td> <td>   -0.549</td> <td>    0.460</td>\n",
       "</tr>\n",
       "<tr>\n",
       "  <th>HU1</th>      <td>    0.1537</td> <td>    1.239</td> <td>    0.124</td> <td> 0.901</td> <td>   -2.276</td> <td>    2.583</td>\n",
       "</tr>\n",
       "<tr>\n",
       "  <th>HU2</th>      <td>    0.6055</td> <td>    1.248</td> <td>    0.485</td> <td> 0.628</td> <td>   -1.841</td> <td>    3.052</td>\n",
       "</tr>\n",
       "<tr>\n",
       "  <th>HU3</th>      <td>   -0.2053</td> <td>    1.181</td> <td>   -0.174</td> <td> 0.862</td> <td>   -2.520</td> <td>    2.110</td>\n",
       "</tr>\n",
       "<tr>\n",
       "  <th>HU4</th>      <td>   -0.2116</td> <td>    1.180</td> <td>   -0.179</td> <td> 0.858</td> <td>   -2.526</td> <td>    2.103</td>\n",
       "</tr>\n",
       "<tr>\n",
       "  <th>HU5</th>      <td>    0.0134</td> <td>    0.010</td> <td>    1.290</td> <td> 0.197</td> <td>   -0.007</td> <td>    0.034</td>\n",
       "</tr>\n",
       "<tr>\n",
       "  <th>HHD1</th>     <td>    0.3211</td> <td>    0.290</td> <td>    1.106</td> <td> 0.269</td> <td>   -0.248</td> <td>    0.890</td>\n",
       "</tr>\n",
       "<tr>\n",
       "  <th>HHD2</th>     <td>    0.3663</td> <td>    0.291</td> <td>    1.257</td> <td> 0.209</td> <td>   -0.205</td> <td>    0.938</td>\n",
       "</tr>\n",
       "<tr>\n",
       "  <th>HHD3</th>     <td>   -0.2793</td> <td>    0.259</td> <td>   -1.079</td> <td> 0.281</td> <td>   -0.787</td> <td>    0.228</td>\n",
       "</tr>\n",
       "<tr>\n",
       "  <th>HHD4</th>     <td>   -0.5409</td> <td>    0.291</td> <td>   -1.859</td> <td> 0.063</td> <td>   -1.111</td> <td>    0.029</td>\n",
       "</tr>\n",
       "<tr>\n",
       "  <th>HHD5</th>     <td>    2.3019</td> <td>    4.549</td> <td>    0.506</td> <td> 0.613</td> <td>   -6.616</td> <td>   11.220</td>\n",
       "</tr>\n",
       "<tr>\n",
       "  <th>HHD6</th>     <td>    2.3216</td> <td>    4.550</td> <td>    0.510</td> <td> 0.610</td> <td>   -6.598</td> <td>   11.241</td>\n",
       "</tr>\n",
       "<tr>\n",
       "  <th>HHD7</th>     <td>   -0.3524</td> <td>    0.354</td> <td>   -0.996</td> <td> 0.320</td> <td>   -1.046</td> <td>    0.342</td>\n",
       "</tr>\n",
       "<tr>\n",
       "  <th>HHD8</th>     <td>   -0.4405</td> <td>    0.309</td> <td>   -1.428</td> <td> 0.153</td> <td>   -1.045</td> <td>    0.164</td>\n",
       "</tr>\n",
       "<tr>\n",
       "  <th>HHD9</th>     <td>   -0.3244</td> <td>    0.299</td> <td>   -1.083</td> <td> 0.279</td> <td>   -0.912</td> <td>    0.263</td>\n",
       "</tr>\n",
       "<tr>\n",
       "  <th>HHD10</th>    <td>   -0.3350</td> <td>    0.253</td> <td>   -1.326</td> <td> 0.185</td> <td>   -0.830</td> <td>    0.160</td>\n",
       "</tr>\n",
       "<tr>\n",
       "  <th>HHD11</th>    <td>   -0.3646</td> <td>    0.251</td> <td>   -1.452</td> <td> 0.147</td> <td>   -0.857</td> <td>    0.128</td>\n",
       "</tr>\n",
       "<tr>\n",
       "  <th>HHD12</th>    <td>    0.1633</td> <td>    0.286</td> <td>    0.572</td> <td> 0.567</td> <td>   -0.397</td> <td>    0.723</td>\n",
       "</tr>\n",
       "<tr>\n",
       "  <th>ETHC1</th>    <td>   -0.7622</td> <td>    0.255</td> <td>   -2.994</td> <td> 0.003</td> <td>   -1.261</td> <td>   -0.263</td>\n",
       "</tr>\n",
       "<tr>\n",
       "  <th>ETHC2</th>    <td>   -0.6524</td> <td>    0.235</td> <td>   -2.773</td> <td> 0.006</td> <td>   -1.114</td> <td>   -0.191</td>\n",
       "</tr>\n",
       "<tr>\n",
       "  <th>ETHC3</th>    <td>   -0.5452</td> <td>    0.243</td> <td>   -2.240</td> <td> 0.025</td> <td>   -1.022</td> <td>   -0.068</td>\n",
       "</tr>\n",
       "<tr>\n",
       "  <th>ETHC4</th>    <td>    0.1725</td> <td>    0.308</td> <td>    0.560</td> <td> 0.576</td> <td>   -0.432</td> <td>    0.777</td>\n",
       "</tr>\n",
       "<tr>\n",
       "  <th>ETHC5</th>    <td>    0.3251</td> <td>    0.295</td> <td>    1.103</td> <td> 0.270</td> <td>   -0.253</td> <td>    0.903</td>\n",
       "</tr>\n",
       "<tr>\n",
       "  <th>ETHC6</th>    <td>    0.5209</td> <td>    0.309</td> <td>    1.685</td> <td> 0.092</td> <td>   -0.085</td> <td>    1.127</td>\n",
       "</tr>\n",
       "<tr>\n",
       "  <th>HVP1</th>     <td>   -0.0007</td> <td>    0.024</td> <td>   -0.029</td> <td> 0.977</td> <td>   -0.048</td> <td>    0.047</td>\n",
       "</tr>\n",
       "<tr>\n",
       "  <th>HVP2</th>     <td>   -0.0092</td> <td>    0.024</td> <td>   -0.381</td> <td> 0.703</td> <td>   -0.056</td> <td>    0.038</td>\n",
       "</tr>\n",
       "<tr>\n",
       "  <th>HVP3</th>     <td>   -0.0100</td> <td>    0.019</td> <td>   -0.520</td> <td> 0.603</td> <td>   -0.048</td> <td>    0.028</td>\n",
       "</tr>\n",
       "<tr>\n",
       "  <th>HVP4</th>     <td>    0.0080</td> <td>    0.017</td> <td>    0.478</td> <td> 0.633</td> <td>   -0.025</td> <td>    0.041</td>\n",
       "</tr>\n",
       "<tr>\n",
       "  <th>HVP5</th>     <td>   -0.0093</td> <td>    0.014</td> <td>   -0.649</td> <td> 0.516</td> <td>   -0.037</td> <td>    0.019</td>\n",
       "</tr>\n",
       "<tr>\n",
       "  <th>HVP6</th>     <td>   -0.0092</td> <td>    0.034</td> <td>   -0.270</td> <td> 0.787</td> <td>   -0.076</td> <td>    0.058</td>\n",
       "</tr>\n",
       "<tr>\n",
       "  <th>HUR1</th>     <td>    0.1223</td> <td>    0.049</td> <td>    2.480</td> <td> 0.013</td> <td>    0.026</td> <td>    0.219</td>\n",
       "</tr>\n",
       "<tr>\n",
       "  <th>HUR2</th>     <td>   -0.0533</td> <td>    0.036</td> <td>   -1.489</td> <td> 0.136</td> <td>   -0.124</td> <td>    0.017</td>\n",
       "</tr>\n",
       "<tr>\n",
       "  <th>RHP1</th>     <td>    0.0125</td> <td>    0.075</td> <td>    0.167</td> <td> 0.867</td> <td>   -0.135</td> <td>    0.160</td>\n",
       "</tr>\n",
       "<tr>\n",
       "  <th>RHP2</th>     <td>    0.1740</td> <td>    0.137</td> <td>    1.268</td> <td> 0.205</td> <td>   -0.095</td> <td>    0.443</td>\n",
       "</tr>\n",
       "<tr>\n",
       "  <th>RHP3</th>     <td>   -0.0061</td> <td>    0.346</td> <td>   -0.018</td> <td> 0.986</td> <td>   -0.684</td> <td>    0.672</td>\n",
       "</tr>\n",
       "<tr>\n",
       "  <th>RHP4</th>     <td>    0.2188</td> <td>    0.396</td> <td>    0.552</td> <td> 0.581</td> <td>   -0.559</td> <td>    0.996</td>\n",
       "</tr>\n",
       "<tr>\n",
       "  <th>HUPA1</th>    <td>    0.1252</td> <td>    0.353</td> <td>    0.355</td> <td> 0.723</td> <td>   -0.567</td> <td>    0.818</td>\n",
       "</tr>\n",
       "<tr>\n",
       "  <th>HUPA2</th>    <td>    0.0826</td> <td>    0.353</td> <td>    0.234</td> <td> 0.815</td> <td>   -0.609</td> <td>    0.774</td>\n",
       "</tr>\n",
       "<tr>\n",
       "  <th>HUPA3</th>    <td>    0.1779</td> <td>    0.119</td> <td>    1.490</td> <td> 0.136</td> <td>   -0.056</td> <td>    0.412</td>\n",
       "</tr>\n",
       "<tr>\n",
       "  <th>HUPA4</th>    <td>   -0.3910</td> <td>    0.192</td> <td>   -2.035</td> <td> 0.042</td> <td>   -0.768</td> <td>   -0.014</td>\n",
       "</tr>\n",
       "<tr>\n",
       "  <th>HUPA5</th>    <td>   -0.4491</td> <td>    0.201</td> <td>   -2.230</td> <td> 0.026</td> <td>   -0.844</td> <td>   -0.054</td>\n",
       "</tr>\n",
       "<tr>\n",
       "  <th>HUPA6</th>    <td>   -0.4817</td> <td>    0.191</td> <td>   -2.517</td> <td> 0.012</td> <td>   -0.857</td> <td>   -0.106</td>\n",
       "</tr>\n",
       "<tr>\n",
       "  <th>HUPA7</th>    <td>   -0.4064</td> <td>    0.201</td> <td>   -2.020</td> <td> 0.043</td> <td>   -0.801</td> <td>   -0.012</td>\n",
       "</tr>\n",
       "<tr>\n",
       "  <th>RP1</th>      <td>    0.0149</td> <td>    0.016</td> <td>    0.946</td> <td> 0.344</td> <td>   -0.016</td> <td>    0.046</td>\n",
       "</tr>\n",
       "<tr>\n",
       "  <th>RP2</th>      <td>   -0.0172</td> <td>    0.017</td> <td>   -1.007</td> <td> 0.314</td> <td>   -0.051</td> <td>    0.016</td>\n",
       "</tr>\n",
       "<tr>\n",
       "  <th>RP3</th>      <td>    0.0381</td> <td>    0.018</td> <td>    2.128</td> <td> 0.033</td> <td>    0.003</td> <td>    0.073</td>\n",
       "</tr>\n",
       "<tr>\n",
       "  <th>RP4</th>      <td>   -0.0126</td> <td>    0.017</td> <td>   -0.728</td> <td> 0.467</td> <td>   -0.046</td> <td>    0.021</td>\n",
       "</tr>\n",
       "<tr>\n",
       "  <th>MSA</th>      <td> 2.972e-05</td> <td>  6.4e-05</td> <td>    0.464</td> <td> 0.642</td> <td>-9.58e-05</td> <td>    0.000</td>\n",
       "</tr>\n",
       "<tr>\n",
       "  <th>ADI</th>      <td>    0.0019</td> <td>    0.001</td> <td>    1.389</td> <td> 0.165</td> <td>   -0.001</td> <td>    0.004</td>\n",
       "</tr>\n",
       "<tr>\n",
       "  <th>DMA</th>      <td>   -0.0080</td> <td>    0.002</td> <td>   -3.658</td> <td> 0.000</td> <td>   -0.012</td> <td>   -0.004</td>\n",
       "</tr>\n",
       "<tr>\n",
       "  <th>IC1</th>      <td>    0.0119</td> <td>    0.006</td> <td>    1.955</td> <td> 0.051</td> <td>-3.48e-05</td> <td>    0.024</td>\n",
       "</tr>\n",
       "<tr>\n",
       "  <th>IC2</th>      <td>   -0.0059</td> <td>    0.005</td> <td>   -1.120</td> <td> 0.263</td> <td>   -0.016</td> <td>    0.004</td>\n",
       "</tr>\n",
       "<tr>\n",
       "  <th>IC3</th>      <td>    0.0205</td> <td>    0.025</td> <td>    0.827</td> <td> 0.408</td> <td>   -0.028</td> <td>    0.069</td>\n",
       "</tr>\n",
       "<tr>\n",
       "  <th>IC4</th>      <td>   -0.0109</td> <td>    0.019</td> <td>   -0.561</td> <td> 0.575</td> <td>   -0.049</td> <td>    0.027</td>\n",
       "</tr>\n",
       "<tr>\n",
       "  <th>IC5</th>      <td>    0.0001</td> <td> 5.34e-05</td> <td>    1.906</td> <td> 0.057</td> <td> -2.9e-06</td> <td>    0.000</td>\n",
       "</tr>\n",
       "<tr>\n",
       "  <th>IC6</th>      <td>    0.3024</td> <td>    0.203</td> <td>    1.493</td> <td> 0.136</td> <td>   -0.095</td> <td>    0.700</td>\n",
       "</tr>\n",
       "<tr>\n",
       "  <th>IC7</th>      <td>    0.2321</td> <td>    0.189</td> <td>    1.226</td> <td> 0.220</td> <td>   -0.139</td> <td>    0.603</td>\n",
       "</tr>\n",
       "<tr>\n",
       "  <th>IC8</th>      <td>    0.2815</td> <td>    0.177</td> <td>    1.593</td> <td> 0.111</td> <td>   -0.065</td> <td>    0.628</td>\n",
       "</tr>\n",
       "<tr>\n",
       "  <th>IC9</th>      <td>    0.1738</td> <td>    0.169</td> <td>    1.027</td> <td> 0.304</td> <td>   -0.158</td> <td>    0.505</td>\n",
       "</tr>\n",
       "<tr>\n",
       "  <th>IC10</th>     <td>    0.1818</td> <td>    0.168</td> <td>    1.083</td> <td> 0.279</td> <td>   -0.147</td> <td>    0.511</td>\n",
       "</tr>\n",
       "<tr>\n",
       "  <th>IC11</th>     <td>   -0.0299</td> <td>    0.191</td> <td>   -0.156</td> <td> 0.876</td> <td>   -0.405</td> <td>    0.345</td>\n",
       "</tr>\n",
       "<tr>\n",
       "  <th>IC12</th>     <td>    0.2748</td> <td>    0.241</td> <td>    1.138</td> <td> 0.255</td> <td>   -0.198</td> <td>    0.748</td>\n",
       "</tr>\n",
       "<tr>\n",
       "  <th>IC13</th>     <td>    0.0313</td> <td>    0.295</td> <td>    0.106</td> <td> 0.915</td> <td>   -0.548</td> <td>    0.610</td>\n",
       "</tr>\n",
       "<tr>\n",
       "  <th>IC14</th>     <td>   -0.4167</td> <td>    0.291</td> <td>   -1.432</td> <td> 0.152</td> <td>   -0.987</td> <td>    0.154</td>\n",
       "</tr>\n",
       "<tr>\n",
       "  <th>IC15</th>     <td>   -0.0484</td> <td>    0.113</td> <td>   -0.429</td> <td> 0.668</td> <td>   -0.269</td> <td>    0.172</td>\n",
       "</tr>\n",
       "<tr>\n",
       "  <th>IC16</th>     <td>   -0.0051</td> <td>    0.109</td> <td>   -0.047</td> <td> 0.962</td> <td>   -0.219</td> <td>    0.208</td>\n",
       "</tr>\n",
       "<tr>\n",
       "  <th>IC17</th>     <td>   -0.0197</td> <td>    0.107</td> <td>   -0.185</td> <td> 0.853</td> <td>   -0.229</td> <td>    0.190</td>\n",
       "</tr>\n",
       "<tr>\n",
       "  <th>IC18</th>     <td>    0.0677</td> <td>    0.114</td> <td>    0.595</td> <td> 0.552</td> <td>   -0.155</td> <td>    0.291</td>\n",
       "</tr>\n",
       "<tr>\n",
       "  <th>IC19</th>     <td>    0.0388</td> <td>    0.129</td> <td>    0.301</td> <td> 0.763</td> <td>   -0.214</td> <td>    0.291</td>\n",
       "</tr>\n",
       "<tr>\n",
       "  <th>IC20</th>     <td>    0.1758</td> <td>    0.160</td> <td>    1.100</td> <td> 0.271</td> <td>   -0.138</td> <td>    0.489</td>\n",
       "</tr>\n",
       "<tr>\n",
       "  <th>IC21</th>     <td>    0.0039</td> <td>    0.217</td> <td>    0.018</td> <td> 0.986</td> <td>   -0.421</td> <td>    0.429</td>\n",
       "</tr>\n",
       "<tr>\n",
       "  <th>IC22</th>     <td>    0.0824</td> <td>    0.266</td> <td>    0.310</td> <td> 0.756</td> <td>   -0.438</td> <td>    0.603</td>\n",
       "</tr>\n",
       "<tr>\n",
       "  <th>IC23</th>     <td>    0.3218</td> <td>    0.268</td> <td>    1.202</td> <td> 0.229</td> <td>   -0.203</td> <td>    0.847</td>\n",
       "</tr>\n",
       "<tr>\n",
       "  <th>HHAS1</th>    <td>    0.0377</td> <td>    0.034</td> <td>    1.107</td> <td> 0.269</td> <td>   -0.029</td> <td>    0.104</td>\n",
       "</tr>\n",
       "<tr>\n",
       "  <th>HHAS2</th>    <td>   -0.0151</td> <td>    0.042</td> <td>   -0.364</td> <td> 0.716</td> <td>   -0.097</td> <td>    0.066</td>\n",
       "</tr>\n",
       "<tr>\n",
       "  <th>HHAS3</th>    <td>   -0.0194</td> <td>    0.020</td> <td>   -0.955</td> <td> 0.339</td> <td>   -0.059</td> <td>    0.020</td>\n",
       "</tr>\n",
       "<tr>\n",
       "  <th>HHAS4</th>    <td>    0.0223</td> <td>    0.041</td> <td>    0.546</td> <td> 0.585</td> <td>   -0.058</td> <td>    0.103</td>\n",
       "</tr>\n",
       "<tr>\n",
       "  <th>MC1</th>      <td>   -0.8061</td> <td>    0.498</td> <td>   -1.619</td> <td> 0.105</td> <td>   -1.782</td> <td>    0.170</td>\n",
       "</tr>\n",
       "<tr>\n",
       "  <th>MC2</th>      <td>   -0.8045</td> <td>    0.497</td> <td>   -1.619</td> <td> 0.106</td> <td>   -1.779</td> <td>    0.170</td>\n",
       "</tr>\n",
       "<tr>\n",
       "  <th>MC3</th>      <td>   -0.0246</td> <td>    0.028</td> <td>   -0.869</td> <td> 0.385</td> <td>   -0.080</td> <td>    0.031</td>\n",
       "</tr>\n",
       "<tr>\n",
       "  <th>TPE1</th>     <td>   -0.1099</td> <td>    0.170</td> <td>   -0.646</td> <td> 0.519</td> <td>   -0.444</td> <td>    0.224</td>\n",
       "</tr>\n",
       "<tr>\n",
       "  <th>TPE2</th>     <td>   -0.0802</td> <td>    0.171</td> <td>   -0.468</td> <td> 0.640</td> <td>   -0.416</td> <td>    0.255</td>\n",
       "</tr>\n",
       "<tr>\n",
       "  <th>TPE3</th>     <td>    0.0747</td> <td>    0.741</td> <td>    0.101</td> <td> 0.920</td> <td>   -1.378</td> <td>    1.527</td>\n",
       "</tr>\n",
       "<tr>\n",
       "  <th>TPE4</th>     <td>   -0.1334</td> <td>    0.734</td> <td>   -0.182</td> <td> 0.856</td> <td>   -1.572</td> <td>    1.305</td>\n",
       "</tr>\n",
       "<tr>\n",
       "  <th>TPE5</th>     <td>   -0.1329</td> <td>    0.733</td> <td>   -0.181</td> <td> 0.856</td> <td>   -1.569</td> <td>    1.303</td>\n",
       "</tr>\n",
       "<tr>\n",
       "  <th>TPE6</th>     <td>   -0.1198</td> <td>    0.755</td> <td>   -0.159</td> <td> 0.874</td> <td>   -1.599</td> <td>    1.359</td>\n",
       "</tr>\n",
       "<tr>\n",
       "  <th>TPE7</th>     <td>   -0.3094</td> <td>    0.267</td> <td>   -1.159</td> <td> 0.246</td> <td>   -0.832</td> <td>    0.214</td>\n",
       "</tr>\n",
       "<tr>\n",
       "  <th>TPE8</th>     <td>   -0.0806</td> <td>    0.173</td> <td>   -0.465</td> <td> 0.642</td> <td>   -0.420</td> <td>    0.259</td>\n",
       "</tr>\n",
       "<tr>\n",
       "  <th>TPE9</th>     <td>   -0.1572</td> <td>    0.178</td> <td>   -0.881</td> <td> 0.378</td> <td>   -0.507</td> <td>    0.193</td>\n",
       "</tr>\n",
       "<tr>\n",
       "  <th>PEC1</th>     <td>    0.0065</td> <td>    0.024</td> <td>    0.274</td> <td> 0.784</td> <td>   -0.040</td> <td>    0.053</td>\n",
       "</tr>\n",
       "<tr>\n",
       "  <th>PEC2</th>     <td>    0.0025</td> <td>    0.008</td> <td>    0.301</td> <td> 0.763</td> <td>   -0.014</td> <td>    0.019</td>\n",
       "</tr>\n",
       "<tr>\n",
       "  <th>TPE10</th>    <td>   -0.0044</td> <td>    0.068</td> <td>   -0.065</td> <td> 0.948</td> <td>   -0.138</td> <td>    0.129</td>\n",
       "</tr>\n",
       "<tr>\n",
       "  <th>TPE11</th>    <td>    0.1027</td> <td>    0.096</td> <td>    1.075</td> <td> 0.282</td> <td>   -0.085</td> <td>    0.290</td>\n",
       "</tr>\n",
       "<tr>\n",
       "  <th>TPE12</th>    <td>   -0.1133</td> <td>    0.066</td> <td>   -1.726</td> <td> 0.084</td> <td>   -0.242</td> <td>    0.015</td>\n",
       "</tr>\n",
       "<tr>\n",
       "  <th>TPE13</th>    <td>   -0.0202</td> <td>    0.020</td> <td>   -1.018</td> <td> 0.309</td> <td>   -0.059</td> <td>    0.019</td>\n",
       "</tr>\n",
       "<tr>\n",
       "  <th>LFC1</th>     <td>   -0.0624</td> <td>    0.190</td> <td>   -0.329</td> <td> 0.742</td> <td>   -0.434</td> <td>    0.309</td>\n",
       "</tr>\n",
       "<tr>\n",
       "  <th>LFC2</th>     <td>    0.0108</td> <td>    0.102</td> <td>    0.106</td> <td> 0.915</td> <td>   -0.189</td> <td>    0.210</td>\n",
       "</tr>\n",
       "<tr>\n",
       "  <th>LFC3</th>     <td>    0.0623</td> <td>    0.115</td> <td>    0.542</td> <td> 0.588</td> <td>   -0.163</td> <td>    0.287</td>\n",
       "</tr>\n",
       "<tr>\n",
       "  <th>LFC4</th>     <td>    0.0473</td> <td>    0.047</td> <td>    1.002</td> <td> 0.316</td> <td>   -0.045</td> <td>    0.140</td>\n",
       "</tr>\n",
       "<tr>\n",
       "  <th>LFC5</th>     <td>   -0.0391</td> <td>    0.063</td> <td>   -0.618</td> <td> 0.537</td> <td>   -0.163</td> <td>    0.085</td>\n",
       "</tr>\n",
       "<tr>\n",
       "  <th>LFC6</th>     <td>   -0.0187</td> <td>    0.017</td> <td>   -1.121</td> <td> 0.262</td> <td>   -0.051</td> <td>    0.014</td>\n",
       "</tr>\n",
       "<tr>\n",
       "  <th>LFC7</th>     <td>   -0.0004</td> <td>    0.015</td> <td>   -0.025</td> <td> 0.980</td> <td>   -0.029</td> <td>    0.028</td>\n",
       "</tr>\n",
       "<tr>\n",
       "  <th>LFC8</th>     <td>   -0.0057</td> <td>    0.005</td> <td>   -1.062</td> <td> 0.288</td> <td>   -0.016</td> <td>    0.005</td>\n",
       "</tr>\n",
       "<tr>\n",
       "  <th>LFC9</th>     <td>    0.0033</td> <td>    0.003</td> <td>    1.018</td> <td> 0.309</td> <td>   -0.003</td> <td>    0.010</td>\n",
       "</tr>\n",
       "<tr>\n",
       "  <th>LFC10</th>    <td>   -0.0108</td> <td>    0.023</td> <td>   -0.464</td> <td> 0.643</td> <td>   -0.057</td> <td>    0.035</td>\n",
       "</tr>\n",
       "<tr>\n",
       "  <th>OCC1</th>     <td>    0.1010</td> <td>    0.128</td> <td>    0.790</td> <td> 0.430</td> <td>   -0.150</td> <td>    0.352</td>\n",
       "</tr>\n",
       "<tr>\n",
       "  <th>OCC2</th>     <td>    0.1008</td> <td>    0.128</td> <td>    0.785</td> <td> 0.432</td> <td>   -0.151</td> <td>    0.353</td>\n",
       "</tr>\n",
       "<tr>\n",
       "  <th>OCC3</th>     <td>    0.0958</td> <td>    0.134</td> <td>    0.716</td> <td> 0.474</td> <td>   -0.167</td> <td>    0.358</td>\n",
       "</tr>\n",
       "<tr>\n",
       "  <th>OCC4</th>     <td>    0.1066</td> <td>    0.130</td> <td>    0.822</td> <td> 0.411</td> <td>   -0.148</td> <td>    0.361</td>\n",
       "</tr>\n",
       "<tr>\n",
       "  <th>OCC5</th>     <td>    0.0617</td> <td>    0.129</td> <td>    0.480</td> <td> 0.631</td> <td>   -0.190</td> <td>    0.314</td>\n",
       "</tr>\n",
       "<tr>\n",
       "  <th>OCC6</th>     <td>    0.0315</td> <td>    0.184</td> <td>    0.171</td> <td> 0.864</td> <td>   -0.329</td> <td>    0.392</td>\n",
       "</tr>\n",
       "<tr>\n",
       "  <th>OCC7</th>     <td>   -0.0362</td> <td>    0.145</td> <td>   -0.249</td> <td> 0.803</td> <td>   -0.321</td> <td>    0.248</td>\n",
       "</tr>\n",
       "<tr>\n",
       "  <th>OCC8</th>     <td>    0.0542</td> <td>    0.129</td> <td>    0.420</td> <td> 0.674</td> <td>   -0.199</td> <td>    0.307</td>\n",
       "</tr>\n",
       "<tr>\n",
       "  <th>OCC9</th>     <td>    0.2188</td> <td>    0.153</td> <td>    1.428</td> <td> 0.153</td> <td>   -0.082</td> <td>    0.519</td>\n",
       "</tr>\n",
       "<tr>\n",
       "  <th>OCC10</th>    <td>    0.1127</td> <td>    0.129</td> <td>    0.873</td> <td> 0.383</td> <td>   -0.140</td> <td>    0.366</td>\n",
       "</tr>\n",
       "<tr>\n",
       "  <th>OCC11</th>    <td>    0.1345</td> <td>    0.131</td> <td>    1.027</td> <td> 0.304</td> <td>   -0.122</td> <td>    0.391</td>\n",
       "</tr>\n",
       "<tr>\n",
       "  <th>OCC12</th>    <td>    0.0990</td> <td>    0.136</td> <td>    0.730</td> <td> 0.466</td> <td>   -0.167</td> <td>    0.365</td>\n",
       "</tr>\n",
       "<tr>\n",
       "  <th>OCC13</th>    <td>    0.0546</td> <td>    0.136</td> <td>    0.401</td> <td> 0.688</td> <td>   -0.212</td> <td>    0.321</td>\n",
       "</tr>\n",
       "<tr>\n",
       "  <th>EIC1</th>     <td>    0.0333</td> <td>    0.138</td> <td>    0.241</td> <td> 0.810</td> <td>   -0.238</td> <td>    0.305</td>\n",
       "</tr>\n",
       "<tr>\n",
       "  <th>EIC2</th>     <td>    0.0335</td> <td>    0.127</td> <td>    0.265</td> <td> 0.791</td> <td>   -0.215</td> <td>    0.282</td>\n",
       "</tr>\n",
       "<tr>\n",
       "  <th>EIC3</th>     <td>    0.0684</td> <td>    0.119</td> <td>    0.573</td> <td> 0.567</td> <td>   -0.166</td> <td>    0.302</td>\n",
       "</tr>\n",
       "<tr>\n",
       "  <th>EIC4</th>     <td>    0.1021</td> <td>    0.115</td> <td>    0.892</td> <td> 0.373</td> <td>   -0.122</td> <td>    0.327</td>\n",
       "</tr>\n",
       "<tr>\n",
       "  <th>EIC5</th>     <td>    0.1699</td> <td>    0.122</td> <td>    1.394</td> <td> 0.163</td> <td>   -0.069</td> <td>    0.409</td>\n",
       "</tr>\n",
       "<tr>\n",
       "  <th>EIC6</th>     <td>    0.0549</td> <td>    0.126</td> <td>    0.435</td> <td> 0.663</td> <td>   -0.192</td> <td>    0.302</td>\n",
       "</tr>\n",
       "<tr>\n",
       "  <th>EIC7</th>     <td>    0.1321</td> <td>    0.120</td> <td>    1.099</td> <td> 0.272</td> <td>   -0.104</td> <td>    0.368</td>\n",
       "</tr>\n",
       "<tr>\n",
       "  <th>EIC8</th>     <td>    0.1402</td> <td>    0.115</td> <td>    1.217</td> <td> 0.223</td> <td>   -0.086</td> <td>    0.366</td>\n",
       "</tr>\n",
       "<tr>\n",
       "  <th>EIC9</th>     <td>    0.1507</td> <td>    0.118</td> <td>    1.276</td> <td> 0.202</td> <td>   -0.081</td> <td>    0.382</td>\n",
       "</tr>\n",
       "<tr>\n",
       "  <th>EIC10</th>    <td>    0.0784</td> <td>    0.121</td> <td>    0.650</td> <td> 0.516</td> <td>   -0.158</td> <td>    0.315</td>\n",
       "</tr>\n",
       "<tr>\n",
       "  <th>EIC11</th>    <td>    0.1252</td> <td>    0.123</td> <td>    1.016</td> <td> 0.310</td> <td>   -0.116</td> <td>    0.367</td>\n",
       "</tr>\n",
       "<tr>\n",
       "  <th>EIC12</th>    <td>    0.0500</td> <td>    0.126</td> <td>    0.397</td> <td> 0.691</td> <td>   -0.197</td> <td>    0.297</td>\n",
       "</tr>\n",
       "<tr>\n",
       "  <th>EIC13</th>    <td>    0.1334</td> <td>    0.116</td> <td>    1.152</td> <td> 0.249</td> <td>   -0.094</td> <td>    0.361</td>\n",
       "</tr>\n",
       "<tr>\n",
       "  <th>EIC14</th>    <td>    0.1539</td> <td>    0.120</td> <td>    1.287</td> <td> 0.198</td> <td>   -0.080</td> <td>    0.388</td>\n",
       "</tr>\n",
       "<tr>\n",
       "  <th>EIC15</th>    <td>    0.0890</td> <td>    0.118</td> <td>    0.752</td> <td> 0.452</td> <td>   -0.143</td> <td>    0.321</td>\n",
       "</tr>\n",
       "<tr>\n",
       "  <th>EIC16</th>    <td>    0.1168</td> <td>    0.124</td> <td>    0.939</td> <td> 0.348</td> <td>   -0.127</td> <td>    0.361</td>\n",
       "</tr>\n",
       "<tr>\n",
       "  <th>OEDC1</th>    <td>   -0.1385</td> <td>    0.170</td> <td>   -0.816</td> <td> 0.415</td> <td>   -0.471</td> <td>    0.194</td>\n",
       "</tr>\n",
       "<tr>\n",
       "  <th>OEDC2</th>    <td>   -0.0244</td> <td>    0.169</td> <td>   -0.144</td> <td> 0.885</td> <td>   -0.356</td> <td>    0.307</td>\n",
       "</tr>\n",
       "<tr>\n",
       "  <th>OEDC3</th>    <td>   -0.1898</td> <td>    0.180</td> <td>   -1.057</td> <td> 0.291</td> <td>   -0.542</td> <td>    0.162</td>\n",
       "</tr>\n",
       "<tr>\n",
       "  <th>OEDC4</th>    <td>    0.0132</td> <td>    0.160</td> <td>    0.082</td> <td> 0.935</td> <td>   -0.301</td> <td>    0.328</td>\n",
       "</tr>\n",
       "<tr>\n",
       "  <th>OEDC5</th>    <td>   -0.0304</td> <td>    0.160</td> <td>   -0.191</td> <td> 0.849</td> <td>   -0.343</td> <td>    0.282</td>\n",
       "</tr>\n",
       "<tr>\n",
       "  <th>OEDC6</th>    <td>   -0.0169</td> <td>    0.161</td> <td>   -0.105</td> <td> 0.917</td> <td>   -0.332</td> <td>    0.299</td>\n",
       "</tr>\n",
       "<tr>\n",
       "  <th>OEDC7</th>    <td>    0.2027</td> <td>    0.209</td> <td>    0.970</td> <td> 0.332</td> <td>   -0.207</td> <td>    0.613</td>\n",
       "</tr>\n",
       "<tr>\n",
       "  <th>EC1</th>      <td>    0.0158</td> <td>    0.031</td> <td>    0.507</td> <td> 0.612</td> <td>   -0.045</td> <td>    0.077</td>\n",
       "</tr>\n",
       "<tr>\n",
       "  <th>EC2</th>      <td>   -0.0449</td> <td>    0.176</td> <td>   -0.256</td> <td> 0.798</td> <td>   -0.390</td> <td>    0.300</td>\n",
       "</tr>\n",
       "<tr>\n",
       "  <th>EC3</th>      <td>   -0.0345</td> <td>    0.174</td> <td>   -0.198</td> <td> 0.843</td> <td>   -0.376</td> <td>    0.307</td>\n",
       "</tr>\n",
       "<tr>\n",
       "  <th>EC4</th>      <td>   -0.0584</td> <td>    0.173</td> <td>   -0.338</td> <td> 0.735</td> <td>   -0.397</td> <td>    0.280</td>\n",
       "</tr>\n",
       "<tr>\n",
       "  <th>EC5</th>      <td>   -0.0177</td> <td>    0.173</td> <td>   -0.102</td> <td> 0.919</td> <td>   -0.358</td> <td>    0.322</td>\n",
       "</tr>\n",
       "<tr>\n",
       "  <th>EC6</th>      <td>   -0.0955</td> <td>    0.175</td> <td>   -0.547</td> <td> 0.585</td> <td>   -0.438</td> <td>    0.247</td>\n",
       "</tr>\n",
       "<tr>\n",
       "  <th>EC7</th>      <td>   -0.1233</td> <td>    0.174</td> <td>   -0.710</td> <td> 0.478</td> <td>   -0.464</td> <td>    0.217</td>\n",
       "</tr>\n",
       "<tr>\n",
       "  <th>EC8</th>      <td>   -0.0037</td> <td>    0.176</td> <td>   -0.021</td> <td> 0.983</td> <td>   -0.349</td> <td>    0.341</td>\n",
       "</tr>\n",
       "<tr>\n",
       "  <th>SEC1</th>     <td>    0.0964</td> <td>    0.214</td> <td>    0.451</td> <td> 0.652</td> <td>   -0.323</td> <td>    0.516</td>\n",
       "</tr>\n",
       "<tr>\n",
       "  <th>SEC2</th>     <td>   -0.0073</td> <td>    0.211</td> <td>   -0.035</td> <td> 0.972</td> <td>   -0.421</td> <td>    0.406</td>\n",
       "</tr>\n",
       "<tr>\n",
       "  <th>SEC3</th>     <td>   -0.0060</td> <td>    0.229</td> <td>   -0.026</td> <td> 0.979</td> <td>   -0.455</td> <td>    0.443</td>\n",
       "</tr>\n",
       "<tr>\n",
       "  <th>SEC4</th>     <td>    0.0465</td> <td>    0.213</td> <td>    0.218</td> <td> 0.827</td> <td>   -0.371</td> <td>    0.464</td>\n",
       "</tr>\n",
       "<tr>\n",
       "  <th>SEC5</th>     <td>   -0.0335</td> <td>    0.213</td> <td>   -0.157</td> <td> 0.875</td> <td>   -0.452</td> <td>    0.385</td>\n",
       "</tr>\n",
       "<tr>\n",
       "  <th>AFC1</th>     <td>    0.3920</td> <td>    0.363</td> <td>    1.081</td> <td> 0.280</td> <td>   -0.319</td> <td>    1.103</td>\n",
       "</tr>\n",
       "<tr>\n",
       "  <th>AFC2</th>     <td>   -0.0644</td> <td>    0.198</td> <td>   -0.325</td> <td> 0.745</td> <td>   -0.453</td> <td>    0.324</td>\n",
       "</tr>\n",
       "<tr>\n",
       "  <th>AFC3</th>     <td>   -0.4512</td> <td>    0.328</td> <td>   -1.378</td> <td> 0.168</td> <td>   -1.093</td> <td>    0.191</td>\n",
       "</tr>\n",
       "<tr>\n",
       "  <th>AFC4</th>     <td>   -0.1247</td> <td>    0.162</td> <td>   -0.772</td> <td> 0.440</td> <td>   -0.441</td> <td>    0.192</td>\n",
       "</tr>\n",
       "<tr>\n",
       "  <th>AFC5</th>     <td>    0.1167</td> <td>    0.082</td> <td>    1.430</td> <td> 0.153</td> <td>   -0.043</td> <td>    0.277</td>\n",
       "</tr>\n",
       "<tr>\n",
       "  <th>AFC6</th>     <td>    0.1072</td> <td>    0.124</td> <td>    0.862</td> <td> 0.389</td> <td>   -0.137</td> <td>    0.351</td>\n",
       "</tr>\n",
       "<tr>\n",
       "  <th>VC1</th>      <td>   -0.0100</td> <td>    0.021</td> <td>   -0.485</td> <td> 0.628</td> <td>   -0.050</td> <td>    0.030</td>\n",
       "</tr>\n",
       "<tr>\n",
       "  <th>VC2</th>      <td>   -0.0108</td> <td>    0.018</td> <td>   -0.613</td> <td> 0.540</td> <td>   -0.045</td> <td>    0.024</td>\n",
       "</tr>\n",
       "<tr>\n",
       "  <th>VC3</th>      <td>    0.0344</td> <td>    0.022</td> <td>    1.589</td> <td> 0.112</td> <td>   -0.008</td> <td>    0.077</td>\n",
       "</tr>\n",
       "<tr>\n",
       "  <th>VC4</th>      <td>   -0.0083</td> <td>    0.022</td> <td>   -0.384</td> <td> 0.701</td> <td>   -0.051</td> <td>    0.034</td>\n",
       "</tr>\n",
       "<tr>\n",
       "  <th>ANC1</th>     <td>   -0.0349</td> <td>    0.055</td> <td>   -0.639</td> <td> 0.523</td> <td>   -0.142</td> <td>    0.072</td>\n",
       "</tr>\n",
       "<tr>\n",
       "  <th>ANC2</th>     <td>   -0.0430</td> <td>    0.040</td> <td>   -1.086</td> <td> 0.278</td> <td>   -0.121</td> <td>    0.035</td>\n",
       "</tr>\n",
       "<tr>\n",
       "  <th>ANC3</th>     <td>   -0.0726</td> <td>    0.107</td> <td>   -0.677</td> <td> 0.498</td> <td>   -0.283</td> <td>    0.137</td>\n",
       "</tr>\n",
       "<tr>\n",
       "  <th>ANC4</th>     <td>   -0.0317</td> <td>    0.024</td> <td>   -1.310</td> <td> 0.190</td> <td>   -0.079</td> <td>    0.016</td>\n",
       "</tr>\n",
       "<tr>\n",
       "  <th>ANC5</th>     <td>   -0.0566</td> <td>    0.190</td> <td>   -0.297</td> <td> 0.766</td> <td>   -0.430</td> <td>    0.317</td>\n",
       "</tr>\n",
       "<tr>\n",
       "  <th>ANC6</th>     <td>   -0.0039</td> <td>    0.268</td> <td>   -0.015</td> <td> 0.988</td> <td>   -0.529</td> <td>    0.522</td>\n",
       "</tr>\n",
       "<tr>\n",
       "  <th>ANC7</th>     <td>   -0.0163</td> <td>    0.050</td> <td>   -0.326</td> <td> 0.744</td> <td>   -0.114</td> <td>    0.082</td>\n",
       "</tr>\n",
       "<tr>\n",
       "  <th>ANC8</th>     <td>   -0.0006</td> <td>    0.067</td> <td>   -0.009</td> <td> 0.993</td> <td>   -0.132</td> <td>    0.131</td>\n",
       "</tr>\n",
       "<tr>\n",
       "  <th>ANC9</th>     <td>    0.0091</td> <td>    0.067</td> <td>    0.135</td> <td> 0.892</td> <td>   -0.123</td> <td>    0.141</td>\n",
       "</tr>\n",
       "<tr>\n",
       "  <th>ANC10</th>    <td>    0.0451</td> <td>    0.063</td> <td>    0.711</td> <td> 0.477</td> <td>   -0.079</td> <td>    0.170</td>\n",
       "</tr>\n",
       "<tr>\n",
       "  <th>ANC11</th>    <td>    0.2329</td> <td>    0.170</td> <td>    1.373</td> <td> 0.170</td> <td>   -0.100</td> <td>    0.565</td>\n",
       "</tr>\n",
       "<tr>\n",
       "  <th>ANC12</th>    <td>   -0.0350</td> <td>    0.124</td> <td>   -0.283</td> <td> 0.777</td> <td>   -0.277</td> <td>    0.207</td>\n",
       "</tr>\n",
       "<tr>\n",
       "  <th>ANC13</th>    <td>   -0.2189</td> <td>    0.150</td> <td>   -1.460</td> <td> 0.144</td> <td>   -0.513</td> <td>    0.075</td>\n",
       "</tr>\n",
       "<tr>\n",
       "  <th>ANC14</th>    <td>   -0.1617</td> <td>    0.122</td> <td>   -1.328</td> <td> 0.184</td> <td>   -0.400</td> <td>    0.077</td>\n",
       "</tr>\n",
       "<tr>\n",
       "  <th>ANC15</th>    <td>   -0.6295</td> <td>    0.365</td> <td>   -1.725</td> <td> 0.085</td> <td>   -1.345</td> <td>    0.086</td>\n",
       "</tr>\n",
       "<tr>\n",
       "  <th>POBC1</th>    <td>   -0.0557</td> <td>    0.049</td> <td>   -1.143</td> <td> 0.253</td> <td>   -0.151</td> <td>    0.040</td>\n",
       "</tr>\n",
       "<tr>\n",
       "  <th>POBC2</th>    <td>   -0.0069</td> <td>    0.016</td> <td>   -0.434</td> <td> 0.664</td> <td>   -0.038</td> <td>    0.024</td>\n",
       "</tr>\n",
       "<tr>\n",
       "  <th>LSC1</th>     <td>   -0.0660</td> <td>    0.244</td> <td>   -0.270</td> <td> 0.787</td> <td>   -0.545</td> <td>    0.413</td>\n",
       "</tr>\n",
       "<tr>\n",
       "  <th>LSC2</th>     <td>   -0.0936</td> <td>    0.245</td> <td>   -0.382</td> <td> 0.702</td> <td>   -0.574</td> <td>    0.387</td>\n",
       "</tr>\n",
       "<tr>\n",
       "  <th>LSC3</th>     <td>    0.0236</td> <td>    0.251</td> <td>    0.094</td> <td> 0.925</td> <td>   -0.468</td> <td>    0.515</td>\n",
       "</tr>\n",
       "<tr>\n",
       "  <th>LSC4</th>     <td>    0.0423</td> <td>    0.244</td> <td>    0.173</td> <td> 0.863</td> <td>   -0.437</td> <td>    0.522</td>\n",
       "</tr>\n",
       "<tr>\n",
       "  <th>VOC1</th>     <td>    0.0545</td> <td>    0.038</td> <td>    1.416</td> <td> 0.157</td> <td>   -0.021</td> <td>    0.130</td>\n",
       "</tr>\n",
       "<tr>\n",
       "  <th>VOC2</th>     <td>    0.0351</td> <td>    0.026</td> <td>    1.371</td> <td> 0.170</td> <td>   -0.015</td> <td>    0.085</td>\n",
       "</tr>\n",
       "<tr>\n",
       "  <th>VOC3</th>     <td>   -0.0145</td> <td>    0.026</td> <td>   -0.561</td> <td> 0.575</td> <td>   -0.065</td> <td>    0.036</td>\n",
       "</tr>\n",
       "<tr>\n",
       "  <th>HC1</th>      <td>   -0.0212</td> <td>    0.071</td> <td>   -0.301</td> <td> 0.763</td> <td>   -0.160</td> <td>    0.117</td>\n",
       "</tr>\n",
       "<tr>\n",
       "  <th>HC2</th>      <td>    0.0020</td> <td>    0.033</td> <td>    0.060</td> <td> 0.952</td> <td>   -0.063</td> <td>    0.067</td>\n",
       "</tr>\n",
       "<tr>\n",
       "  <th>HC3</th>      <td>   -0.0133</td> <td>    0.032</td> <td>   -0.414</td> <td> 0.679</td> <td>   -0.076</td> <td>    0.050</td>\n",
       "</tr>\n",
       "<tr>\n",
       "  <th>HC4</th>      <td>    0.0164</td> <td>    0.022</td> <td>    0.750</td> <td> 0.454</td> <td>   -0.026</td> <td>    0.059</td>\n",
       "</tr>\n",
       "<tr>\n",
       "  <th>HC5</th>      <td>   -0.0126</td> <td>    0.017</td> <td>   -0.757</td> <td> 0.449</td> <td>   -0.045</td> <td>    0.020</td>\n",
       "</tr>\n",
       "<tr>\n",
       "  <th>HC6</th>      <td>    0.0181</td> <td>    0.013</td> <td>    1.390</td> <td> 0.164</td> <td>   -0.007</td> <td>    0.044</td>\n",
       "</tr>\n",
       "<tr>\n",
       "  <th>HC7</th>      <td>    0.0045</td> <td>    0.027</td> <td>    0.168</td> <td> 0.867</td> <td>   -0.048</td> <td>    0.057</td>\n",
       "</tr>\n",
       "<tr>\n",
       "  <th>HC8</th>      <td>    0.0098</td> <td>    0.027</td> <td>    0.367</td> <td> 0.713</td> <td>   -0.042</td> <td>    0.062</td>\n",
       "</tr>\n",
       "<tr>\n",
       "  <th>HC9</th>      <td>   -0.0289</td> <td>    0.041</td> <td>   -0.710</td> <td> 0.477</td> <td>   -0.108</td> <td>    0.051</td>\n",
       "</tr>\n",
       "<tr>\n",
       "  <th>HC10</th>     <td>   -0.0058</td> <td>    0.055</td> <td>   -0.107</td> <td> 0.915</td> <td>   -0.113</td> <td>    0.101</td>\n",
       "</tr>\n",
       "<tr>\n",
       "  <th>HC11</th>     <td>    0.0410</td> <td>    0.053</td> <td>    0.778</td> <td> 0.437</td> <td>   -0.062</td> <td>    0.144</td>\n",
       "</tr>\n",
       "<tr>\n",
       "  <th>HC12</th>     <td>    0.0293</td> <td>    0.055</td> <td>    0.532</td> <td> 0.595</td> <td>   -0.079</td> <td>    0.137</td>\n",
       "</tr>\n",
       "<tr>\n",
       "  <th>HC13</th>     <td>    0.0285</td> <td>    0.053</td> <td>    0.537</td> <td> 0.591</td> <td>   -0.076</td> <td>    0.133</td>\n",
       "</tr>\n",
       "<tr>\n",
       "  <th>HC14</th>     <td>    0.0589</td> <td>    0.055</td> <td>    1.062</td> <td> 0.288</td> <td>   -0.050</td> <td>    0.167</td>\n",
       "</tr>\n",
       "<tr>\n",
       "  <th>HC15</th>     <td>    0.2728</td> <td>    0.234</td> <td>    1.168</td> <td> 0.243</td> <td>   -0.185</td> <td>    0.731</td>\n",
       "</tr>\n",
       "<tr>\n",
       "  <th>HC16</th>     <td>    0.0155</td> <td>    0.056</td> <td>    0.278</td> <td> 0.781</td> <td>   -0.094</td> <td>    0.125</td>\n",
       "</tr>\n",
       "<tr>\n",
       "  <th>HC17</th>     <td>    0.0829</td> <td>    0.039</td> <td>    2.122</td> <td> 0.034</td> <td>    0.006</td> <td>    0.159</td>\n",
       "</tr>\n",
       "<tr>\n",
       "  <th>HC18</th>     <td>    0.0657</td> <td>    0.038</td> <td>    1.711</td> <td> 0.087</td> <td>   -0.010</td> <td>    0.141</td>\n",
       "</tr>\n",
       "<tr>\n",
       "  <th>HC19</th>     <td>   -0.0167</td> <td>    0.008</td> <td>   -2.013</td> <td> 0.044</td> <td>   -0.033</td> <td>   -0.000</td>\n",
       "</tr>\n",
       "<tr>\n",
       "  <th>HC20</th>     <td>   -0.2002</td> <td>    0.088</td> <td>   -2.265</td> <td> 0.024</td> <td>   -0.373</td> <td>   -0.027</td>\n",
       "</tr>\n",
       "<tr>\n",
       "  <th>HC21</th>     <td>   -0.0014</td> <td>    0.044</td> <td>   -0.033</td> <td> 0.974</td> <td>   -0.088</td> <td>    0.085</td>\n",
       "</tr>\n",
       "<tr>\n",
       "  <th>MHUC1</th>    <td>   -0.0936</td> <td>    0.069</td> <td>   -1.352</td> <td> 0.176</td> <td>   -0.229</td> <td>    0.042</td>\n",
       "</tr>\n",
       "<tr>\n",
       "  <th>MHUC2</th>    <td>   -0.3159</td> <td>    0.202</td> <td>   -1.564</td> <td> 0.118</td> <td>   -0.712</td> <td>    0.080</td>\n",
       "</tr>\n",
       "<tr>\n",
       "  <th>AC1</th>      <td>   -0.0236</td> <td>    0.070</td> <td>   -0.338</td> <td> 0.735</td> <td>   -0.160</td> <td>    0.113</td>\n",
       "</tr>\n",
       "<tr>\n",
       "  <th>AC2</th>      <td>   -0.1578</td> <td>    0.064</td> <td>   -2.450</td> <td> 0.014</td> <td>   -0.284</td> <td>   -0.032</td>\n",
       "</tr>\n",
       "<tr>\n",
       "  <th>CARDPROM</th> <td>   -0.0498</td> <td>    0.087</td> <td>   -0.576</td> <td> 0.564</td> <td>   -0.219</td> <td>    0.120</td>\n",
       "</tr>\n",
       "<tr>\n",
       "  <th>NUMPROM</th>  <td>    0.0041</td> <td>    0.032</td> <td>    0.129</td> <td> 0.898</td> <td>   -0.059</td> <td>    0.067</td>\n",
       "</tr>\n",
       "<tr>\n",
       "  <th>CARDPM12</th> <td>    0.4899</td> <td>    0.187</td> <td>    2.623</td> <td> 0.009</td> <td>    0.124</td> <td>    0.856</td>\n",
       "</tr>\n",
       "<tr>\n",
       "  <th>NUMPRM12</th> <td>   -0.0481</td> <td>    0.062</td> <td>   -0.779</td> <td> 0.436</td> <td>   -0.169</td> <td>    0.073</td>\n",
       "</tr>\n",
       "<tr>\n",
       "  <th>RAMNTALL</th> <td>    0.0246</td> <td>    0.003</td> <td>    9.774</td> <td> 0.000</td> <td>    0.020</td> <td>    0.030</td>\n",
       "</tr>\n",
       "<tr>\n",
       "  <th>NGIFTALL</th> <td>   -0.2631</td> <td>    0.046</td> <td>   -5.751</td> <td> 0.000</td> <td>   -0.353</td> <td>   -0.173</td>\n",
       "</tr>\n",
       "<tr>\n",
       "  <th>CARDGIFT</th> <td>    0.0359</td> <td>    0.076</td> <td>    0.473</td> <td> 0.636</td> <td>   -0.113</td> <td>    0.185</td>\n",
       "</tr>\n",
       "<tr>\n",
       "  <th>MINRAMNT</th> <td>   -0.4481</td> <td>    0.043</td> <td>  -10.537</td> <td> 0.000</td> <td>   -0.531</td> <td>   -0.365</td>\n",
       "</tr>\n",
       "<tr>\n",
       "  <th>MINRDATE</th> <td>    0.0014</td> <td>    0.001</td> <td>    1.902</td> <td> 0.057</td> <td>-4.41e-05</td> <td>    0.003</td>\n",
       "</tr>\n",
       "<tr>\n",
       "  <th>MAXRAMNT</th> <td>   -0.0153</td> <td>    0.009</td> <td>   -1.665</td> <td> 0.096</td> <td>   -0.033</td> <td>    0.003</td>\n",
       "</tr>\n",
       "<tr>\n",
       "  <th>MAXRDATE</th> <td>-5.851e-05</td> <td>    0.001</td> <td>   -0.069</td> <td> 0.945</td> <td>   -0.002</td> <td>    0.002</td>\n",
       "</tr>\n",
       "<tr>\n",
       "  <th>LASTGIFT</th> <td>    0.5332</td> <td>    0.021</td> <td>   25.481</td> <td> 0.000</td> <td>    0.492</td> <td>    0.574</td>\n",
       "</tr>\n",
       "<tr>\n",
       "  <th>LASTDATE</th> <td>   -0.0013</td> <td>    0.003</td> <td>   -0.436</td> <td> 0.663</td> <td>   -0.007</td> <td>    0.005</td>\n",
       "</tr>\n",
       "<tr>\n",
       "  <th>FISTDATE</th> <td>    0.0003</td> <td>    0.002</td> <td>    0.133</td> <td> 0.895</td> <td>   -0.004</td> <td>    0.005</td>\n",
       "</tr>\n",
       "<tr>\n",
       "  <th>TIMELAG</th>  <td>    0.0044</td> <td>    0.001</td> <td>    6.368</td> <td> 0.000</td> <td>    0.003</td> <td>    0.006</td>\n",
       "</tr>\n",
       "<tr>\n",
       "  <th>AVGGIFT</th>  <td>    0.1755</td> <td>    0.052</td> <td>    3.362</td> <td> 0.001</td> <td>    0.073</td> <td>    0.278</td>\n",
       "</tr>\n",
       "<tr>\n",
       "  <th>CONTROLN</th> <td>  8.22e-06</td> <td> 3.43e-06</td> <td>    2.397</td> <td> 0.017</td> <td>  1.5e-06</td> <td> 1.49e-05</td>\n",
       "</tr>\n",
       "<tr>\n",
       "  <th>HPHONE_D</th> <td>    0.2045</td> <td>    0.299</td> <td>    0.684</td> <td> 0.494</td> <td>   -0.382</td> <td>    0.791</td>\n",
       "</tr>\n",
       "<tr>\n",
       "  <th>RFA_2F</th>   <td>   -1.5823</td> <td>    0.148</td> <td>  -10.697</td> <td> 0.000</td> <td>   -1.872</td> <td>   -1.292</td>\n",
       "</tr>\n",
       "<tr>\n",
       "  <th>CLUSTER2</th> <td>    0.0166</td> <td>    0.018</td> <td>    0.909</td> <td> 0.363</td> <td>   -0.019</td> <td>    0.052</td>\n",
       "</tr>\n",
       "</table>\n",
       "<table class=\"simpletable\">\n",
       "<tr>\n",
       "  <th>Omnibus:</th>       <td>5128.625</td> <th>  Durbin-Watson:     </th>  <td>   1.967</td>  \n",
       "</tr>\n",
       "<tr>\n",
       "  <th>Prob(Omnibus):</th>  <td> 0.000</td>  <th>  Jarque-Bera (JB):  </th> <td>1519324.399</td>\n",
       "</tr>\n",
       "<tr>\n",
       "  <th>Skew:</th>           <td> 4.739</td>  <th>  Prob(JB):          </th>  <td>    0.00</td>  \n",
       "</tr>\n",
       "<tr>\n",
       "  <th>Kurtosis:</th>       <td>89.252</td>  <th>  Cond. No.          </th>  <td>2.94e+07</td>  \n",
       "</tr>\n",
       "</table><br/><br/>Warnings:<br/>[1] Standard Errors assume that the covariance matrix of the errors is correctly specified.<br/>[2] The condition number is large, 2.94e+07. This might indicate that there are<br/>strong multicollinearity or other numerical problems."
      ],
      "text/plain": [
       "<class 'statsmodels.iolib.summary.Summary'>\n",
       "\"\"\"\n",
       "                            OLS Regression Results                            \n",
       "==============================================================================\n",
       "Dep. Variable:               TARGET_D   R-squared:                       0.540\n",
       "Model:                            OLS   Adj. R-squared:                  0.507\n",
       "Method:                 Least Squares   F-statistic:                     16.53\n",
       "Date:                Thu, 06 May 2021   Prob (F-statistic):               0.00\n",
       "Time:                        23:25:18   Log-Likelihood:                -17202.\n",
       "No. Observations:                4843   AIC:                         3.505e+04\n",
       "Df Residuals:                    4521   BIC:                         3.714e+04\n",
       "Df Model:                         321                                         \n",
       "Covariance Type:            nonrobust                                         \n",
       "==============================================================================\n",
       "                 coef    std err          t      P>|t|      [0.025      0.975]\n",
       "------------------------------------------------------------------------------\n",
       "const          0.4263     31.437      0.014      0.989     -61.206      62.059\n",
       "ODATEDW        0.0011      0.002      0.496      0.620      -0.003       0.006\n",
       "TCODE      -3.849e-05      0.000     -0.343      0.732      -0.000       0.000\n",
       "DOB        -2.929e-05   9.02e-05     -0.325      0.745      -0.000       0.000\n",
       "AGE            0.0153      0.014      1.118      0.264      -0.012       0.042\n",
       "INCOME         0.0562      0.090      0.624      0.533      -0.120       0.233\n",
       "WEALTH1        0.0533      0.064      0.838      0.402      -0.071       0.178\n",
       "HIT           -0.0218      0.014     -1.510      0.131      -0.050       0.006\n",
       "MALEMILI      -0.0809      0.050     -1.616      0.106      -0.179       0.017\n",
       "MALEVET       -0.0006      0.026     -0.023      0.982      -0.052       0.051\n",
       "VIETVETS      -0.0054      0.017     -0.320      0.749      -0.038       0.028\n",
       "WWIIVETS      -0.0359      0.017     -2.127      0.033      -0.069      -0.003\n",
       "LOCALGOV       0.0929      0.060      1.552      0.121      -0.024       0.210\n",
       "STATEGOV       0.0121      0.059      0.206      0.837      -0.103       0.128\n",
       "FEDGOV         0.1390      0.081      1.709      0.088      -0.021       0.299\n",
       "WEALTH2       -0.0123      0.061     -0.203      0.839      -0.131       0.106\n",
       "POP901        -0.0003      0.000     -1.393      0.164      -0.001       0.000\n",
       "POP902         0.0003      0.001      0.393      0.694      -0.001       0.002\n",
       "POP903         0.0005      0.000      1.193      0.233      -0.000       0.001\n",
       "POP90C1        0.6258      0.349      1.795      0.073      -0.058       1.309\n",
       "POP90C2        0.6243      0.347      1.798      0.072      -0.056       1.305\n",
       "POP90C3        0.6275      0.348      1.801      0.072      -0.056       1.311\n",
       "POP90C4       -2.4518      4.527     -0.542      0.588     -11.326       6.423\n",
       "POP90C5       -2.5614      4.526     -0.566      0.571     -11.434       6.311\n",
       "ETH1           0.7200      0.227      3.166      0.002       0.274       1.166\n",
       "ETH2          -0.2512      0.280     -0.896      0.370      -0.801       0.299\n",
       "ETH3           0.0815      0.073      1.122      0.262      -0.061       0.224\n",
       "ETH4           0.1329      0.146      0.908      0.364      -0.154       0.420\n",
       "ETH5          -0.6839      0.245     -2.787      0.005      -1.165      -0.203\n",
       "ETH6          -0.2950      0.281     -1.049      0.294      -0.846       0.256\n",
       "ETH7          -0.0151      0.168     -0.090      0.928      -0.344       0.313\n",
       "ETH8          -0.0590      0.150     -0.394      0.693      -0.352       0.234\n",
       "ETH9          -0.1783      0.151     -1.178      0.239      -0.475       0.118\n",
       "ETH10         -0.0595      0.179     -0.332      0.740      -0.411       0.292\n",
       "ETH11         -0.3245      0.219     -1.482      0.138      -0.754       0.105\n",
       "ETH12         -0.0321      0.200     -0.161      0.872      -0.424       0.360\n",
       "ETH13          0.6981      0.245      2.847      0.004       0.217       1.179\n",
       "ETH14          0.7756      0.271      2.866      0.004       0.245       1.306\n",
       "ETH15          0.6870      0.251      2.734      0.006       0.194       1.180\n",
       "ETH16          0.7921      0.246      3.215      0.001       0.309       1.275\n",
       "AGE901        -0.1290      0.126     -1.026      0.305      -0.375       0.117\n",
       "AGE902         0.2604      0.195      1.339      0.181      -0.121       0.642\n",
       "AGE903        -0.1721      0.162     -1.064      0.287      -0.489       0.145\n",
       "AGE904        -0.2616      0.336     -0.779      0.436      -0.920       0.397\n",
       "AGE905        -0.0887      0.393     -0.225      0.822      -0.860       0.683\n",
       "AGE906        -0.0113      0.321     -0.035      0.972      -0.640       0.617\n",
       "AGE907        -0.0461      0.201     -0.229      0.819      -0.440       0.348\n",
       "CHIL1          0.1024      0.246      0.416      0.677      -0.380       0.585\n",
       "CHIL2          0.0383      0.242      0.158      0.874      -0.436       0.513\n",
       "CHIL3         -0.0011      0.242     -0.005      0.996      -0.475       0.473\n",
       "AGEC1          0.0167      0.219      0.076      0.939      -0.412       0.445\n",
       "AGEC2         -0.0048      0.207     -0.023      0.982      -0.411       0.402\n",
       "AGEC3          0.0071      0.190      0.037      0.970      -0.366       0.380\n",
       "AGEC4         -0.0656      0.194     -0.338      0.735      -0.446       0.315\n",
       "AGEC5         -0.0656      0.197     -0.334      0.739      -0.451       0.320\n",
       "AGEC6         -0.0348      0.218     -0.159      0.873      -0.463       0.393\n",
       "AGEC7          0.1177      0.237      0.497      0.619      -0.347       0.582\n",
       "CHILC1        -0.0921      0.249     -0.369      0.712      -0.581       0.397\n",
       "CHILC2        -0.0914      0.252     -0.363      0.717      -0.586       0.403\n",
       "CHILC3        -0.0024      0.244     -0.010      0.992      -0.481       0.476\n",
       "CHILC4         0.0633      0.245      0.258      0.796      -0.417       0.544\n",
       "CHILC5        -0.0181      0.243     -0.074      0.941      -0.495       0.459\n",
       "HHAGE1         0.1389      0.161      0.860      0.390      -0.178       0.455\n",
       "HHAGE2         0.1367      0.115      1.187      0.235      -0.089       0.362\n",
       "HHAGE3        -0.2388      0.176     -1.358      0.175      -0.584       0.106\n",
       "HHN1           0.1234      0.335      0.368      0.713      -0.534       0.781\n",
       "HHN2          -0.2516      0.282     -0.892      0.373      -0.805       0.302\n",
       "HHN3          -0.3508      0.305     -1.149      0.251      -0.949       0.248\n",
       "HHN4           0.0741      0.168      0.442      0.659      -0.255       0.403\n",
       "HHN5          -0.1976      0.182     -1.085      0.278      -0.555       0.159\n",
       "HHN6           0.1130      0.250      0.452      0.651      -0.377       0.603\n",
       "MARR1          0.1280      0.236      0.543      0.587      -0.334       0.590\n",
       "MARR2          0.1794      0.235      0.764      0.445      -0.281       0.640\n",
       "MARR3          0.0975      0.250      0.389      0.697      -0.393       0.588\n",
       "MARR4          0.1742      0.230      0.757      0.449      -0.277       0.626\n",
       "HHP1           0.0075      0.024      0.306      0.759      -0.040       0.055\n",
       "HHP2           0.0432      0.141      0.306      0.760      -0.234       0.320\n",
       "DW1            0.1909      0.120      1.595      0.111      -0.044       0.426\n",
       "DW2            0.0005      0.027      0.020      0.984      -0.052       0.053\n",
       "DW3            0.0235      0.313      0.075      0.940      -0.589       0.636\n",
       "DW4            0.0513      0.394      0.130      0.896      -0.721       0.823\n",
       "DW5            0.0096      0.314      0.030      0.976      -0.607       0.626\n",
       "DW6            0.0731      0.083      0.879      0.380      -0.090       0.236\n",
       "DW7            0.5102      0.849      0.601      0.548      -1.154       2.174\n",
       "DW8           -0.5742      0.849     -0.677      0.499      -2.238       1.090\n",
       "DW9           -0.6496      0.850     -0.764      0.445      -2.317       1.017\n",
       "HV1            0.0006      0.001      0.400      0.689      -0.002       0.003\n",
       "HV2            0.0002      0.002      0.121      0.904      -0.004       0.004\n",
       "HV3           -0.1185      0.210     -0.563      0.573      -0.531       0.294\n",
       "HV4           -0.0448      0.257     -0.174      0.862      -0.549       0.460\n",
       "HU1            0.1537      1.239      0.124      0.901      -2.276       2.583\n",
       "HU2            0.6055      1.248      0.485      0.628      -1.841       3.052\n",
       "HU3           -0.2053      1.181     -0.174      0.862      -2.520       2.110\n",
       "HU4           -0.2116      1.180     -0.179      0.858      -2.526       2.103\n",
       "HU5            0.0134      0.010      1.290      0.197      -0.007       0.034\n",
       "HHD1           0.3211      0.290      1.106      0.269      -0.248       0.890\n",
       "HHD2           0.3663      0.291      1.257      0.209      -0.205       0.938\n",
       "HHD3          -0.2793      0.259     -1.079      0.281      -0.787       0.228\n",
       "HHD4          -0.5409      0.291     -1.859      0.063      -1.111       0.029\n",
       "HHD5           2.3019      4.549      0.506      0.613      -6.616      11.220\n",
       "HHD6           2.3216      4.550      0.510      0.610      -6.598      11.241\n",
       "HHD7          -0.3524      0.354     -0.996      0.320      -1.046       0.342\n",
       "HHD8          -0.4405      0.309     -1.428      0.153      -1.045       0.164\n",
       "HHD9          -0.3244      0.299     -1.083      0.279      -0.912       0.263\n",
       "HHD10         -0.3350      0.253     -1.326      0.185      -0.830       0.160\n",
       "HHD11         -0.3646      0.251     -1.452      0.147      -0.857       0.128\n",
       "HHD12          0.1633      0.286      0.572      0.567      -0.397       0.723\n",
       "ETHC1         -0.7622      0.255     -2.994      0.003      -1.261      -0.263\n",
       "ETHC2         -0.6524      0.235     -2.773      0.006      -1.114      -0.191\n",
       "ETHC3         -0.5452      0.243     -2.240      0.025      -1.022      -0.068\n",
       "ETHC4          0.1725      0.308      0.560      0.576      -0.432       0.777\n",
       "ETHC5          0.3251      0.295      1.103      0.270      -0.253       0.903\n",
       "ETHC6          0.5209      0.309      1.685      0.092      -0.085       1.127\n",
       "HVP1          -0.0007      0.024     -0.029      0.977      -0.048       0.047\n",
       "HVP2          -0.0092      0.024     -0.381      0.703      -0.056       0.038\n",
       "HVP3          -0.0100      0.019     -0.520      0.603      -0.048       0.028\n",
       "HVP4           0.0080      0.017      0.478      0.633      -0.025       0.041\n",
       "HVP5          -0.0093      0.014     -0.649      0.516      -0.037       0.019\n",
       "HVP6          -0.0092      0.034     -0.270      0.787      -0.076       0.058\n",
       "HUR1           0.1223      0.049      2.480      0.013       0.026       0.219\n",
       "HUR2          -0.0533      0.036     -1.489      0.136      -0.124       0.017\n",
       "RHP1           0.0125      0.075      0.167      0.867      -0.135       0.160\n",
       "RHP2           0.1740      0.137      1.268      0.205      -0.095       0.443\n",
       "RHP3          -0.0061      0.346     -0.018      0.986      -0.684       0.672\n",
       "RHP4           0.2188      0.396      0.552      0.581      -0.559       0.996\n",
       "HUPA1          0.1252      0.353      0.355      0.723      -0.567       0.818\n",
       "HUPA2          0.0826      0.353      0.234      0.815      -0.609       0.774\n",
       "HUPA3          0.1779      0.119      1.490      0.136      -0.056       0.412\n",
       "HUPA4         -0.3910      0.192     -2.035      0.042      -0.768      -0.014\n",
       "HUPA5         -0.4491      0.201     -2.230      0.026      -0.844      -0.054\n",
       "HUPA6         -0.4817      0.191     -2.517      0.012      -0.857      -0.106\n",
       "HUPA7         -0.4064      0.201     -2.020      0.043      -0.801      -0.012\n",
       "RP1            0.0149      0.016      0.946      0.344      -0.016       0.046\n",
       "RP2           -0.0172      0.017     -1.007      0.314      -0.051       0.016\n",
       "RP3            0.0381      0.018      2.128      0.033       0.003       0.073\n",
       "RP4           -0.0126      0.017     -0.728      0.467      -0.046       0.021\n",
       "MSA         2.972e-05    6.4e-05      0.464      0.642   -9.58e-05       0.000\n",
       "ADI            0.0019      0.001      1.389      0.165      -0.001       0.004\n",
       "DMA           -0.0080      0.002     -3.658      0.000      -0.012      -0.004\n",
       "IC1            0.0119      0.006      1.955      0.051   -3.48e-05       0.024\n",
       "IC2           -0.0059      0.005     -1.120      0.263      -0.016       0.004\n",
       "IC3            0.0205      0.025      0.827      0.408      -0.028       0.069\n",
       "IC4           -0.0109      0.019     -0.561      0.575      -0.049       0.027\n",
       "IC5            0.0001   5.34e-05      1.906      0.057    -2.9e-06       0.000\n",
       "IC6            0.3024      0.203      1.493      0.136      -0.095       0.700\n",
       "IC7            0.2321      0.189      1.226      0.220      -0.139       0.603\n",
       "IC8            0.2815      0.177      1.593      0.111      -0.065       0.628\n",
       "IC9            0.1738      0.169      1.027      0.304      -0.158       0.505\n",
       "IC10           0.1818      0.168      1.083      0.279      -0.147       0.511\n",
       "IC11          -0.0299      0.191     -0.156      0.876      -0.405       0.345\n",
       "IC12           0.2748      0.241      1.138      0.255      -0.198       0.748\n",
       "IC13           0.0313      0.295      0.106      0.915      -0.548       0.610\n",
       "IC14          -0.4167      0.291     -1.432      0.152      -0.987       0.154\n",
       "IC15          -0.0484      0.113     -0.429      0.668      -0.269       0.172\n",
       "IC16          -0.0051      0.109     -0.047      0.962      -0.219       0.208\n",
       "IC17          -0.0197      0.107     -0.185      0.853      -0.229       0.190\n",
       "IC18           0.0677      0.114      0.595      0.552      -0.155       0.291\n",
       "IC19           0.0388      0.129      0.301      0.763      -0.214       0.291\n",
       "IC20           0.1758      0.160      1.100      0.271      -0.138       0.489\n",
       "IC21           0.0039      0.217      0.018      0.986      -0.421       0.429\n",
       "IC22           0.0824      0.266      0.310      0.756      -0.438       0.603\n",
       "IC23           0.3218      0.268      1.202      0.229      -0.203       0.847\n",
       "HHAS1          0.0377      0.034      1.107      0.269      -0.029       0.104\n",
       "HHAS2         -0.0151      0.042     -0.364      0.716      -0.097       0.066\n",
       "HHAS3         -0.0194      0.020     -0.955      0.339      -0.059       0.020\n",
       "HHAS4          0.0223      0.041      0.546      0.585      -0.058       0.103\n",
       "MC1           -0.8061      0.498     -1.619      0.105      -1.782       0.170\n",
       "MC2           -0.8045      0.497     -1.619      0.106      -1.779       0.170\n",
       "MC3           -0.0246      0.028     -0.869      0.385      -0.080       0.031\n",
       "TPE1          -0.1099      0.170     -0.646      0.519      -0.444       0.224\n",
       "TPE2          -0.0802      0.171     -0.468      0.640      -0.416       0.255\n",
       "TPE3           0.0747      0.741      0.101      0.920      -1.378       1.527\n",
       "TPE4          -0.1334      0.734     -0.182      0.856      -1.572       1.305\n",
       "TPE5          -0.1329      0.733     -0.181      0.856      -1.569       1.303\n",
       "TPE6          -0.1198      0.755     -0.159      0.874      -1.599       1.359\n",
       "TPE7          -0.3094      0.267     -1.159      0.246      -0.832       0.214\n",
       "TPE8          -0.0806      0.173     -0.465      0.642      -0.420       0.259\n",
       "TPE9          -0.1572      0.178     -0.881      0.378      -0.507       0.193\n",
       "PEC1           0.0065      0.024      0.274      0.784      -0.040       0.053\n",
       "PEC2           0.0025      0.008      0.301      0.763      -0.014       0.019\n",
       "TPE10         -0.0044      0.068     -0.065      0.948      -0.138       0.129\n",
       "TPE11          0.1027      0.096      1.075      0.282      -0.085       0.290\n",
       "TPE12         -0.1133      0.066     -1.726      0.084      -0.242       0.015\n",
       "TPE13         -0.0202      0.020     -1.018      0.309      -0.059       0.019\n",
       "LFC1          -0.0624      0.190     -0.329      0.742      -0.434       0.309\n",
       "LFC2           0.0108      0.102      0.106      0.915      -0.189       0.210\n",
       "LFC3           0.0623      0.115      0.542      0.588      -0.163       0.287\n",
       "LFC4           0.0473      0.047      1.002      0.316      -0.045       0.140\n",
       "LFC5          -0.0391      0.063     -0.618      0.537      -0.163       0.085\n",
       "LFC6          -0.0187      0.017     -1.121      0.262      -0.051       0.014\n",
       "LFC7          -0.0004      0.015     -0.025      0.980      -0.029       0.028\n",
       "LFC8          -0.0057      0.005     -1.062      0.288      -0.016       0.005\n",
       "LFC9           0.0033      0.003      1.018      0.309      -0.003       0.010\n",
       "LFC10         -0.0108      0.023     -0.464      0.643      -0.057       0.035\n",
       "OCC1           0.1010      0.128      0.790      0.430      -0.150       0.352\n",
       "OCC2           0.1008      0.128      0.785      0.432      -0.151       0.353\n",
       "OCC3           0.0958      0.134      0.716      0.474      -0.167       0.358\n",
       "OCC4           0.1066      0.130      0.822      0.411      -0.148       0.361\n",
       "OCC5           0.0617      0.129      0.480      0.631      -0.190       0.314\n",
       "OCC6           0.0315      0.184      0.171      0.864      -0.329       0.392\n",
       "OCC7          -0.0362      0.145     -0.249      0.803      -0.321       0.248\n",
       "OCC8           0.0542      0.129      0.420      0.674      -0.199       0.307\n",
       "OCC9           0.2188      0.153      1.428      0.153      -0.082       0.519\n",
       "OCC10          0.1127      0.129      0.873      0.383      -0.140       0.366\n",
       "OCC11          0.1345      0.131      1.027      0.304      -0.122       0.391\n",
       "OCC12          0.0990      0.136      0.730      0.466      -0.167       0.365\n",
       "OCC13          0.0546      0.136      0.401      0.688      -0.212       0.321\n",
       "EIC1           0.0333      0.138      0.241      0.810      -0.238       0.305\n",
       "EIC2           0.0335      0.127      0.265      0.791      -0.215       0.282\n",
       "EIC3           0.0684      0.119      0.573      0.567      -0.166       0.302\n",
       "EIC4           0.1021      0.115      0.892      0.373      -0.122       0.327\n",
       "EIC5           0.1699      0.122      1.394      0.163      -0.069       0.409\n",
       "EIC6           0.0549      0.126      0.435      0.663      -0.192       0.302\n",
       "EIC7           0.1321      0.120      1.099      0.272      -0.104       0.368\n",
       "EIC8           0.1402      0.115      1.217      0.223      -0.086       0.366\n",
       "EIC9           0.1507      0.118      1.276      0.202      -0.081       0.382\n",
       "EIC10          0.0784      0.121      0.650      0.516      -0.158       0.315\n",
       "EIC11          0.1252      0.123      1.016      0.310      -0.116       0.367\n",
       "EIC12          0.0500      0.126      0.397      0.691      -0.197       0.297\n",
       "EIC13          0.1334      0.116      1.152      0.249      -0.094       0.361\n",
       "EIC14          0.1539      0.120      1.287      0.198      -0.080       0.388\n",
       "EIC15          0.0890      0.118      0.752      0.452      -0.143       0.321\n",
       "EIC16          0.1168      0.124      0.939      0.348      -0.127       0.361\n",
       "OEDC1         -0.1385      0.170     -0.816      0.415      -0.471       0.194\n",
       "OEDC2         -0.0244      0.169     -0.144      0.885      -0.356       0.307\n",
       "OEDC3         -0.1898      0.180     -1.057      0.291      -0.542       0.162\n",
       "OEDC4          0.0132      0.160      0.082      0.935      -0.301       0.328\n",
       "OEDC5         -0.0304      0.160     -0.191      0.849      -0.343       0.282\n",
       "OEDC6         -0.0169      0.161     -0.105      0.917      -0.332       0.299\n",
       "OEDC7          0.2027      0.209      0.970      0.332      -0.207       0.613\n",
       "EC1            0.0158      0.031      0.507      0.612      -0.045       0.077\n",
       "EC2           -0.0449      0.176     -0.256      0.798      -0.390       0.300\n",
       "EC3           -0.0345      0.174     -0.198      0.843      -0.376       0.307\n",
       "EC4           -0.0584      0.173     -0.338      0.735      -0.397       0.280\n",
       "EC5           -0.0177      0.173     -0.102      0.919      -0.358       0.322\n",
       "EC6           -0.0955      0.175     -0.547      0.585      -0.438       0.247\n",
       "EC7           -0.1233      0.174     -0.710      0.478      -0.464       0.217\n",
       "EC8           -0.0037      0.176     -0.021      0.983      -0.349       0.341\n",
       "SEC1           0.0964      0.214      0.451      0.652      -0.323       0.516\n",
       "SEC2          -0.0073      0.211     -0.035      0.972      -0.421       0.406\n",
       "SEC3          -0.0060      0.229     -0.026      0.979      -0.455       0.443\n",
       "SEC4           0.0465      0.213      0.218      0.827      -0.371       0.464\n",
       "SEC5          -0.0335      0.213     -0.157      0.875      -0.452       0.385\n",
       "AFC1           0.3920      0.363      1.081      0.280      -0.319       1.103\n",
       "AFC2          -0.0644      0.198     -0.325      0.745      -0.453       0.324\n",
       "AFC3          -0.4512      0.328     -1.378      0.168      -1.093       0.191\n",
       "AFC4          -0.1247      0.162     -0.772      0.440      -0.441       0.192\n",
       "AFC5           0.1167      0.082      1.430      0.153      -0.043       0.277\n",
       "AFC6           0.1072      0.124      0.862      0.389      -0.137       0.351\n",
       "VC1           -0.0100      0.021     -0.485      0.628      -0.050       0.030\n",
       "VC2           -0.0108      0.018     -0.613      0.540      -0.045       0.024\n",
       "VC3            0.0344      0.022      1.589      0.112      -0.008       0.077\n",
       "VC4           -0.0083      0.022     -0.384      0.701      -0.051       0.034\n",
       "ANC1          -0.0349      0.055     -0.639      0.523      -0.142       0.072\n",
       "ANC2          -0.0430      0.040     -1.086      0.278      -0.121       0.035\n",
       "ANC3          -0.0726      0.107     -0.677      0.498      -0.283       0.137\n",
       "ANC4          -0.0317      0.024     -1.310      0.190      -0.079       0.016\n",
       "ANC5          -0.0566      0.190     -0.297      0.766      -0.430       0.317\n",
       "ANC6          -0.0039      0.268     -0.015      0.988      -0.529       0.522\n",
       "ANC7          -0.0163      0.050     -0.326      0.744      -0.114       0.082\n",
       "ANC8          -0.0006      0.067     -0.009      0.993      -0.132       0.131\n",
       "ANC9           0.0091      0.067      0.135      0.892      -0.123       0.141\n",
       "ANC10          0.0451      0.063      0.711      0.477      -0.079       0.170\n",
       "ANC11          0.2329      0.170      1.373      0.170      -0.100       0.565\n",
       "ANC12         -0.0350      0.124     -0.283      0.777      -0.277       0.207\n",
       "ANC13         -0.2189      0.150     -1.460      0.144      -0.513       0.075\n",
       "ANC14         -0.1617      0.122     -1.328      0.184      -0.400       0.077\n",
       "ANC15         -0.6295      0.365     -1.725      0.085      -1.345       0.086\n",
       "POBC1         -0.0557      0.049     -1.143      0.253      -0.151       0.040\n",
       "POBC2         -0.0069      0.016     -0.434      0.664      -0.038       0.024\n",
       "LSC1          -0.0660      0.244     -0.270      0.787      -0.545       0.413\n",
       "LSC2          -0.0936      0.245     -0.382      0.702      -0.574       0.387\n",
       "LSC3           0.0236      0.251      0.094      0.925      -0.468       0.515\n",
       "LSC4           0.0423      0.244      0.173      0.863      -0.437       0.522\n",
       "VOC1           0.0545      0.038      1.416      0.157      -0.021       0.130\n",
       "VOC2           0.0351      0.026      1.371      0.170      -0.015       0.085\n",
       "VOC3          -0.0145      0.026     -0.561      0.575      -0.065       0.036\n",
       "HC1           -0.0212      0.071     -0.301      0.763      -0.160       0.117\n",
       "HC2            0.0020      0.033      0.060      0.952      -0.063       0.067\n",
       "HC3           -0.0133      0.032     -0.414      0.679      -0.076       0.050\n",
       "HC4            0.0164      0.022      0.750      0.454      -0.026       0.059\n",
       "HC5           -0.0126      0.017     -0.757      0.449      -0.045       0.020\n",
       "HC6            0.0181      0.013      1.390      0.164      -0.007       0.044\n",
       "HC7            0.0045      0.027      0.168      0.867      -0.048       0.057\n",
       "HC8            0.0098      0.027      0.367      0.713      -0.042       0.062\n",
       "HC9           -0.0289      0.041     -0.710      0.477      -0.108       0.051\n",
       "HC10          -0.0058      0.055     -0.107      0.915      -0.113       0.101\n",
       "HC11           0.0410      0.053      0.778      0.437      -0.062       0.144\n",
       "HC12           0.0293      0.055      0.532      0.595      -0.079       0.137\n",
       "HC13           0.0285      0.053      0.537      0.591      -0.076       0.133\n",
       "HC14           0.0589      0.055      1.062      0.288      -0.050       0.167\n",
       "HC15           0.2728      0.234      1.168      0.243      -0.185       0.731\n",
       "HC16           0.0155      0.056      0.278      0.781      -0.094       0.125\n",
       "HC17           0.0829      0.039      2.122      0.034       0.006       0.159\n",
       "HC18           0.0657      0.038      1.711      0.087      -0.010       0.141\n",
       "HC19          -0.0167      0.008     -2.013      0.044      -0.033      -0.000\n",
       "HC20          -0.2002      0.088     -2.265      0.024      -0.373      -0.027\n",
       "HC21          -0.0014      0.044     -0.033      0.974      -0.088       0.085\n",
       "MHUC1         -0.0936      0.069     -1.352      0.176      -0.229       0.042\n",
       "MHUC2         -0.3159      0.202     -1.564      0.118      -0.712       0.080\n",
       "AC1           -0.0236      0.070     -0.338      0.735      -0.160       0.113\n",
       "AC2           -0.1578      0.064     -2.450      0.014      -0.284      -0.032\n",
       "CARDPROM      -0.0498      0.087     -0.576      0.564      -0.219       0.120\n",
       "NUMPROM        0.0041      0.032      0.129      0.898      -0.059       0.067\n",
       "CARDPM12       0.4899      0.187      2.623      0.009       0.124       0.856\n",
       "NUMPRM12      -0.0481      0.062     -0.779      0.436      -0.169       0.073\n",
       "RAMNTALL       0.0246      0.003      9.774      0.000       0.020       0.030\n",
       "NGIFTALL      -0.2631      0.046     -5.751      0.000      -0.353      -0.173\n",
       "CARDGIFT       0.0359      0.076      0.473      0.636      -0.113       0.185\n",
       "MINRAMNT      -0.4481      0.043    -10.537      0.000      -0.531      -0.365\n",
       "MINRDATE       0.0014      0.001      1.902      0.057   -4.41e-05       0.003\n",
       "MAXRAMNT      -0.0153      0.009     -1.665      0.096      -0.033       0.003\n",
       "MAXRDATE   -5.851e-05      0.001     -0.069      0.945      -0.002       0.002\n",
       "LASTGIFT       0.5332      0.021     25.481      0.000       0.492       0.574\n",
       "LASTDATE      -0.0013      0.003     -0.436      0.663      -0.007       0.005\n",
       "FISTDATE       0.0003      0.002      0.133      0.895      -0.004       0.005\n",
       "TIMELAG        0.0044      0.001      6.368      0.000       0.003       0.006\n",
       "AVGGIFT        0.1755      0.052      3.362      0.001       0.073       0.278\n",
       "CONTROLN     8.22e-06   3.43e-06      2.397      0.017     1.5e-06    1.49e-05\n",
       "HPHONE_D       0.2045      0.299      0.684      0.494      -0.382       0.791\n",
       "RFA_2F        -1.5823      0.148    -10.697      0.000      -1.872      -1.292\n",
       "CLUSTER2       0.0166      0.018      0.909      0.363      -0.019       0.052\n",
       "==============================================================================\n",
       "Omnibus:                     5128.625   Durbin-Watson:                   1.967\n",
       "Prob(Omnibus):                  0.000   Jarque-Bera (JB):          1519324.399\n",
       "Skew:                           4.739   Prob(JB):                         0.00\n",
       "Kurtosis:                      89.252   Cond. No.                     2.94e+07\n",
       "==============================================================================\n",
       "\n",
       "Warnings:\n",
       "[1] Standard Errors assume that the covariance matrix of the errors is correctly specified.\n",
       "[2] The condition number is large, 2.94e+07. This might indicate that there are\n",
       "strong multicollinearity or other numerical problems.\n",
       "\"\"\""
      ]
     },
     "execution_count": 325,
     "metadata": {},
     "output_type": "execute_result"
    }
   ],
   "source": [
    "X_added_constant = sm.add_constant(X) # enriching X adding constant. \n",
    "\n",
    "est = sm.OLS(y, X.astype(float)).fit()\n",
    "\n",
    "X_added_constant.isnull().sum().max()\n",
    "\n",
    "model = sm.OLS(y,X_added_constant.astype(float)).fit()\n",
    "\n",
    "model.summary()"
   ]
  },
  {
   "cell_type": "code",
   "execution_count": 321,
   "metadata": {},
   "outputs": [
    {
     "data": {
      "text/plain": [
       "0    0.949241\n",
       "1    0.050759\n",
       "Name: TARGET_B, dtype: float64"
      ]
     },
     "execution_count": 321,
     "metadata": {},
     "output_type": "execute_result"
    }
   ],
   "source": [
    "# in cases like this its not so important to have high accuracy in our model but more\n",
    "# like having a high precission.\n",
    "\n",
    "Y['TARGET_B'].value_counts(1)"
   ]
  },
  {
   "cell_type": "code",
   "execution_count": null,
   "metadata": {},
   "outputs": [],
   "source": [
    "# precission = number of people who are actually donors / all the people we say are donnors\n",
    "# recall = number of donors we correctly predict are donors / by the total number of real donors\n",
    "\n",
    "#imbalane situation will tend to favorate the majority of the situation"
   ]
  },
  {
   "cell_type": "code",
   "execution_count": 323,
   "metadata": {},
   "outputs": [
    {
     "data": {
      "text/html": [
       "<div>\n",
       "<style scoped>\n",
       "    .dataframe tbody tr th:only-of-type {\n",
       "        vertical-align: middle;\n",
       "    }\n",
       "\n",
       "    .dataframe tbody tr th {\n",
       "        vertical-align: top;\n",
       "    }\n",
       "\n",
       "    .dataframe thead th {\n",
       "        text-align: right;\n",
       "    }\n",
       "</style>\n",
       "<table border=\"1\" class=\"dataframe\">\n",
       "  <thead>\n",
       "    <tr style=\"text-align: right;\">\n",
       "      <th></th>\n",
       "      <th>ODATEDW</th>\n",
       "      <th>TCODE</th>\n",
       "      <th>DOB</th>\n",
       "      <th>AGE</th>\n",
       "      <th>INCOME</th>\n",
       "      <th>WEALTH1</th>\n",
       "      <th>HIT</th>\n",
       "      <th>MALEMILI</th>\n",
       "      <th>MALEVET</th>\n",
       "      <th>VIETVETS</th>\n",
       "      <th>...</th>\n",
       "      <th>LASTGIFT</th>\n",
       "      <th>LASTDATE</th>\n",
       "      <th>FISTDATE</th>\n",
       "      <th>TIMELAG</th>\n",
       "      <th>AVGGIFT</th>\n",
       "      <th>CONTROLN</th>\n",
       "      <th>HPHONE_D</th>\n",
       "      <th>RFA_2F</th>\n",
       "      <th>CLUSTER2</th>\n",
       "      <th>TARGET_B</th>\n",
       "    </tr>\n",
       "  </thead>\n",
       "  <tbody>\n",
       "    <tr>\n",
       "      <td>0</td>\n",
       "      <td>8901</td>\n",
       "      <td>0</td>\n",
       "      <td>3712</td>\n",
       "      <td>60.000000</td>\n",
       "      <td>5.0</td>\n",
       "      <td>9.0</td>\n",
       "      <td>0</td>\n",
       "      <td>0</td>\n",
       "      <td>39</td>\n",
       "      <td>34</td>\n",
       "      <td>...</td>\n",
       "      <td>10.0</td>\n",
       "      <td>9512</td>\n",
       "      <td>8911</td>\n",
       "      <td>4</td>\n",
       "      <td>7.741935</td>\n",
       "      <td>95515</td>\n",
       "      <td>0</td>\n",
       "      <td>4</td>\n",
       "      <td>39.0</td>\n",
       "      <td>0</td>\n",
       "    </tr>\n",
       "    <tr>\n",
       "      <td>1</td>\n",
       "      <td>9401</td>\n",
       "      <td>1</td>\n",
       "      <td>5202</td>\n",
       "      <td>46.000000</td>\n",
       "      <td>6</td>\n",
       "      <td>9</td>\n",
       "      <td>16</td>\n",
       "      <td>0</td>\n",
       "      <td>15</td>\n",
       "      <td>55</td>\n",
       "      <td>...</td>\n",
       "      <td>25.0</td>\n",
       "      <td>9512</td>\n",
       "      <td>9310</td>\n",
       "      <td>18</td>\n",
       "      <td>15.666667</td>\n",
       "      <td>148535</td>\n",
       "      <td>0</td>\n",
       "      <td>2</td>\n",
       "      <td>1.0</td>\n",
       "      <td>0</td>\n",
       "    </tr>\n",
       "    <tr>\n",
       "      <td>2</td>\n",
       "      <td>9001</td>\n",
       "      <td>1</td>\n",
       "      <td>0</td>\n",
       "      <td>61.611649</td>\n",
       "      <td>3</td>\n",
       "      <td>1</td>\n",
       "      <td>2</td>\n",
       "      <td>0</td>\n",
       "      <td>20</td>\n",
       "      <td>29</td>\n",
       "      <td>...</td>\n",
       "      <td>5.0</td>\n",
       "      <td>9512</td>\n",
       "      <td>9001</td>\n",
       "      <td>12</td>\n",
       "      <td>7.481481</td>\n",
       "      <td>15078</td>\n",
       "      <td>1</td>\n",
       "      <td>4</td>\n",
       "      <td>60.0</td>\n",
       "      <td>0</td>\n",
       "    </tr>\n",
       "    <tr>\n",
       "      <td>3</td>\n",
       "      <td>8701</td>\n",
       "      <td>0</td>\n",
       "      <td>2801</td>\n",
       "      <td>70.000000</td>\n",
       "      <td>1</td>\n",
       "      <td>4</td>\n",
       "      <td>2</td>\n",
       "      <td>0</td>\n",
       "      <td>23</td>\n",
       "      <td>14</td>\n",
       "      <td>...</td>\n",
       "      <td>10.0</td>\n",
       "      <td>9512</td>\n",
       "      <td>8702</td>\n",
       "      <td>9</td>\n",
       "      <td>6.812500</td>\n",
       "      <td>172556</td>\n",
       "      <td>1</td>\n",
       "      <td>4</td>\n",
       "      <td>41.0</td>\n",
       "      <td>0</td>\n",
       "    </tr>\n",
       "    <tr>\n",
       "      <td>4</td>\n",
       "      <td>8601</td>\n",
       "      <td>0</td>\n",
       "      <td>2001</td>\n",
       "      <td>78.000000</td>\n",
       "      <td>3</td>\n",
       "      <td>2</td>\n",
       "      <td>60</td>\n",
       "      <td>1</td>\n",
       "      <td>28</td>\n",
       "      <td>9</td>\n",
       "      <td>...</td>\n",
       "      <td>15.0</td>\n",
       "      <td>9601</td>\n",
       "      <td>7903</td>\n",
       "      <td>14</td>\n",
       "      <td>6.864865</td>\n",
       "      <td>7112</td>\n",
       "      <td>1</td>\n",
       "      <td>2</td>\n",
       "      <td>26.0</td>\n",
       "      <td>0</td>\n",
       "    </tr>\n",
       "  </tbody>\n",
       "</table>\n",
       "<p>5 rows × 322 columns</p>\n",
       "</div>"
      ],
      "text/plain": [
       "   ODATEDW  TCODE   DOB        AGE INCOME WEALTH1  HIT  MALEMILI  MALEVET  \\\n",
       "0     8901      0  3712  60.000000    5.0     9.0    0         0       39   \n",
       "1     9401      1  5202  46.000000      6       9   16         0       15   \n",
       "2     9001      1     0  61.611649      3       1    2         0       20   \n",
       "3     8701      0  2801  70.000000      1       4    2         0       23   \n",
       "4     8601      0  2001  78.000000      3       2   60         1       28   \n",
       "\n",
       "   VIETVETS  ...  LASTGIFT  LASTDATE  FISTDATE  TIMELAG    AVGGIFT  CONTROLN  \\\n",
       "0        34  ...      10.0      9512      8911        4   7.741935     95515   \n",
       "1        55  ...      25.0      9512      9310       18  15.666667    148535   \n",
       "2        29  ...       5.0      9512      9001       12   7.481481     15078   \n",
       "3        14  ...      10.0      9512      8702        9   6.812500    172556   \n",
       "4         9  ...      15.0      9601      7903       14   6.864865      7112   \n",
       "\n",
       "   HPHONE_D  RFA_2F  CLUSTER2  TARGET_B  \n",
       "0         0       4      39.0         0  \n",
       "1         0       2       1.0         0  \n",
       "2         1       4      60.0         0  \n",
       "3         1       4      41.0         0  \n",
       "4         1       2      26.0         0  \n",
       "\n",
       "[5 rows x 322 columns]"
      ]
     },
     "execution_count": 323,
     "metadata": {},
     "output_type": "execute_result"
    }
   ],
   "source": [
    "data_B = all_data.drop(['TARGET_D'], axis=1)\n",
    "data_B.head()"
   ]
  },
  {
   "cell_type": "code",
   "execution_count": 324,
   "metadata": {},
   "outputs": [],
   "source": [
    "category_0 = data_B[data_B['TARGET_B'] == 0]\n",
    "category_1 = data_B[data_B['TARGET_B'] == 1]"
   ]
  },
  {
   "cell_type": "code",
   "execution_count": 332,
   "metadata": {},
   "outputs": [],
   "source": [
    "all_donors= all_data[all_data['TARGET_B']== 1].drop(columns= ['TARGET_B', 'TARGET_D'])\n",
    "target= all_data['TARGET_D']"
   ]
  },
  {
   "cell_type": "code",
   "execution_count": 334,
   "metadata": {},
   "outputs": [
    {
     "data": {
      "text/plain": [
       "(4843, 321)"
      ]
     },
     "execution_count": 334,
     "metadata": {},
     "output_type": "execute_result"
    },
    {
     "data": {
      "text/plain": [
       "(4843,)"
      ]
     },
     "execution_count": 334,
     "metadata": {},
     "output_type": "execute_result"
    }
   ],
   "source": [
    "all_donors.shape\n",
    "target.shape"
   ]
  },
  {
   "cell_type": "markdown",
   "metadata": {},
   "source": [
    "### Decision Tree"
   ]
  },
  {
   "cell_type": "code",
   "execution_count": 335,
   "metadata": {},
   "outputs": [],
   "source": [
    "# trainsplit\n",
    "X_train, X_test, y_train, y_test = train_test_split(all_donors, target, random_state=0)"
   ]
  },
  {
   "cell_type": "code",
   "execution_count": 342,
   "metadata": {},
   "outputs": [],
   "source": [
    "regr = DecisionTreeRegressor(max_depth=5)\n",
    "model = regr.fit(X_train, y_train)"
   ]
  },
  {
   "cell_type": "code",
   "execution_count": 343,
   "metadata": {},
   "outputs": [
    {
     "name": "stdout",
     "output_type": "stream",
     "text": [
      "test data accuracy was:  0.18052601960766332\n",
      "train data accuracy was:  0.7428187375447992\n"
     ]
    }
   ],
   "source": [
    "print(\"test data accuracy was: \",regr.score(X_test, y_test))\n",
    "print(\"train data accuracy was: \",regr.score(X_train, y_train))"
   ]
  },
  {
   "cell_type": "code",
   "execution_count": 348,
   "metadata": {},
   "outputs": [
    {
     "name": "stdout",
     "output_type": "stream",
     "text": [
      "|--- LASTGIFT <= 20.25\n",
      "|   |--- LASTGIFT <= 13.50\n",
      "|   |   |--- AVGGIFT <= 6.73\n",
      "|   |   |   |--- LASTGIFT <= 7.50\n",
      "|   |   |   |   |--- AVGGIFT <= 5.10\n",
      "|   |   |   |   |   |--- value: [4.86]\n",
      "|   |   |   |   |--- AVGGIFT >  5.10\n",
      "|   |   |   |   |   |--- value: [6.93]\n",
      "|   |   |   |--- LASTGIFT >  7.50\n",
      "|   |   |   |   |--- POP901 <= 52030.00\n",
      "|   |   |   |   |   |--- value: [9.00]\n",
      "|   |   |   |   |--- POP901 >  52030.00\n",
      "|   |   |   |   |   |--- value: [25.00]\n",
      "|   |   |--- AVGGIFT >  6.73\n",
      "|   |   |   |--- AVGGIFT <= 10.45\n",
      "|   |   |   |   |--- LASTGIFT <= 9.50\n",
      "|   |   |   |   |   |--- value: [8.81]\n",
      "|   |   |   |   |--- LASTGIFT >  9.50\n",
      "|   |   |   |   |   |--- value: [11.19]\n",
      "|   |   |   |--- AVGGIFT >  10.45\n",
      "|   |   |   |   |--- ADI <= 6.50\n",
      "|   |   |   |   |   |--- value: [31.25]\n",
      "|   |   |   |   |--- ADI >  6.50\n",
      "|   |   |   |   |   |--- value: [13.92]\n",
      "|   |--- LASTGIFT >  13.50\n",
      "|   |   |--- LASTGIFT <= 15.50\n",
      "|   |   |   |--- AVGGIFT <= 12.65\n",
      "|   |   |   |   |--- AGE907 <= 45.50\n",
      "|   |   |   |   |   |--- value: [14.82]\n",
      "|   |   |   |   |--- AGE907 >  45.50\n",
      "|   |   |   |   |   |--- value: [40.00]\n",
      "|   |   |   |--- AVGGIFT >  12.65\n",
      "|   |   |   |   |--- TIMELAG <= 1.50\n",
      "|   |   |   |   |   |--- value: [33.75]\n",
      "|   |   |   |   |--- TIMELAG >  1.50\n",
      "|   |   |   |   |   |--- value: [16.86]\n",
      "|   |   |--- LASTGIFT >  15.50\n",
      "|   |   |   |--- AVGGIFT <= 14.85\n",
      "|   |   |   |   |--- ETH10 <= 4.50\n",
      "|   |   |   |   |   |--- value: [17.71]\n",
      "|   |   |   |   |--- ETH10 >  4.50\n",
      "|   |   |   |   |   |--- value: [34.00]\n",
      "|   |   |   |--- AVGGIFT >  14.85\n",
      "|   |   |   |   |--- OCC1 <= 26.50\n",
      "|   |   |   |   |   |--- value: [19.83]\n",
      "|   |   |   |   |--- OCC1 >  26.50\n",
      "|   |   |   |   |   |--- value: [23.91]\n",
      "|--- LASTGIFT >  20.25\n",
      "|   |--- MAXRAMNT <= 95.00\n",
      "|   |   |--- LASTGIFT <= 33.50\n",
      "|   |   |   |--- CONTROLN <= 191663.00\n",
      "|   |   |   |   |--- AVGGIFT <= 26.22\n",
      "|   |   |   |   |   |--- value: [24.72]\n",
      "|   |   |   |   |--- AVGGIFT >  26.22\n",
      "|   |   |   |   |   |--- value: [35.95]\n",
      "|   |   |   |--- CONTROLN >  191663.00\n",
      "|   |   |   |   |--- value: [150.00]\n",
      "|   |   |--- LASTGIFT >  33.50\n",
      "|   |   |   |--- MC3 <= 24.00\n",
      "|   |   |   |   |--- IC19 <= 22.50\n",
      "|   |   |   |   |   |--- value: [33.74]\n",
      "|   |   |   |   |--- IC19 >  22.50\n",
      "|   |   |   |   |   |--- value: [46.10]\n",
      "|   |   |   |--- MC3 >  24.00\n",
      "|   |   |   |   |--- OCC12 <= 2.50\n",
      "|   |   |   |   |   |--- value: [52.50]\n",
      "|   |   |   |   |--- OCC12 >  2.50\n",
      "|   |   |   |   |   |--- value: [87.50]\n",
      "|   |--- MAXRAMNT >  95.00\n",
      "|   |   |--- HC13 <= 85.00\n",
      "|   |   |   |--- HC21 <= 98.50\n",
      "|   |   |   |   |--- EIC3 <= 12.50\n",
      "|   |   |   |   |   |--- value: [100.25]\n",
      "|   |   |   |   |--- EIC3 >  12.50\n",
      "|   |   |   |   |   |--- value: [95.00]\n",
      "|   |   |   |--- HC21 >  98.50\n",
      "|   |   |   |   |--- EIC13 <= 10.00\n",
      "|   |   |   |   |   |--- value: [30.14]\n",
      "|   |   |   |   |--- EIC13 >  10.00\n",
      "|   |   |   |   |   |--- value: [92.00]\n",
      "|   |   |--- HC13 >  85.00\n",
      "|   |   |   |--- value: [200.00]\n",
      "\n"
     ]
    }
   ],
   "source": [
    "from sklearn.tree.export import export_text\n",
    "\n",
    "r = export_text(regr, feature_names=list(all_donors.columns))\n",
    "print(r)"
   ]
  },
  {
   "cell_type": "code",
   "execution_count": 349,
   "metadata": {},
   "outputs": [
    {
     "data": {
      "text/plain": [
       "DecisionTreeRegressor(criterion='mse', max_depth=1, max_features=None,\n",
       "                      max_leaf_nodes=None, min_impurity_decrease=0.0,\n",
       "                      min_impurity_split=None, min_samples_leaf=1,\n",
       "                      min_samples_split=2, min_weight_fraction_leaf=0.0,\n",
       "                      presort=False, random_state=None, splitter='best')"
      ]
     },
     "execution_count": 349,
     "metadata": {},
     "output_type": "execute_result"
    },
    {
     "data": {
      "text/plain": [
       "DecisionTreeRegressor(criterion='mse', max_depth=2, max_features=None,\n",
       "                      max_leaf_nodes=None, min_impurity_decrease=0.0,\n",
       "                      min_impurity_split=None, min_samples_leaf=1,\n",
       "                      min_samples_split=2, min_weight_fraction_leaf=0.0,\n",
       "                      presort=False, random_state=None, splitter='best')"
      ]
     },
     "execution_count": 349,
     "metadata": {},
     "output_type": "execute_result"
    },
    {
     "data": {
      "text/plain": [
       "DecisionTreeRegressor(criterion='mse', max_depth=3, max_features=None,\n",
       "                      max_leaf_nodes=None, min_impurity_decrease=0.0,\n",
       "                      min_impurity_split=None, min_samples_leaf=1,\n",
       "                      min_samples_split=2, min_weight_fraction_leaf=0.0,\n",
       "                      presort=False, random_state=None, splitter='best')"
      ]
     },
     "execution_count": 349,
     "metadata": {},
     "output_type": "execute_result"
    },
    {
     "data": {
      "text/plain": [
       "DecisionTreeRegressor(criterion='mse', max_depth=4, max_features=None,\n",
       "                      max_leaf_nodes=None, min_impurity_decrease=0.0,\n",
       "                      min_impurity_split=None, min_samples_leaf=1,\n",
       "                      min_samples_split=2, min_weight_fraction_leaf=0.0,\n",
       "                      presort=False, random_state=None, splitter='best')"
      ]
     },
     "execution_count": 349,
     "metadata": {},
     "output_type": "execute_result"
    },
    {
     "data": {
      "text/plain": [
       "DecisionTreeRegressor(criterion='mse', max_depth=5, max_features=None,\n",
       "                      max_leaf_nodes=None, min_impurity_decrease=0.0,\n",
       "                      min_impurity_split=None, min_samples_leaf=1,\n",
       "                      min_samples_split=2, min_weight_fraction_leaf=0.0,\n",
       "                      presort=False, random_state=None, splitter='best')"
      ]
     },
     "execution_count": 349,
     "metadata": {},
     "output_type": "execute_result"
    },
    {
     "data": {
      "text/plain": [
       "DecisionTreeRegressor(criterion='mse', max_depth=6, max_features=None,\n",
       "                      max_leaf_nodes=None, min_impurity_decrease=0.0,\n",
       "                      min_impurity_split=None, min_samples_leaf=1,\n",
       "                      min_samples_split=2, min_weight_fraction_leaf=0.0,\n",
       "                      presort=False, random_state=None, splitter='best')"
      ]
     },
     "execution_count": 349,
     "metadata": {},
     "output_type": "execute_result"
    },
    {
     "data": {
      "text/plain": [
       "DecisionTreeRegressor(criterion='mse', max_depth=7, max_features=None,\n",
       "                      max_leaf_nodes=None, min_impurity_decrease=0.0,\n",
       "                      min_impurity_split=None, min_samples_leaf=1,\n",
       "                      min_samples_split=2, min_weight_fraction_leaf=0.0,\n",
       "                      presort=False, random_state=None, splitter='best')"
      ]
     },
     "execution_count": 349,
     "metadata": {},
     "output_type": "execute_result"
    },
    {
     "data": {
      "text/plain": [
       "DecisionTreeRegressor(criterion='mse', max_depth=8, max_features=None,\n",
       "                      max_leaf_nodes=None, min_impurity_decrease=0.0,\n",
       "                      min_impurity_split=None, min_samples_leaf=1,\n",
       "                      min_samples_split=2, min_weight_fraction_leaf=0.0,\n",
       "                      presort=False, random_state=None, splitter='best')"
      ]
     },
     "execution_count": 349,
     "metadata": {},
     "output_type": "execute_result"
    },
    {
     "data": {
      "text/plain": [
       "DecisionTreeRegressor(criterion='mse', max_depth=9, max_features=None,\n",
       "                      max_leaf_nodes=None, min_impurity_decrease=0.0,\n",
       "                      min_impurity_split=None, min_samples_leaf=1,\n",
       "                      min_samples_split=2, min_weight_fraction_leaf=0.0,\n",
       "                      presort=False, random_state=None, splitter='best')"
      ]
     },
     "execution_count": 349,
     "metadata": {},
     "output_type": "execute_result"
    },
    {
     "data": {
      "text/plain": [
       "DecisionTreeRegressor(criterion='mse', max_depth=10, max_features=None,\n",
       "                      max_leaf_nodes=None, min_impurity_decrease=0.0,\n",
       "                      min_impurity_split=None, min_samples_leaf=1,\n",
       "                      min_samples_split=2, min_weight_fraction_leaf=0.0,\n",
       "                      presort=False, random_state=None, splitter='best')"
      ]
     },
     "execution_count": 349,
     "metadata": {},
     "output_type": "execute_result"
    },
    {
     "data": {
      "text/plain": [
       "DecisionTreeRegressor(criterion='mse', max_depth=11, max_features=None,\n",
       "                      max_leaf_nodes=None, min_impurity_decrease=0.0,\n",
       "                      min_impurity_split=None, min_samples_leaf=1,\n",
       "                      min_samples_split=2, min_weight_fraction_leaf=0.0,\n",
       "                      presort=False, random_state=None, splitter='best')"
      ]
     },
     "execution_count": 349,
     "metadata": {},
     "output_type": "execute_result"
    },
    {
     "data": {
      "text/plain": [
       "DecisionTreeRegressor(criterion='mse', max_depth=12, max_features=None,\n",
       "                      max_leaf_nodes=None, min_impurity_decrease=0.0,\n",
       "                      min_impurity_split=None, min_samples_leaf=1,\n",
       "                      min_samples_split=2, min_weight_fraction_leaf=0.0,\n",
       "                      presort=False, random_state=None, splitter='best')"
      ]
     },
     "execution_count": 349,
     "metadata": {},
     "output_type": "execute_result"
    },
    {
     "data": {
      "text/plain": [
       "DecisionTreeRegressor(criterion='mse', max_depth=13, max_features=None,\n",
       "                      max_leaf_nodes=None, min_impurity_decrease=0.0,\n",
       "                      min_impurity_split=None, min_samples_leaf=1,\n",
       "                      min_samples_split=2, min_weight_fraction_leaf=0.0,\n",
       "                      presort=False, random_state=None, splitter='best')"
      ]
     },
     "execution_count": 349,
     "metadata": {},
     "output_type": "execute_result"
    },
    {
     "data": {
      "text/plain": [
       "DecisionTreeRegressor(criterion='mse', max_depth=14, max_features=None,\n",
       "                      max_leaf_nodes=None, min_impurity_decrease=0.0,\n",
       "                      min_impurity_split=None, min_samples_leaf=1,\n",
       "                      min_samples_split=2, min_weight_fraction_leaf=0.0,\n",
       "                      presort=False, random_state=None, splitter='best')"
      ]
     },
     "execution_count": 349,
     "metadata": {},
     "output_type": "execute_result"
    },
    {
     "data": {
      "text/plain": [
       "DecisionTreeRegressor(criterion='mse', max_depth=15, max_features=None,\n",
       "                      max_leaf_nodes=None, min_impurity_decrease=0.0,\n",
       "                      min_impurity_split=None, min_samples_leaf=1,\n",
       "                      min_samples_split=2, min_weight_fraction_leaf=0.0,\n",
       "                      presort=False, random_state=None, splitter='best')"
      ]
     },
     "execution_count": 349,
     "metadata": {},
     "output_type": "execute_result"
    },
    {
     "data": {
      "text/plain": [
       "DecisionTreeRegressor(criterion='mse', max_depth=16, max_features=None,\n",
       "                      max_leaf_nodes=None, min_impurity_decrease=0.0,\n",
       "                      min_impurity_split=None, min_samples_leaf=1,\n",
       "                      min_samples_split=2, min_weight_fraction_leaf=0.0,\n",
       "                      presort=False, random_state=None, splitter='best')"
      ]
     },
     "execution_count": 349,
     "metadata": {},
     "output_type": "execute_result"
    },
    {
     "data": {
      "text/plain": [
       "DecisionTreeRegressor(criterion='mse', max_depth=17, max_features=None,\n",
       "                      max_leaf_nodes=None, min_impurity_decrease=0.0,\n",
       "                      min_impurity_split=None, min_samples_leaf=1,\n",
       "                      min_samples_split=2, min_weight_fraction_leaf=0.0,\n",
       "                      presort=False, random_state=None, splitter='best')"
      ]
     },
     "execution_count": 349,
     "metadata": {},
     "output_type": "execute_result"
    },
    {
     "data": {
      "text/plain": [
       "DecisionTreeRegressor(criterion='mse', max_depth=18, max_features=None,\n",
       "                      max_leaf_nodes=None, min_impurity_decrease=0.0,\n",
       "                      min_impurity_split=None, min_samples_leaf=1,\n",
       "                      min_samples_split=2, min_weight_fraction_leaf=0.0,\n",
       "                      presort=False, random_state=None, splitter='best')"
      ]
     },
     "execution_count": 349,
     "metadata": {},
     "output_type": "execute_result"
    },
    {
     "data": {
      "text/plain": [
       "DecisionTreeRegressor(criterion='mse', max_depth=19, max_features=None,\n",
       "                      max_leaf_nodes=None, min_impurity_decrease=0.0,\n",
       "                      min_impurity_split=None, min_samples_leaf=1,\n",
       "                      min_samples_split=2, min_weight_fraction_leaf=0.0,\n",
       "                      presort=False, random_state=None, splitter='best')"
      ]
     },
     "execution_count": 349,
     "metadata": {},
     "output_type": "execute_result"
    },
    {
     "data": {
      "text/plain": [
       "DecisionTreeRegressor(criterion='mse', max_depth=20, max_features=None,\n",
       "                      max_leaf_nodes=None, min_impurity_decrease=0.0,\n",
       "                      min_impurity_split=None, min_samples_leaf=1,\n",
       "                      min_samples_split=2, min_weight_fraction_leaf=0.0,\n",
       "                      presort=False, random_state=None, splitter='best')"
      ]
     },
     "execution_count": 349,
     "metadata": {},
     "output_type": "execute_result"
    },
    {
     "data": {
      "text/plain": [
       "DecisionTreeRegressor(criterion='mse', max_depth=21, max_features=None,\n",
       "                      max_leaf_nodes=None, min_impurity_decrease=0.0,\n",
       "                      min_impurity_split=None, min_samples_leaf=1,\n",
       "                      min_samples_split=2, min_weight_fraction_leaf=0.0,\n",
       "                      presort=False, random_state=None, splitter='best')"
      ]
     },
     "execution_count": 349,
     "metadata": {},
     "output_type": "execute_result"
    },
    {
     "data": {
      "text/plain": [
       "DecisionTreeRegressor(criterion='mse', max_depth=22, max_features=None,\n",
       "                      max_leaf_nodes=None, min_impurity_decrease=0.0,\n",
       "                      min_impurity_split=None, min_samples_leaf=1,\n",
       "                      min_samples_split=2, min_weight_fraction_leaf=0.0,\n",
       "                      presort=False, random_state=None, splitter='best')"
      ]
     },
     "execution_count": 349,
     "metadata": {},
     "output_type": "execute_result"
    },
    {
     "data": {
      "text/plain": [
       "DecisionTreeRegressor(criterion='mse', max_depth=23, max_features=None,\n",
       "                      max_leaf_nodes=None, min_impurity_decrease=0.0,\n",
       "                      min_impurity_split=None, min_samples_leaf=1,\n",
       "                      min_samples_split=2, min_weight_fraction_leaf=0.0,\n",
       "                      presort=False, random_state=None, splitter='best')"
      ]
     },
     "execution_count": 349,
     "metadata": {},
     "output_type": "execute_result"
    },
    {
     "data": {
      "text/plain": [
       "DecisionTreeRegressor(criterion='mse', max_depth=24, max_features=None,\n",
       "                      max_leaf_nodes=None, min_impurity_decrease=0.0,\n",
       "                      min_impurity_split=None, min_samples_leaf=1,\n",
       "                      min_samples_split=2, min_weight_fraction_leaf=0.0,\n",
       "                      presort=False, random_state=None, splitter='best')"
      ]
     },
     "execution_count": 349,
     "metadata": {},
     "output_type": "execute_result"
    },
    {
     "data": {
      "text/plain": [
       "DecisionTreeRegressor(criterion='mse', max_depth=25, max_features=None,\n",
       "                      max_leaf_nodes=None, min_impurity_decrease=0.0,\n",
       "                      min_impurity_split=None, min_samples_leaf=1,\n",
       "                      min_samples_split=2, min_weight_fraction_leaf=0.0,\n",
       "                      presort=False, random_state=None, splitter='best')"
      ]
     },
     "execution_count": 349,
     "metadata": {},
     "output_type": "execute_result"
    },
    {
     "data": {
      "text/plain": [
       "DecisionTreeRegressor(criterion='mse', max_depth=26, max_features=None,\n",
       "                      max_leaf_nodes=None, min_impurity_decrease=0.0,\n",
       "                      min_impurity_split=None, min_samples_leaf=1,\n",
       "                      min_samples_split=2, min_weight_fraction_leaf=0.0,\n",
       "                      presort=False, random_state=None, splitter='best')"
      ]
     },
     "execution_count": 349,
     "metadata": {},
     "output_type": "execute_result"
    },
    {
     "data": {
      "text/plain": [
       "DecisionTreeRegressor(criterion='mse', max_depth=27, max_features=None,\n",
       "                      max_leaf_nodes=None, min_impurity_decrease=0.0,\n",
       "                      min_impurity_split=None, min_samples_leaf=1,\n",
       "                      min_samples_split=2, min_weight_fraction_leaf=0.0,\n",
       "                      presort=False, random_state=None, splitter='best')"
      ]
     },
     "execution_count": 349,
     "metadata": {},
     "output_type": "execute_result"
    },
    {
     "data": {
      "text/plain": [
       "DecisionTreeRegressor(criterion='mse', max_depth=28, max_features=None,\n",
       "                      max_leaf_nodes=None, min_impurity_decrease=0.0,\n",
       "                      min_impurity_split=None, min_samples_leaf=1,\n",
       "                      min_samples_split=2, min_weight_fraction_leaf=0.0,\n",
       "                      presort=False, random_state=None, splitter='best')"
      ]
     },
     "execution_count": 349,
     "metadata": {},
     "output_type": "execute_result"
    },
    {
     "data": {
      "text/plain": [
       "DecisionTreeRegressor(criterion='mse', max_depth=29, max_features=None,\n",
       "                      max_leaf_nodes=None, min_impurity_decrease=0.0,\n",
       "                      min_impurity_split=None, min_samples_leaf=1,\n",
       "                      min_samples_split=2, min_weight_fraction_leaf=0.0,\n",
       "                      presort=False, random_state=None, splitter='best')"
      ]
     },
     "execution_count": 349,
     "metadata": {},
     "output_type": "execute_result"
    }
   ],
   "source": [
    "# why dont I repeat the process but choose the max_depth of the tree\n",
    "max_depth = range(1,30)\n",
    "test = []\n",
    "train = []\n",
    "\n",
    "for depth in max_depth:\n",
    "    model = DecisionTreeRegressor(max_depth= depth)\n",
    "    model.fit(X_train, y_train)\n",
    "    test.append(model.score(X_test,y_test))\n",
    "    train.append(model.score(X_train,y_train))"
   ]
  },
  {
   "cell_type": "code",
   "execution_count": 350,
   "metadata": {},
   "outputs": [
    {
     "data": {
      "text/plain": [
       "[<matplotlib.lines.Line2D at 0x7fd653c6b7d0>]"
      ]
     },
     "execution_count": 350,
     "metadata": {},
     "output_type": "execute_result"
    },
    {
     "data": {
      "text/plain": [
       "[<matplotlib.lines.Line2D at 0x7fd6323f0590>]"
      ]
     },
     "execution_count": 350,
     "metadata": {},
     "output_type": "execute_result"
    },
    {
     "data": {
      "text/plain": [
       "Text(0, 0.5, 'Accuracy')"
      ]
     },
     "execution_count": 350,
     "metadata": {},
     "output_type": "execute_result"
    },
    {
     "data": {
      "text/plain": [
       "Text(0.5, 0, 'n_depth')"
      ]
     },
     "execution_count": 350,
     "metadata": {},
     "output_type": "execute_result"
    },
    {
     "data": {
      "text/plain": [
       "<matplotlib.legend.Legend at 0x7fd5f14fb990>"
      ]
     },
     "execution_count": 350,
     "metadata": {},
     "output_type": "execute_result"
    },
    {
     "data": {
      "image/png": "[encoded data removed]",
      "text/plain": [
       "<Figure size 432x288 with 1 Axes>"
      ]
     },
     "metadata": {
      "needs_background": "light"
     },
     "output_type": "display_data"
    }
   ],
   "source": [
    "plt.plot( train, label=\"training accuracy\")\n",
    "plt.plot( test, label=\"test accuracy\")\n",
    "plt.ylabel(\"Accuracy\")\n",
    "plt.xlabel(\"n_depth\")\n",
    "plt.legend()"
   ]
  },
  {
   "cell_type": "code",
   "execution_count": 363,
   "metadata": {},
   "outputs": [
    {
     "ename": "AttributeError",
     "evalue": "'int' object has no attribute 'sample'",
     "output_type": "error",
     "traceback": [
      "\u001b[0;31m---------------------------------------------------------------------------\u001b[0m",
      "\u001b[0;31mAttributeError\u001b[0m                            Traceback (most recent call last)",
      "\u001b[0;32m<ipython-input-363-04bf1686c3d2>\u001b[0m in \u001b[0;36m<module>\u001b[0;34m\u001b[0m\n\u001b[0;32m----> 1\u001b[0;31m \u001b[0mall_donors\u001b[0m\u001b[0;34m.\u001b[0m\u001b[0mshape\u001b[0m\u001b[0;34m[\u001b[0m\u001b[0;36m1\u001b[0m\u001b[0;34m]\u001b[0m\u001b[0;34m.\u001b[0m\u001b[0msample\u001b[0m\u001b[0;34m(\u001b[0m\u001b[0;34m)\u001b[0m\u001b[0;34m\u001b[0m\u001b[0;34m\u001b[0m\u001b[0m\n\u001b[0m",
      "\u001b[0;31mAttributeError\u001b[0m: 'int' object has no attribute 'sample'"
     ]
    }
   ],
   "source": [
    "all_donors.shape[1].sample()"
   ]
  },
  {
   "cell_type": "code",
   "execution_count": 372,
   "metadata": {},
   "outputs": [
    {
     "data": {
      "image/png": "[encoded data removed]",
      "text/plain": [
       "<Figure size 432x288 with 1 Axes>"
      ]
     },
     "metadata": {
      "needs_background": "light"
     },
     "output_type": "display_data"
    }
   ],
   "source": [
    "# this code helps you plot the feature importance!\n",
    "\n",
    "def plot_feature_importances_donors(model):\n",
    "    n_features = all_donors.shape[1]\n",
    "    plt.barh(range(n_features), model.feature_importances_, align='center')\n",
    "    plt.yticks(np.arange(n_features), all_donors.columns)\n",
    "    plt.xlabel(\"Feature importance\")\n",
    "    plt.ylabel(\"Feature\")\n",
    "plot_feature_importances_donors(model)"
   ]
  },
  {
   "cell_type": "code",
   "execution_count": null,
   "metadata": {},
   "outputs": [],
   "source": []
  },
  {
   "cell_type": "code",
   "execution_count": null,
   "metadata": {},
   "outputs": [],
   "source": []
  }
 ],
 "metadata": {
  "colab": {
   "collapsed_sections": [],
   "name": "L. 7.01 7.02.ipynb",
   "provenance": [],
   "toc_visible": true
  },
  "kernelspec": {
   "display_name": "Python 3",
   "language": "python",
   "name": "python3"
  },
  "language_info": {
   "codemirror_mode": {
    "name": "ipython",
    "version": 3
   },
   "file_extension": ".py",
   "mimetype": "text/x-python",
   "name": "python",
   "nbconvert_exporter": "python",
   "pygments_lexer": "ipython3",
   "version": "3.7.4"
  }
 },
 "nbformat": 4,
 "nbformat_minor": 1
}
