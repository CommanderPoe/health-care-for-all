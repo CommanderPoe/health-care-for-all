{
 "cells": [
  {
   "cell_type": "code",
   "execution_count": 1,
   "metadata": {},
   "outputs": [],
   "source": [
    "from IPython.core.interactiveshell import InteractiveShell\n",
    "InteractiveShell.ast_node_interactivity = \"all\""
   ]
  },
  {
   "cell_type": "code",
   "execution_count": 2,
   "metadata": {},
   "outputs": [],
   "source": [
    "import pandas as pd\n",
    "import numpy as np\n",
    "pd.set_option('display.max_columns', None)\n",
    "import warnings\n",
    "warnings.filterwarnings('ignore')\n",
    "import matplotlib.pyplot as plt\n",
    "import seaborn as sns"
   ]
  },
  {
   "cell_type": "code",
   "execution_count": 3,
   "metadata": {},
   "outputs": [],
   "source": [
    "numerical = pd.read_csv('numerical.csv')\n",
    "categorical = pd.read_csv('categorical.csv')\n",
    "targets = pd.read_csv('target.csv')\n"
   ]
  },
  {
   "cell_type": "code",
   "execution_count": 4,
   "metadata": {},
   "outputs": [
    {
     "data": {
      "text/plain": [
       "(95412, 323)"
      ]
     },
     "execution_count": 4,
     "metadata": {},
     "output_type": "execute_result"
    }
   ],
   "source": [
    "numerical.shape"
   ]
  },
  {
   "cell_type": "code",
   "execution_count": 5,
   "metadata": {},
   "outputs": [
    {
     "ename": "ValueError",
     "evalue": "Input contains NaN, infinity or a value too large for dtype('float64').",
     "output_type": "error",
     "traceback": [
      "\u001b[0;31m---------------------------------------------------------------------------\u001b[0m",
      "\u001b[0;31mValueError\u001b[0m                                Traceback (most recent call last)",
      "\u001b[0;32m<ipython-input-5-134d5210ad2b>\u001b[0m in \u001b[0;36m<module>\u001b[0;34m\u001b[0m\n\u001b[1;32m      2\u001b[0m \u001b[0msel\u001b[0m \u001b[0;34m=\u001b[0m \u001b[0mVarianceThreshold\u001b[0m\u001b[0;34m(\u001b[0m\u001b[0mthreshold\u001b[0m\u001b[0;34m=\u001b[0m\u001b[0;34m(\u001b[0m\u001b[0;36m.9\u001b[0m\u001b[0;34m)\u001b[0m\u001b[0;34m)\u001b[0m\u001b[0;34m\u001b[0m\u001b[0;34m\u001b[0m\u001b[0m\n\u001b[1;32m      3\u001b[0m \u001b[0;31m# This drops the columns that have a variance less than this threshold\u001b[0m\u001b[0;34m\u001b[0m\u001b[0;34m\u001b[0m\u001b[0;34m\u001b[0m\u001b[0m\n\u001b[0;32m----> 4\u001b[0;31m \u001b[0msel\u001b[0m \u001b[0;34m=\u001b[0m \u001b[0msel\u001b[0m\u001b[0;34m.\u001b[0m\u001b[0mfit\u001b[0m\u001b[0;34m(\u001b[0m\u001b[0mnumerical\u001b[0m\u001b[0;34m)\u001b[0m\u001b[0;34m\u001b[0m\u001b[0;34m\u001b[0m\u001b[0m\n\u001b[0m\u001b[1;32m      5\u001b[0m \u001b[0mtemp\u001b[0m \u001b[0;34m=\u001b[0m \u001b[0msel\u001b[0m\u001b[0;34m.\u001b[0m\u001b[0mtransform\u001b[0m\u001b[0;34m(\u001b[0m\u001b[0mnumerical\u001b[0m\u001b[0;34m)\u001b[0m\u001b[0;34m\u001b[0m\u001b[0;34m\u001b[0m\u001b[0m\n\u001b[1;32m      6\u001b[0m \u001b[0mtemp\u001b[0m \u001b[0;34m=\u001b[0m \u001b[0mpd\u001b[0m\u001b[0;34m.\u001b[0m\u001b[0mDataFrame\u001b[0m\u001b[0;34m(\u001b[0m\u001b[0mtemp\u001b[0m\u001b[0;34m)\u001b[0m\u001b[0;34m\u001b[0m\u001b[0;34m\u001b[0m\u001b[0m\n",
      "\u001b[0;32m~/anaconda3/lib/python3.7/site-packages/sklearn/feature_selection/variance_threshold.py\u001b[0m in \u001b[0;36mfit\u001b[0;34m(self, X, y)\u001b[0m\n\u001b[1;32m     62\u001b[0m         \u001b[0mself\u001b[0m\u001b[0;34m\u001b[0m\u001b[0;34m\u001b[0m\u001b[0m\n\u001b[1;32m     63\u001b[0m         \"\"\"\n\u001b[0;32m---> 64\u001b[0;31m         \u001b[0mX\u001b[0m \u001b[0;34m=\u001b[0m \u001b[0mcheck_array\u001b[0m\u001b[0;34m(\u001b[0m\u001b[0mX\u001b[0m\u001b[0;34m,\u001b[0m \u001b[0;34m(\u001b[0m\u001b[0;34m'csr'\u001b[0m\u001b[0;34m,\u001b[0m \u001b[0;34m'csc'\u001b[0m\u001b[0;34m)\u001b[0m\u001b[0;34m,\u001b[0m \u001b[0mdtype\u001b[0m\u001b[0;34m=\u001b[0m\u001b[0mnp\u001b[0m\u001b[0;34m.\u001b[0m\u001b[0mfloat64\u001b[0m\u001b[0;34m)\u001b[0m\u001b[0;34m\u001b[0m\u001b[0;34m\u001b[0m\u001b[0m\n\u001b[0m\u001b[1;32m     65\u001b[0m \u001b[0;34m\u001b[0m\u001b[0m\n\u001b[1;32m     66\u001b[0m         \u001b[0;32mif\u001b[0m \u001b[0mhasattr\u001b[0m\u001b[0;34m(\u001b[0m\u001b[0mX\u001b[0m\u001b[0;34m,\u001b[0m \u001b[0;34m\"toarray\"\u001b[0m\u001b[0;34m)\u001b[0m\u001b[0;34m:\u001b[0m   \u001b[0;31m# sparse matrix\u001b[0m\u001b[0;34m\u001b[0m\u001b[0;34m\u001b[0m\u001b[0m\n",
      "\u001b[0;32m~/anaconda3/lib/python3.7/site-packages/sklearn/utils/validation.py\u001b[0m in \u001b[0;36mcheck_array\u001b[0;34m(array, accept_sparse, accept_large_sparse, dtype, order, copy, force_all_finite, ensure_2d, allow_nd, ensure_min_samples, ensure_min_features, warn_on_dtype, estimator)\u001b[0m\n\u001b[1;32m    540\u001b[0m         \u001b[0;32mif\u001b[0m \u001b[0mforce_all_finite\u001b[0m\u001b[0;34m:\u001b[0m\u001b[0;34m\u001b[0m\u001b[0;34m\u001b[0m\u001b[0m\n\u001b[1;32m    541\u001b[0m             _assert_all_finite(array,\n\u001b[0;32m--> 542\u001b[0;31m                                allow_nan=force_all_finite == 'allow-nan')\n\u001b[0m\u001b[1;32m    543\u001b[0m \u001b[0;34m\u001b[0m\u001b[0m\n\u001b[1;32m    544\u001b[0m     \u001b[0;32mif\u001b[0m \u001b[0mensure_min_samples\u001b[0m \u001b[0;34m>\u001b[0m \u001b[0;36m0\u001b[0m\u001b[0;34m:\u001b[0m\u001b[0;34m\u001b[0m\u001b[0;34m\u001b[0m\u001b[0m\n",
      "\u001b[0;32m~/anaconda3/lib/python3.7/site-packages/sklearn/utils/validation.py\u001b[0m in \u001b[0;36m_assert_all_finite\u001b[0;34m(X, allow_nan)\u001b[0m\n\u001b[1;32m     54\u001b[0m                 not allow_nan and not np.isfinite(X).all()):\n\u001b[1;32m     55\u001b[0m             \u001b[0mtype_err\u001b[0m \u001b[0;34m=\u001b[0m \u001b[0;34m'infinity'\u001b[0m \u001b[0;32mif\u001b[0m \u001b[0mallow_nan\u001b[0m \u001b[0;32melse\u001b[0m \u001b[0;34m'NaN, infinity'\u001b[0m\u001b[0;34m\u001b[0m\u001b[0;34m\u001b[0m\u001b[0m\n\u001b[0;32m---> 56\u001b[0;31m             \u001b[0;32mraise\u001b[0m \u001b[0mValueError\u001b[0m\u001b[0;34m(\u001b[0m\u001b[0mmsg_err\u001b[0m\u001b[0;34m.\u001b[0m\u001b[0mformat\u001b[0m\u001b[0;34m(\u001b[0m\u001b[0mtype_err\u001b[0m\u001b[0;34m,\u001b[0m \u001b[0mX\u001b[0m\u001b[0;34m.\u001b[0m\u001b[0mdtype\u001b[0m\u001b[0;34m)\u001b[0m\u001b[0;34m)\u001b[0m\u001b[0;34m\u001b[0m\u001b[0;34m\u001b[0m\u001b[0m\n\u001b[0m\u001b[1;32m     57\u001b[0m     \u001b[0;31m# for object dtype data, we only check for NaNs (GH-13254)\u001b[0m\u001b[0;34m\u001b[0m\u001b[0;34m\u001b[0m\u001b[0;34m\u001b[0m\u001b[0m\n\u001b[1;32m     58\u001b[0m     \u001b[0;32melif\u001b[0m \u001b[0mX\u001b[0m\u001b[0;34m.\u001b[0m\u001b[0mdtype\u001b[0m \u001b[0;34m==\u001b[0m \u001b[0mnp\u001b[0m\u001b[0;34m.\u001b[0m\u001b[0mdtype\u001b[0m\u001b[0;34m(\u001b[0m\u001b[0;34m'object'\u001b[0m\u001b[0;34m)\u001b[0m \u001b[0;32mand\u001b[0m \u001b[0;32mnot\u001b[0m \u001b[0mallow_nan\u001b[0m\u001b[0;34m:\u001b[0m\u001b[0;34m\u001b[0m\u001b[0;34m\u001b[0m\u001b[0m\n",
      "\u001b[0;31mValueError\u001b[0m: Input contains NaN, infinity or a value too large for dtype('float64')."
     ]
    }
   ],
   "source": [
    "from sklearn.feature_selection import VarianceThreshold\n",
    "sel = VarianceThreshold(threshold=(.9))\n",
    "# This drops the columns that have a variance less than this threshold\n",
    "sel = sel.fit(numerical)\n",
    "temp = sel.transform(numerical)\n",
    "temp = pd.DataFrame(temp)\n",
    "print(numerical.shape)\n",
    "print(temp.shape)"
   ]
  },
  {
   "cell_type": "code",
   "execution_count": 5,
   "metadata": {},
   "outputs": [],
   "source": [
    "# we dropped 10 columns"
   ]
  },
  {
   "cell_type": "code",
   "execution_count": 6,
   "metadata": {},
   "outputs": [
    {
     "data": {
      "text/plain": [
       "array([9.09809748e+05, 2.08815897e+02, 2.88819327e+00, 7.32048900e+00,\n",
       "       8.66174573e+01, 2.56592472e+01, 1.31572233e+02, 2.27939712e+02,\n",
       "       3.13607695e+02, 1.92868188e+01, 2.62819398e+01, 1.72652418e+01,\n",
       "       8.31170164e+00, 3.29841989e+07, 2.12604334e+06, 4.50749041e+06,\n",
       "       2.24965472e+03, 9.74807925e+02, 1.60301299e+03, 3.09753487e+01,\n",
       "       3.32736401e+01, 4.41578315e+02, 2.78578917e+02, 1.20360456e+01,\n",
       "       4.99809732e+01, 1.90053487e+02, 4.61409700e-01, 4.98251426e+00,\n",
       "       6.41978865e+00, 5.33237152e+00, 1.00706114e+00, 1.11115939e+00,\n",
       "       1.36811691e+00, 1.28447653e+02, 1.67136727e+00, 1.02953264e+01,\n",
       "       1.13250253e+01, 6.94817913e+01, 6.80563524e+01, 6.57568628e+01,\n",
       "       5.27246856e+01, 4.84411762e+01, 4.73710296e+01, 5.64791144e+01,\n",
       "       6.77692565e+01, 4.07109305e+01, 3.39562669e+01, 3.68229986e+01,\n",
       "       6.06488198e+01, 3.85766793e+01, 1.86306173e+01, 1.71850636e+01,\n",
       "       3.60457837e+01, 4.52079107e+01, 2.62231790e+01, 1.36647822e+01,\n",
       "       2.89879175e+01, 2.08128652e+01, 3.18376752e+01, 1.71354621e+02,\n",
       "       5.53754859e+01, 1.68061030e+02, 1.38522535e+02, 6.77733355e+01,\n",
       "       2.11365762e+02, 1.22305015e+02, 4.07392872e+01, 1.43868290e+01,\n",
       "       1.68161972e+02, 2.04612424e+01, 2.38895520e+01, 7.88954973e+01,\n",
       "       2.50409629e+03, 2.49016549e+03, 6.23726075e+02, 6.94481074e+02,\n",
       "       2.87859939e+01, 5.69028421e+02, 5.12814868e+02, 4.18515337e+02,\n",
       "       3.48908444e+01, 1.81034652e+01, 1.57568800e+01, 8.86913700e+05,\n",
       "       8.97528207e+05, 5.32652055e+00, 5.03723051e+00, 4.71626551e+02,\n",
       "       4.36810594e+02, 1.67835698e+02, 9.92154078e+01, 4.40225143e+02,\n",
       "       1.69911003e+02, 2.29118848e+02, 2.63714547e+02, 1.42597023e+02,\n",
       "       1.98992943e+02, 1.44748434e+02, 2.80622899e+01, 1.26312901e+00,\n",
       "       2.19313432e+01, 5.04601405e+01, 8.75328329e+01, 1.69956858e+01,\n",
       "       4.70893666e+01, 2.10941532e+02, 1.51270760e+02, 2.06816328e+01,\n",
       "       1.01466094e+02, 8.52403864e+00, 7.08779722e+02, 1.01744767e+03,\n",
       "       1.34282109e+03, 1.35018529e+03, 8.75923156e+02, 3.26337026e+02,\n",
       "       5.69335002e+01, 4.59622096e+02, 1.15237091e+02, 1.08466554e+02,\n",
       "       6.55266165e+00, 1.39935709e+00, 1.63590936e+02, 2.92729531e+02,\n",
       "       2.07455227e+02, 6.07680265e+01, 5.56473628e+01, 3.17122356e+02,\n",
       "       9.13081328e+00, 1.03651649e+03, 1.22015081e+03, 1.08199559e+03,\n",
       "       5.89310804e+02, 8.19051719e+06, 1.87480863e+04, 1.35216126e+04,\n",
       "       2.65306859e+04, 3.01417228e+04, 2.60079783e+04, 2.94611202e+04,\n",
       "       7.33352775e+07, 2.10555240e+02, 6.33515496e+01, 3.94183551e+01,\n",
       "       5.53240955e+01, 9.38176773e+01, 3.40506149e+01, 1.11975348e+01,\n",
       "       3.69842912e+00, 2.15362396e+01, 1.52302019e+02, 8.41036067e+01,\n",
       "       5.83788799e+01, 7.17863097e+01, 1.13298082e+02, 4.44374412e+01,\n",
       "       1.52660071e+01, 5.39035507e+00, 3.05949240e+01, 1.92232987e+02,\n",
       "       3.86332067e+01, 2.90847715e+02, 9.93481937e+01, 2.55247006e+02,\n",
       "       2.57426711e+02, 1.05166786e+02, 1.76613184e+02, 4.48595607e+01,\n",
       "       3.12585860e+01, 2.09534397e+01, 4.83073540e+00, 5.39862673e-01,\n",
       "       4.83731655e-01, 3.01704032e+01, 1.35998748e+01, 3.88832352e+01,\n",
       "       3.63187552e+02, 4.58702917e+01, 4.39576323e+01, 2.85487576e+01,\n",
       "       3.02805974e+02, 1.85001003e+02, 2.14427088e+02, 1.88837943e+02,\n",
       "       2.24491468e+02, 1.88849079e+02, 2.68630631e+02, 2.98678674e+02,\n",
       "       9.46669299e+02, 1.99993348e+03, 8.55527236e+01, 6.77564571e+01,\n",
       "       5.09595936e+01, 6.58003389e+00, 3.06928942e+01, 3.29144827e+01,\n",
       "       9.90029357e-01, 3.55425941e+00, 3.63309292e+01, 2.60791033e+01,\n",
       "       3.43296086e+01, 3.45114509e+01, 1.03886482e+01, 8.88057011e+00,\n",
       "       3.10329419e+01, 6.05671819e+00, 1.69937134e+01, 1.03368884e+02,\n",
       "       1.02514011e+01, 5.45403687e+00, 9.59386017e+00, 3.81766613e+01,\n",
       "       2.17206576e+01, 9.44998229e+00, 1.04151287e+01, 4.97726169e+00,\n",
       "       2.02173898e+01, 2.87648983e+01, 1.89607655e+01, 1.66738921e+01,\n",
       "       1.82113134e+01, 2.56528254e+01, 1.73215875e+01, 2.99397164e+01,\n",
       "       1.51312157e+02, 1.89665599e+01, 1.07238619e+00, 3.14547369e+02,\n",
       "       6.85354755e+01, 5.77965991e+01, 1.05244762e+02, 5.07413189e+01,\n",
       "       1.15448902e+01, 9.46682895e+01, 4.98024662e+01, 1.46636797e+01,\n",
       "       5.99994776e+01, 1.85617725e+00, 4.06086943e+01, 3.21283001e+01,\n",
       "       1.00452459e+01, 2.40425260e+01, 1.13656118e+00, 2.77776233e+01,\n",
       "       1.09740007e+02, 2.69085792e+00, 2.10076757e+02, 9.46544293e+01,\n",
       "       2.90768213e+02, 1.14788505e+02, 5.26467240e+00, 1.82239326e+01,\n",
       "       1.85118746e+00, 6.84420965e+01, 5.00560879e-01, 2.84182012e-01,\n",
       "       1.10341000e+01, 6.26792705e+00, 4.57912305e+00, 8.30660363e+00,\n",
       "       7.50543449e-01, 2.03448181e+00, 9.55261984e-01, 1.59668289e+00,\n",
       "       1.50631971e-01, 9.30480449e+01, 4.74373398e+02, 2.76556769e+02,\n",
       "       1.45049911e+02, 2.39183281e+01, 2.02834704e+01, 1.56808546e+02,\n",
       "       3.53523530e+02, 1.17759810e+02, 1.59601864e+01, 1.57056765e+02,\n",
       "       3.58937198e+01, 2.89158351e+02, 5.72263775e+02, 1.02641062e+03,\n",
       "       1.00786260e+03, 9.76020601e+02, 5.91458806e+01, 1.16304322e+01,\n",
       "       1.27059315e+03, 1.45642903e+02, 7.82487388e+02, 9.33942722e+01,\n",
       "       2.43664212e-01, 1.08223831e+02, 8.10264790e+02, 7.13101890e+02,\n",
       "       1.26599840e+03, 9.26599104e+01, 1.15339313e+02, 1.24676896e+01,\n",
       "       7.51453665e-01, 8.23878569e+00, 1.05764658e+01, 7.36807495e+01,\n",
       "       5.27632742e+02, 1.48786067e+00, 2.06480231e+01, 1.40611560e+04,\n",
       "       7.31759918e+01, 2.04903508e+01, 7.71618983e+01, 6.28385285e+02,\n",
       "       1.94785482e+02, 6.04824864e+01, 1.15991629e+02, 3.05635453e+09,\n",
       "       2.49999618e-01, 1.15077849e+00, 3.51620199e+02])"
      ]
     },
     "execution_count": 6,
     "metadata": {},
     "output_type": "execute_result"
    }
   ],
   "source": [
    "# To check which columns were removed, you can manipulate the results\n",
    "# from the code below. This gives the variance of each feature in order\n",
    "# of appearance of the dataset.\n",
    "sel.variances_\n"
   ]
  },
  {
   "cell_type": "code",
   "execution_count": 14,
   "metadata": {},
   "outputs": [],
   "source": [
    "#This gives you the result as True and False for the columns that we\n",
    "# selected and those which were removed, respectively.\n",
    "sel.variances_ > .9\n",
    "#sel.get_support()\n",
    "#var_list = list(sel.get_support())"
   ]
  },
  {
   "cell_type": "code",
   "execution_count": 15,
   "metadata": {},
   "outputs": [
    {
     "data": {
      "text/plain": [
       "['ETH6',\n",
       " 'TPE6',\n",
       " 'TPE7',\n",
       " 'ANC5',\n",
       " 'ANC6',\n",
       " 'ANC11',\n",
       " 'ANC15',\n",
       " 'HC15',\n",
       " 'MHUC2',\n",
       " 'HPHONE_D']"
      ]
     },
     "execution_count": 15,
     "metadata": {},
     "output_type": "execute_result"
    }
   ],
   "source": [
    "[col[0] for col in zip(numerical.columns, var_list) if col[1] == False]"
   ]
  },
  {
   "cell_type": "code",
   "execution_count": null,
   "metadata": {},
   "outputs": [],
   "source": [
    "# So these are the 10 columns we dropped\n",
    "# if we also want to see the actual variances we can use this:"
   ]
  },
  {
   "cell_type": "code",
   "execution_count": 16,
   "metadata": {},
   "outputs": [
    {
     "data": {
      "text/html": [
       "<div>\n",
       "<style scoped>\n",
       "    .dataframe tbody tr th:only-of-type {\n",
       "        vertical-align: middle;\n",
       "    }\n",
       "\n",
       "    .dataframe tbody tr th {\n",
       "        vertical-align: top;\n",
       "    }\n",
       "\n",
       "    .dataframe thead th {\n",
       "        text-align: right;\n",
       "    }\n",
       "</style>\n",
       "<table border=\"1\" class=\"dataframe\">\n",
       "  <thead>\n",
       "    <tr style=\"text-align: right;\">\n",
       "      <th></th>\n",
       "      <th>column_name</th>\n",
       "      <th>variance</th>\n",
       "      <th>statement</th>\n",
       "    </tr>\n",
       "  </thead>\n",
       "  <tbody>\n",
       "    <tr>\n",
       "      <th>26</th>\n",
       "      <td>ETH6</td>\n",
       "      <td>0.46141</td>\n",
       "      <td>False</td>\n",
       "    </tr>\n",
       "    <tr>\n",
       "      <th>171</th>\n",
       "      <td>TPE6</td>\n",
       "      <td>0.539863</td>\n",
       "      <td>False</td>\n",
       "    </tr>\n",
       "    <tr>\n",
       "      <th>172</th>\n",
       "      <td>TPE7</td>\n",
       "      <td>0.483732</td>\n",
       "      <td>False</td>\n",
       "    </tr>\n",
       "    <tr>\n",
       "      <th>254</th>\n",
       "      <td>ANC5</td>\n",
       "      <td>0.500561</td>\n",
       "      <td>False</td>\n",
       "    </tr>\n",
       "    <tr>\n",
       "      <th>255</th>\n",
       "      <td>ANC6</td>\n",
       "      <td>0.284182</td>\n",
       "      <td>False</td>\n",
       "    </tr>\n",
       "    <tr>\n",
       "      <th>260</th>\n",
       "      <td>ANC11</td>\n",
       "      <td>0.750543</td>\n",
       "      <td>False</td>\n",
       "    </tr>\n",
       "    <tr>\n",
       "      <th>264</th>\n",
       "      <td>ANC15</td>\n",
       "      <td>0.150632</td>\n",
       "      <td>False</td>\n",
       "    </tr>\n",
       "    <tr>\n",
       "      <th>288</th>\n",
       "      <td>HC15</td>\n",
       "      <td>0.243664</td>\n",
       "      <td>False</td>\n",
       "    </tr>\n",
       "    <tr>\n",
       "      <th>296</th>\n",
       "      <td>MHUC2</td>\n",
       "      <td>0.751454</td>\n",
       "      <td>False</td>\n",
       "    </tr>\n",
       "    <tr>\n",
       "      <th>312</th>\n",
       "      <td>HPHONE_D</td>\n",
       "      <td>0.25</td>\n",
       "      <td>False</td>\n",
       "    </tr>\n",
       "  </tbody>\n",
       "</table>\n",
       "</div>"
      ],
      "text/plain": [
       "    column_name  variance statement\n",
       "26         ETH6   0.46141     False\n",
       "171        TPE6  0.539863     False\n",
       "172        TPE7  0.483732     False\n",
       "254        ANC5  0.500561     False\n",
       "255        ANC6  0.284182     False\n",
       "260       ANC11  0.750543     False\n",
       "264       ANC15  0.150632     False\n",
       "288        HC15  0.243664     False\n",
       "296       MHUC2  0.751454     False\n",
       "312    HPHONE_D      0.25     False"
      ]
     },
     "execution_count": 16,
     "metadata": {},
     "output_type": "execute_result"
    }
   ],
   "source": [
    "removed_columns = pd.DataFrame(data=(numerical.columns,sel.variances_,sel.get_support()), index=('column_name','variance','statement')).T\n",
    "removed_columns.loc[(removed_columns['statement'] == False),:]"
   ]
  },
  {
   "cell_type": "code",
   "execution_count": 34,
   "metadata": {},
   "outputs": [],
   "source": [
    "# In the activity we will do the opposite: look at which are the BEST columns to use"
   ]
  },
  {
   "cell_type": "code",
   "execution_count": 17,
   "metadata": {},
   "outputs": [],
   "source": [
    "# Activity 1\n",
    "#The datasets are provided in the files_for_activities folder.\n",
    "\n",
    "#Let's start with implementing another algorithm for feature selection, \n",
    "#which is the Select K Best. We have provided a code to you that you can use directly. \n",
    "#Your task is to complete the parts missing in the code.\n",
    "#Let's work on the case where the target is categorical and the features are numerical. \n",
    "#You can use the chi square method and select top k features.\n",
    "\n",
    "#As you might notice here, one of the disadvantages of using select_k_best is that we \n",
    "# have to provide the value of k ourself, through an estimated guess.\n",
    "# We will see how the algorithm uses the chi square score to select the top k features. \n",
    "# There is a huge imbalance in the dataset as one category is very under-represented. \n",
    "# For now, check the application on the data (as it is), and later we will talk about \n",
    "# methods to remove the imbalance."
   ]
  },
  {
   "cell_type": "code",
   "execution_count": 18,
   "metadata": {},
   "outputs": [
    {
     "data": {
      "text/html": [
       "<div>\n",
       "<style scoped>\n",
       "    .dataframe tbody tr th:only-of-type {\n",
       "        vertical-align: middle;\n",
       "    }\n",
       "\n",
       "    .dataframe tbody tr th {\n",
       "        vertical-align: top;\n",
       "    }\n",
       "\n",
       "    .dataframe thead th {\n",
       "        text-align: right;\n",
       "    }\n",
       "</style>\n",
       "<table border=\"1\" class=\"dataframe\">\n",
       "  <thead>\n",
       "    <tr style=\"text-align: right;\">\n",
       "      <th></th>\n",
       "      <th>0</th>\n",
       "      <th>1</th>\n",
       "      <th>2</th>\n",
       "      <th>3</th>\n",
       "      <th>4</th>\n",
       "      <th>5</th>\n",
       "      <th>6</th>\n",
       "      <th>7</th>\n",
       "      <th>8</th>\n",
       "      <th>9</th>\n",
       "    </tr>\n",
       "  </thead>\n",
       "  <tbody>\n",
       "    <tr>\n",
       "      <th>0</th>\n",
       "      <td>0.0</td>\n",
       "      <td>992.0</td>\n",
       "      <td>264.0</td>\n",
       "      <td>479.0</td>\n",
       "      <td>635.0</td>\n",
       "      <td>0.0</td>\n",
       "      <td>318.0</td>\n",
       "      <td>12883.0</td>\n",
       "      <td>240.0</td>\n",
       "      <td>95515.0</td>\n",
       "    </tr>\n",
       "    <tr>\n",
       "      <th>1</th>\n",
       "      <td>1.0</td>\n",
       "      <td>3611.0</td>\n",
       "      <td>940.0</td>\n",
       "      <td>5468.0</td>\n",
       "      <td>5218.0</td>\n",
       "      <td>4480.0</td>\n",
       "      <td>1096.0</td>\n",
       "      <td>36175.0</td>\n",
       "      <td>47.0</td>\n",
       "      <td>148535.0</td>\n",
       "    </tr>\n",
       "    <tr>\n",
       "      <th>2</th>\n",
       "      <td>1.0</td>\n",
       "      <td>7001.0</td>\n",
       "      <td>2040.0</td>\n",
       "      <td>497.0</td>\n",
       "      <td>546.0</td>\n",
       "      <td>0.0</td>\n",
       "      <td>292.0</td>\n",
       "      <td>11576.0</td>\n",
       "      <td>202.0</td>\n",
       "      <td>15078.0</td>\n",
       "    </tr>\n",
       "    <tr>\n",
       "      <th>3</th>\n",
       "      <td>0.0</td>\n",
       "      <td>640.0</td>\n",
       "      <td>160.0</td>\n",
       "      <td>1000.0</td>\n",
       "      <td>1263.0</td>\n",
       "      <td>9340.0</td>\n",
       "      <td>388.0</td>\n",
       "      <td>15130.0</td>\n",
       "      <td>109.0</td>\n",
       "      <td>172556.0</td>\n",
       "    </tr>\n",
       "    <tr>\n",
       "      <th>4</th>\n",
       "      <td>0.0</td>\n",
       "      <td>2520.0</td>\n",
       "      <td>627.0</td>\n",
       "      <td>576.0</td>\n",
       "      <td>594.0</td>\n",
       "      <td>5000.0</td>\n",
       "      <td>250.0</td>\n",
       "      <td>9836.0</td>\n",
       "      <td>254.0</td>\n",
       "      <td>7112.0</td>\n",
       "    </tr>\n",
       "  </tbody>\n",
       "</table>\n",
       "</div>"
      ],
      "text/plain": [
       "     0       1       2       3       4       5       6        7      8  \\\n",
       "0  0.0   992.0   264.0   479.0   635.0     0.0   318.0  12883.0  240.0   \n",
       "1  1.0  3611.0   940.0  5468.0  5218.0  4480.0  1096.0  36175.0   47.0   \n",
       "2  1.0  7001.0  2040.0   497.0   546.0     0.0   292.0  11576.0  202.0   \n",
       "3  0.0   640.0   160.0  1000.0  1263.0  9340.0   388.0  15130.0  109.0   \n",
       "4  0.0  2520.0   627.0   576.0   594.0  5000.0   250.0   9836.0  254.0   \n",
       "\n",
       "          9  \n",
       "0   95515.0  \n",
       "1  148535.0  \n",
       "2   15078.0  \n",
       "3  172556.0  \n",
       "4    7112.0  "
      ]
     },
     "execution_count": 18,
     "metadata": {},
     "output_type": "execute_result"
    }
   ],
   "source": []
  },
  {
   "cell_type": "code",
   "execution_count": 19,
   "metadata": {},
   "outputs": [
    {
     "name": "stdout",
     "output_type": "stream",
     "text": [
      "             score    Column\n",
      "311  527716.426176  CONTROLN\n",
      "140  187983.976667       IC5\n",
      "83    49855.611718       HV1\n",
      "84    49561.067003       HV2\n",
      "0     39087.069814     TCODE\n",
      "133   26891.429352       MSA\n",
      "13    17167.230879    POP901\n",
      "137    2921.367106       IC2\n",
      "14     2811.233301    POP902\n",
      "303    2756.199364  RAMNTALL\n"
     ]
    }
   ],
   "source": [
    "\n"
   ]
  },
  {
   "cell_type": "code",
   "execution_count": 20,
   "metadata": {},
   "outputs": [
    {
     "data": {
      "text/plain": [
       "311    CONTROLN\n",
       "140         IC5\n",
       "83          HV1\n",
       "84          HV2\n",
       "0         TCODE\n",
       "133         MSA\n",
       "13       POP901\n",
       "137         IC2\n",
       "14       POP902\n",
       "303    RAMNTALL\n",
       "Name: Column, dtype: object"
      ]
     },
     "execution_count": 20,
     "metadata": {},
     "output_type": "execute_result"
    }
   ],
   "source": []
  },
  {
   "cell_type": "code",
   "execution_count": 21,
   "metadata": {},
   "outputs": [],
   "source": [
    "# End of activity 1"
   ]
  },
  {
   "cell_type": "code",
   "execution_count": 22,
   "metadata": {},
   "outputs": [],
   "source": [
    "# Recursive Feature Elimination"
   ]
  },
  {
   "cell_type": "code",
   "execution_count": 23,
   "metadata": {},
   "outputs": [
    {
     "data": {
      "text/plain": [
       "RFE(estimator=LinearRegression(), n_features_to_select=20, verbose=False)"
      ]
     },
     "execution_count": 23,
     "metadata": {},
     "output_type": "execute_result"
    }
   ],
   "source": [
    "from sklearn.feature_selection import RFE\n",
    "from sklearn import linear_model\n",
    "lm = linear_model.LinearRegression()\n",
    "rfe = RFE(lm, n_features_to_select=20, verbose=False)\n",
    "rfe.fit(X, y)"
   ]
  },
  {
   "cell_type": "code",
   "execution_count": 28,
   "metadata": {},
   "outputs": [
    {
     "data": {
      "text/html": [
       "<div>\n",
       "<style scoped>\n",
       "    .dataframe tbody tr th:only-of-type {\n",
       "        vertical-align: middle;\n",
       "    }\n",
       "\n",
       "    .dataframe tbody tr th {\n",
       "        vertical-align: top;\n",
       "    }\n",
       "\n",
       "    .dataframe thead th {\n",
       "        text-align: right;\n",
       "    }\n",
       "</style>\n",
       "<table border=\"1\" class=\"dataframe\">\n",
       "  <thead>\n",
       "    <tr style=\"text-align: right;\">\n",
       "      <th></th>\n",
       "      <th>Rank</th>\n",
       "      <th>Column_name</th>\n",
       "    </tr>\n",
       "  </thead>\n",
       "  <tbody>\n",
       "    <tr>\n",
       "      <th>2</th>\n",
       "      <td>1</td>\n",
       "      <td>INCOME</td>\n",
       "    </tr>\n",
       "    <tr>\n",
       "      <th>16</th>\n",
       "      <td>1</td>\n",
       "      <td>POP90C1</td>\n",
       "    </tr>\n",
       "    <tr>\n",
       "      <th>17</th>\n",
       "      <td>1</td>\n",
       "      <td>POP90C2</td>\n",
       "    </tr>\n",
       "    <tr>\n",
       "      <th>18</th>\n",
       "      <td>1</td>\n",
       "      <td>POP90C3</td>\n",
       "    </tr>\n",
       "    <tr>\n",
       "      <th>30</th>\n",
       "      <td>1</td>\n",
       "      <td>ETH10</td>\n",
       "    </tr>\n",
       "    <tr>\n",
       "      <th>76</th>\n",
       "      <td>1</td>\n",
       "      <td>DW3</td>\n",
       "    </tr>\n",
       "    <tr>\n",
       "      <th>77</th>\n",
       "      <td>1</td>\n",
       "      <td>DW4</td>\n",
       "    </tr>\n",
       "    <tr>\n",
       "      <th>78</th>\n",
       "      <td>1</td>\n",
       "      <td>DW5</td>\n",
       "    </tr>\n",
       "    <tr>\n",
       "      <th>121</th>\n",
       "      <td>1</td>\n",
       "      <td>RHP4</td>\n",
       "    </tr>\n",
       "    <tr>\n",
       "      <th>122</th>\n",
       "      <td>1</td>\n",
       "      <td>HUPA1</td>\n",
       "    </tr>\n",
       "    <tr>\n",
       "      <th>123</th>\n",
       "      <td>1</td>\n",
       "      <td>HUPA2</td>\n",
       "    </tr>\n",
       "    <tr>\n",
       "      <th>163</th>\n",
       "      <td>1</td>\n",
       "      <td>MC1</td>\n",
       "    </tr>\n",
       "    <tr>\n",
       "      <th>164</th>\n",
       "      <td>1</td>\n",
       "      <td>MC2</td>\n",
       "    </tr>\n",
       "    <tr>\n",
       "      <th>168</th>\n",
       "      <td>1</td>\n",
       "      <td>TPE3</td>\n",
       "    </tr>\n",
       "    <tr>\n",
       "      <th>169</th>\n",
       "      <td>1</td>\n",
       "      <td>TPE4</td>\n",
       "    </tr>\n",
       "    <tr>\n",
       "      <th>170</th>\n",
       "      <td>1</td>\n",
       "      <td>TPE5</td>\n",
       "    </tr>\n",
       "    <tr>\n",
       "      <th>171</th>\n",
       "      <td>1</td>\n",
       "      <td>TPE6</td>\n",
       "    </tr>\n",
       "    <tr>\n",
       "      <th>288</th>\n",
       "      <td>1</td>\n",
       "      <td>HC15</td>\n",
       "    </tr>\n",
       "    <tr>\n",
       "      <th>305</th>\n",
       "      <td>1</td>\n",
       "      <td>CARDGIFT</td>\n",
       "    </tr>\n",
       "    <tr>\n",
       "      <th>313</th>\n",
       "      <td>1</td>\n",
       "      <td>RFA_2F</td>\n",
       "    </tr>\n",
       "  </tbody>\n",
       "</table>\n",
       "</div>"
      ],
      "text/plain": [
       "     Rank Column_name\n",
       "2       1      INCOME\n",
       "16      1     POP90C1\n",
       "17      1     POP90C2\n",
       "18      1     POP90C3\n",
       "30      1       ETH10\n",
       "76      1         DW3\n",
       "77      1         DW4\n",
       "78      1         DW5\n",
       "121     1        RHP4\n",
       "122     1       HUPA1\n",
       "123     1       HUPA2\n",
       "163     1         MC1\n",
       "164     1         MC2\n",
       "168     1        TPE3\n",
       "169     1        TPE4\n",
       "170     1        TPE5\n",
       "171     1        TPE6\n",
       "288     1        HC15\n",
       "305     1    CARDGIFT\n",
       "313     1      RFA_2F"
      ]
     },
     "execution_count": 28,
     "metadata": {},
     "output_type": "execute_result"
    }
   ],
   "source": [
    "# After we run the algorithm, it labels the top features as 1 and the rest are marked in an increasing order of importance.\n",
    "df = pd.DataFrame(data = rfe.ranking_, columns=['Rank'])\n",
    "df['Column_name'] = X.columns\n",
    "df[df['Rank']==1]\n",
    "#df['Rank'].value_counts()"
   ]
  },
  {
   "cell_type": "code",
   "execution_count": 29,
   "metadata": {},
   "outputs": [],
   "source": [
    "# Activity 2\n",
    "# In the previous lessons we have discussed some of the feature selection techniques. \n",
    "# However, there is also something that is called dimensionality reduction. \n",
    "# Conduct your research to find the difference between feature selection and dimensionality reduction.\n"
   ]
  },
  {
   "cell_type": "code",
   "execution_count": 30,
   "metadata": {},
   "outputs": [],
   "source": [
    "# Review inferential statistics - distributions"
   ]
  },
  {
   "cell_type": "code",
   "execution_count": 31,
   "metadata": {},
   "outputs": [],
   "source": [
    "# Activity 3\n",
    "#What are the two main types of probability distributions according to the variable type? \n",
    "#How are they different from each other? Give two examples for each one of them. Also talk about the parameter for each one of those distributions.\n",
    "\n",
    "#What is so special about the normal distribution? Where do we see it occurring?\n",
    "#List down some properties of a normal distribution."
   ]
  },
  {
   "cell_type": "code",
   "execution_count": null,
   "metadata": {},
   "outputs": [],
   "source": [
    "# Review \n",
    "# slides 4-22 from https://www.slideshare.net/jasondroesch/gw-e8ch08"
   ]
  },
  {
   "cell_type": "code",
   "execution_count": 33,
   "metadata": {},
   "outputs": [
    {
     "name": "stdout",
     "output_type": "stream",
     "text": [
      "Statistic is:  -1.750000000000001\n"
     ]
    }
   ],
   "source": [
    "#calculating the Z-statistic\n",
    "from statistics import math\n",
    "\n",
    "sample_mean = 80.94\n",
    "pop_mean = 85\n",
    "pop_std = 11.6\n",
    "n = 25\n",
    "statistic = (sample_mean - pop_mean)/(pop_std/math.sqrt(n))\n",
    "print(\"Statistic is: \", statistic)"
   ]
  },
  {
   "cell_type": "code",
   "execution_count": null,
   "metadata": {},
   "outputs": [],
   "source": [
    "# alpha value is used to determine the cut-off point ('critical region')\n",
    "# for a two-tailed z-test, alpha = 0.05 corresponds to < -1.96 and + > 1.96\n",
    "\n",
    "# for a t-test the values are slightly different, but still close to -2 and +2, \n",
    "# e.g., for 19 degrees of freedom (n=20) they are -2.093 and + 2.093"
   ]
  },
  {
   "cell_type": "code",
   "execution_count": null,
   "metadata": {},
   "outputs": [],
   "source": [
    "# alternatively we could calculate the t-statistic for this test\n",
    "# from statistics import math\n",
    "\n",
    "# sample_mean = 80.94\n",
    "# pop_mean = 85\n",
    "# # compute standard error of the mean\n",
    "# standard_error = sem(data) # note that we do not have the actual data, so this will not work here\n",
    "# n = 25\n",
    "# statistic = (sample_mean - pop_mean)/(standard_error/math.sqrt(n))\n",
    "# print(\"Statistic is: \", statistic)\n"
   ]
  }
 ],
 "metadata": {
  "kernelspec": {
   "display_name": "Python 3",
   "language": "python",
   "name": "python3"
  },
  "language_info": {
   "codemirror_mode": {
    "name": "ipython",
    "version": 3
   },
   "file_extension": ".py",
   "mimetype": "text/x-python",
   "name": "python",
   "nbconvert_exporter": "python",
   "pygments_lexer": "ipython3",
   "version": "3.7.4"
  }
 },
 "nbformat": 4,
 "nbformat_minor": 4
}
